{
 "cells": [
  {
   "cell_type": "code",
   "execution_count": 7,
   "metadata": {},
   "outputs": [],
   "source": [
    "import gcsfs\n",
    "import zarr\n",
    "\n",
    "gcs_anon = gcsfs.GCSFileSystem(token='anon', access='read_only')\n",
    "\n",
    "\n",
    "def open_ag1000g_phase2_all():\n",
    "    storage_path = 'ag1000g-release/phase2.AR1/variation/main/zarr/all/ag1000g.phase2.ar1'\n",
    "    store = gcsfs.mapping.GCSMap(storage_path, gcs=gcs_anon, check=False, create=False)\n",
    "    callset = zarr.open_consolidated(store)\n",
    "    return callset\n",
    "\n",
    "\n",
    "def open_ag1000g_phase2_pass():\n",
    "    storage_path = 'ag1000g-release/phase2.AR1/variation/main/zarr/pass/ag1000g.phase2.ar1.pass'\n",
    "    store = gcsfs.mapping.GCSMap(storage_path, gcs=gcs_anon, check=False, create=False)\n",
    "    callset = zarr.open_consolidated(store)\n",
    "    return callset\n",
    "\n",
    "\n",
    "def open_ag1000g_phase2_haps():\n",
    "    storage_path = 'ag1000g-release/phase2.AR1/haplotypes/main/zarr/ag1000g.phase2.ar1.haplotypes'\n",
    "    store = gcsfs.mapping.GCSMap(storage_path, gcs=gcs_anon, check=False, create=False)\n",
    "    callset = zarr.open_consolidated(store)\n",
    "    return callset\n",
    "\n"
   ]
  },
  {
   "cell_type": "code",
   "execution_count": 8,
   "metadata": {},
   "outputs": [
    {
     "data": {
      "text/plain": [
       "<zarr.hierarchy.Group '/'>"
      ]
     },
     "execution_count": 8,
     "metadata": {},
     "output_type": "execute_result"
    }
   ],
   "source": [
    "callset_all = open_ag1000g_phase2_all()\n",
    "callset_all"
   ]
  },
  {
   "cell_type": "code",
   "execution_count": 11,
   "metadata": {},
   "outputs": [
    {
     "data": {
      "text/plain": [
       "<zarr.hierarchy.Group '/'>"
      ]
     },
     "execution_count": 11,
     "metadata": {},
     "output_type": "execute_result"
    }
   ],
   "source": [
    "callset_pass = open_ag1000g_phase2_pass()\n",
    "callset_pass"
   ]
  },
  {
   "cell_type": "code",
   "execution_count": 12,
   "metadata": {},
   "outputs": [
    {
     "data": {
      "text/plain": [
       "<zarr.hierarchy.Group '/'>"
      ]
     },
     "execution_count": 12,
     "metadata": {},
     "output_type": "execute_result"
    }
   ],
   "source": [
    "callset_haps = open_ag1000g_phase2_haps()\n",
    "callset_haps"
   ]
  },
  {
   "cell_type": "code",
   "execution_count": null,
   "metadata": {},
   "outputs": [],
   "source": []
  }
 ],
 "metadata": {
  "kernelspec": {
   "display_name": "Python 3",
   "language": "python",
   "name": "python3"
  },
  "language_info": {
   "codemirror_mode": {
    "name": "ipython",
    "version": 3
   },
   "file_extension": ".py",
   "mimetype": "text/x-python",
   "name": "python",
   "nbconvert_exporter": "python",
   "pygments_lexer": "ipython3",
   "version": "3.7.6"
  }
 },
 "nbformat": 4,
 "nbformat_minor": 4
}
