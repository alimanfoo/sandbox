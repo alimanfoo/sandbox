{
 "cells": [
  {
   "cell_type": "markdown",
   "metadata": {},
   "source": [
    "# Computing average Fst between populations in the Lehmann (Ag 3.1) cohort"
   ]
  },
  {
   "cell_type": "code",
   "execution_count": 1,
   "metadata": {},
   "outputs": [],
   "source": [
    "import datetime\n",
    "import functools\n",
    "import intake\n",
    "import allel\n",
    "import matplotlib.pyplot as plt\n",
    "import numpy as np\n",
    "from dask_kubernetes import KubeCluster\n",
    "from dask.distributed import Client\n",
    "%matplotlib inline"
   ]
  },
  {
   "cell_type": "markdown",
   "metadata": {},
   "source": [
    "## Data setup"
   ]
  },
  {
   "cell_type": "code",
   "execution_count": 2,
   "metadata": {},
   "outputs": [],
   "source": [
    "cat = intake.open_catalog('https://malariagen.github.io/intake/gcs.yml')"
   ]
  },
  {
   "cell_type": "code",
   "execution_count": 3,
   "metadata": {},
   "outputs": [
    {
     "name": "stderr",
     "output_type": "stream",
     "text": [
      "/opt/conda/lib/python3.7/site-packages/dask/dataframe/utils.py:14: FutureWarning: pandas.util.testing is deprecated. Use the functions in the public API at pandas.testing instead.\n",
      "  import pandas.util.testing as tm\n"
     ]
    },
    {
     "data": {
      "text/html": [
       "<div>\n",
       "<style scoped>\n",
       "    .dataframe tbody tr th:only-of-type {\n",
       "        vertical-align: middle;\n",
       "    }\n",
       "\n",
       "    .dataframe tbody tr th {\n",
       "        vertical-align: top;\n",
       "    }\n",
       "\n",
       "    .dataframe thead th {\n",
       "        text-align: right;\n",
       "    }\n",
       "</style>\n",
       "<table border=\"1\" class=\"dataframe\">\n",
       "  <thead>\n",
       "    <tr style=\"text-align: right;\">\n",
       "      <th></th>\n",
       "      <th>sample_set</th>\n",
       "      <th>sample_count</th>\n",
       "    </tr>\n",
       "  </thead>\n",
       "  <tbody>\n",
       "    <tr>\n",
       "      <th>0</th>\n",
       "      <td>1177-VO-ML-LEHMANN-MNF00004</td>\n",
       "      <td>648</td>\n",
       "    </tr>\n",
       "  </tbody>\n",
       "</table>\n",
       "</div>"
      ],
      "text/plain": [
       "                    sample_set  sample_count\n",
       "0  1177-VO-ML-LEHMANN-MNF00004           648"
      ]
     },
     "execution_count": 3,
     "metadata": {},
     "output_type": "execute_result"
    }
   ],
   "source": [
    "df_sets = cat.ag3_1.sample_sets.read()\n",
    "df_sets"
   ]
  },
  {
   "cell_type": "code",
   "execution_count": 4,
   "metadata": {},
   "outputs": [
    {
     "data": {
      "text/html": [
       "<div>\n",
       "<style scoped>\n",
       "    .dataframe tbody tr th:only-of-type {\n",
       "        vertical-align: middle;\n",
       "    }\n",
       "\n",
       "    .dataframe tbody tr th {\n",
       "        vertical-align: top;\n",
       "    }\n",
       "\n",
       "    .dataframe thead th {\n",
       "        text-align: right;\n",
       "    }\n",
       "</style>\n",
       "<table border=\"1\" class=\"dataframe\">\n",
       "  <thead>\n",
       "    <tr style=\"text-align: right;\">\n",
       "      <th></th>\n",
       "      <th>sample_id</th>\n",
       "      <th>partner_sample_id</th>\n",
       "      <th>contributor</th>\n",
       "      <th>country</th>\n",
       "      <th>location</th>\n",
       "      <th>year</th>\n",
       "      <th>month</th>\n",
       "      <th>latitude</th>\n",
       "      <th>longitude</th>\n",
       "      <th>sex_call</th>\n",
       "    </tr>\n",
       "  </thead>\n",
       "  <tbody>\n",
       "    <tr>\n",
       "      <th>0</th>\n",
       "      <td>VBS00256-4651STDY7017184</td>\n",
       "      <td>GP97</td>\n",
       "      <td>Tovi Lehmann</td>\n",
       "      <td>Mali</td>\n",
       "      <td>Dallowere</td>\n",
       "      <td>2012</td>\n",
       "      <td>6</td>\n",
       "      <td>13.616</td>\n",
       "      <td>-7.037</td>\n",
       "      <td>F</td>\n",
       "    </tr>\n",
       "    <tr>\n",
       "      <th>1</th>\n",
       "      <td>VBS00257-4651STDY7017185</td>\n",
       "      <td>GP98</td>\n",
       "      <td>Tovi Lehmann</td>\n",
       "      <td>Mali</td>\n",
       "      <td>Dallowere</td>\n",
       "      <td>2012</td>\n",
       "      <td>6</td>\n",
       "      <td>13.616</td>\n",
       "      <td>-7.037</td>\n",
       "      <td>F</td>\n",
       "    </tr>\n",
       "    <tr>\n",
       "      <th>2</th>\n",
       "      <td>VBS00259-4651STDY7017186</td>\n",
       "      <td>GP100</td>\n",
       "      <td>Tovi Lehmann</td>\n",
       "      <td>Mali</td>\n",
       "      <td>Dallowere</td>\n",
       "      <td>2012</td>\n",
       "      <td>6</td>\n",
       "      <td>13.616</td>\n",
       "      <td>-7.037</td>\n",
       "      <td>F</td>\n",
       "    </tr>\n",
       "    <tr>\n",
       "      <th>3</th>\n",
       "      <td>VBS00262-4651STDY7017187</td>\n",
       "      <td>GP103</td>\n",
       "      <td>Tovi Lehmann</td>\n",
       "      <td>Mali</td>\n",
       "      <td>Dallowere</td>\n",
       "      <td>2012</td>\n",
       "      <td>6</td>\n",
       "      <td>13.616</td>\n",
       "      <td>-7.037</td>\n",
       "      <td>F</td>\n",
       "    </tr>\n",
       "    <tr>\n",
       "      <th>4</th>\n",
       "      <td>VBS00277-4651STDY7017189</td>\n",
       "      <td>GP118</td>\n",
       "      <td>Tovi Lehmann</td>\n",
       "      <td>Mali</td>\n",
       "      <td>Dallowere</td>\n",
       "      <td>2012</td>\n",
       "      <td>6</td>\n",
       "      <td>13.616</td>\n",
       "      <td>-7.037</td>\n",
       "      <td>F</td>\n",
       "    </tr>\n",
       "    <tr>\n",
       "      <th>...</th>\n",
       "      <td>...</td>\n",
       "      <td>...</td>\n",
       "      <td>...</td>\n",
       "      <td>...</td>\n",
       "      <td>...</td>\n",
       "      <td>...</td>\n",
       "      <td>...</td>\n",
       "      <td>...</td>\n",
       "      <td>...</td>\n",
       "      <td>...</td>\n",
       "    </tr>\n",
       "    <tr>\n",
       "      <th>643</th>\n",
       "      <td>VBS01998-4651STDY7017922</td>\n",
       "      <td>GP1839</td>\n",
       "      <td>Tovi Lehmann</td>\n",
       "      <td>Mali</td>\n",
       "      <td>Sokourani (Niono)</td>\n",
       "      <td>2015</td>\n",
       "      <td>10</td>\n",
       "      <td>14.226</td>\n",
       "      <td>-5.975</td>\n",
       "      <td>F</td>\n",
       "    </tr>\n",
       "    <tr>\n",
       "      <th>644</th>\n",
       "      <td>VBS02000-4651STDY7017924</td>\n",
       "      <td>GP1841</td>\n",
       "      <td>Tovi Lehmann</td>\n",
       "      <td>Mali</td>\n",
       "      <td>Sokourani (Niono)</td>\n",
       "      <td>2015</td>\n",
       "      <td>10</td>\n",
       "      <td>14.226</td>\n",
       "      <td>-5.975</td>\n",
       "      <td>F</td>\n",
       "    </tr>\n",
       "    <tr>\n",
       "      <th>645</th>\n",
       "      <td>VBS02001-4651STDY7017925</td>\n",
       "      <td>GP1842</td>\n",
       "      <td>Tovi Lehmann</td>\n",
       "      <td>Mali</td>\n",
       "      <td>Sokourani (Niono)</td>\n",
       "      <td>2015</td>\n",
       "      <td>10</td>\n",
       "      <td>14.226</td>\n",
       "      <td>-5.975</td>\n",
       "      <td>F</td>\n",
       "    </tr>\n",
       "    <tr>\n",
       "      <th>646</th>\n",
       "      <td>VBS02002-4651STDY7017926</td>\n",
       "      <td>GP1843</td>\n",
       "      <td>Tovi Lehmann</td>\n",
       "      <td>Mali</td>\n",
       "      <td>Sokourani (Niono)</td>\n",
       "      <td>2015</td>\n",
       "      <td>10</td>\n",
       "      <td>14.226</td>\n",
       "      <td>-5.975</td>\n",
       "      <td>F</td>\n",
       "    </tr>\n",
       "    <tr>\n",
       "      <th>647</th>\n",
       "      <td>VBS06347-4651STDY7017927</td>\n",
       "      <td>GP1844</td>\n",
       "      <td>Tovi Lehmann</td>\n",
       "      <td>Mali</td>\n",
       "      <td>Sokourani (Niono)</td>\n",
       "      <td>2015</td>\n",
       "      <td>10</td>\n",
       "      <td>14.226</td>\n",
       "      <td>-5.975</td>\n",
       "      <td>F</td>\n",
       "    </tr>\n",
       "  </tbody>\n",
       "</table>\n",
       "<p>648 rows × 10 columns</p>\n",
       "</div>"
      ],
      "text/plain": [
       "                    sample_id partner_sample_id   contributor country  \\\n",
       "0    VBS00256-4651STDY7017184              GP97  Tovi Lehmann    Mali   \n",
       "1    VBS00257-4651STDY7017185              GP98  Tovi Lehmann    Mali   \n",
       "2    VBS00259-4651STDY7017186             GP100  Tovi Lehmann    Mali   \n",
       "3    VBS00262-4651STDY7017187             GP103  Tovi Lehmann    Mali   \n",
       "4    VBS00277-4651STDY7017189             GP118  Tovi Lehmann    Mali   \n",
       "..                        ...               ...           ...     ...   \n",
       "643  VBS01998-4651STDY7017922            GP1839  Tovi Lehmann    Mali   \n",
       "644  VBS02000-4651STDY7017924            GP1841  Tovi Lehmann    Mali   \n",
       "645  VBS02001-4651STDY7017925            GP1842  Tovi Lehmann    Mali   \n",
       "646  VBS02002-4651STDY7017926            GP1843  Tovi Lehmann    Mali   \n",
       "647  VBS06347-4651STDY7017927            GP1844  Tovi Lehmann    Mali   \n",
       "\n",
       "              location  year  month  latitude  longitude sex_call  \n",
       "0            Dallowere  2012      6    13.616     -7.037        F  \n",
       "1            Dallowere  2012      6    13.616     -7.037        F  \n",
       "2            Dallowere  2012      6    13.616     -7.037        F  \n",
       "3            Dallowere  2012      6    13.616     -7.037        F  \n",
       "4            Dallowere  2012      6    13.616     -7.037        F  \n",
       "..                 ...   ...    ...       ...        ...      ...  \n",
       "643  Sokourani (Niono)  2015     10    14.226     -5.975        F  \n",
       "644  Sokourani (Niono)  2015     10    14.226     -5.975        F  \n",
       "645  Sokourani (Niono)  2015     10    14.226     -5.975        F  \n",
       "646  Sokourani (Niono)  2015     10    14.226     -5.975        F  \n",
       "647  Sokourani (Niono)  2015     10    14.226     -5.975        F  \n",
       "\n",
       "[648 rows x 10 columns]"
      ]
     },
     "execution_count": 4,
     "metadata": {},
     "output_type": "execute_result"
    }
   ],
   "source": [
    "df_samples = cat.ag3_1.samples(sample_set='1177-VO-ML-LEHMANN-MNF00004').read()\n",
    "df_samples"
   ]
  },
  {
   "cell_type": "code",
   "execution_count": 5,
   "metadata": {},
   "outputs": [
    {
     "data": {
      "text/plain": [
       "species\n",
       "arabiensis                           29\n",
       "coluzzii                            574\n",
       "gambiae                              44\n",
       "intermediate_gambcolu_arabiensis      1\n",
       "dtype: int64"
      ]
     },
     "execution_count": 5,
     "metadata": {},
     "output_type": "execute_result"
    }
   ],
   "source": [
    "df_species = cat.ag3_1.species_calls_20200422_aim(sample_set='1177-VO-ML-LEHMANN-MNF00004').read()\n",
    "# call species - just use AIMs, should be fine\n",
    "df_species.species_gambcolu_arabiensis.replace({'intermediate': 'intermediate_gambcolu_arabiensis'}, inplace=True)\n",
    "df_species.species_gambiae_coluzzii.replace({'intermediate': 'intermediate_gambiae_coluzzii'}, inplace=True)\n",
    "df_species['species'] = df_species.species_gambcolu_arabiensis.copy()\n",
    "loc_gamb_colu = df_species.species_gambcolu_arabiensis == 'gamb_colu'\n",
    "df_species.loc[loc_gamb_colu, 'species'] = df_species.species_gambiae_coluzzii[loc_gamb_colu]\n",
    "df_species.groupby('species').size()"
   ]
  },
  {
   "cell_type": "code",
   "execution_count": 6,
   "metadata": {},
   "outputs": [
    {
     "data": {
      "text/html": [
       "<div>\n",
       "<style scoped>\n",
       "    .dataframe tbody tr th:only-of-type {\n",
       "        vertical-align: middle;\n",
       "    }\n",
       "\n",
       "    .dataframe tbody tr th {\n",
       "        vertical-align: top;\n",
       "    }\n",
       "\n",
       "    .dataframe thead th {\n",
       "        text-align: right;\n",
       "    }\n",
       "</style>\n",
       "<table border=\"1\" class=\"dataframe\">\n",
       "  <thead>\n",
       "    <tr style=\"text-align: right;\">\n",
       "      <th></th>\n",
       "      <th>sample_id</th>\n",
       "      <th>partner_sample_id</th>\n",
       "      <th>contributor</th>\n",
       "      <th>country</th>\n",
       "      <th>location</th>\n",
       "      <th>year</th>\n",
       "      <th>month</th>\n",
       "      <th>latitude</th>\n",
       "      <th>longitude</th>\n",
       "      <th>sex_call</th>\n",
       "      <th>aim_fraction_colu</th>\n",
       "      <th>aim_fraction_arab</th>\n",
       "      <th>species_gambcolu_arabiensis</th>\n",
       "      <th>species_gambiae_coluzzii</th>\n",
       "      <th>species</th>\n",
       "    </tr>\n",
       "  </thead>\n",
       "  <tbody>\n",
       "    <tr>\n",
       "      <th>0</th>\n",
       "      <td>VBS00256-4651STDY7017184</td>\n",
       "      <td>GP97</td>\n",
       "      <td>Tovi Lehmann</td>\n",
       "      <td>Mali</td>\n",
       "      <td>Dallowere</td>\n",
       "      <td>2012</td>\n",
       "      <td>6</td>\n",
       "      <td>13.616</td>\n",
       "      <td>-7.037</td>\n",
       "      <td>F</td>\n",
       "      <td>0.975</td>\n",
       "      <td>0.002</td>\n",
       "      <td>gamb_colu</td>\n",
       "      <td>coluzzii</td>\n",
       "      <td>coluzzii</td>\n",
       "    </tr>\n",
       "    <tr>\n",
       "      <th>1</th>\n",
       "      <td>VBS00257-4651STDY7017185</td>\n",
       "      <td>GP98</td>\n",
       "      <td>Tovi Lehmann</td>\n",
       "      <td>Mali</td>\n",
       "      <td>Dallowere</td>\n",
       "      <td>2012</td>\n",
       "      <td>6</td>\n",
       "      <td>13.616</td>\n",
       "      <td>-7.037</td>\n",
       "      <td>F</td>\n",
       "      <td>0.983</td>\n",
       "      <td>0.002</td>\n",
       "      <td>gamb_colu</td>\n",
       "      <td>coluzzii</td>\n",
       "      <td>coluzzii</td>\n",
       "    </tr>\n",
       "    <tr>\n",
       "      <th>2</th>\n",
       "      <td>VBS00259-4651STDY7017186</td>\n",
       "      <td>GP100</td>\n",
       "      <td>Tovi Lehmann</td>\n",
       "      <td>Mali</td>\n",
       "      <td>Dallowere</td>\n",
       "      <td>2012</td>\n",
       "      <td>6</td>\n",
       "      <td>13.616</td>\n",
       "      <td>-7.037</td>\n",
       "      <td>F</td>\n",
       "      <td>0.974</td>\n",
       "      <td>0.002</td>\n",
       "      <td>gamb_colu</td>\n",
       "      <td>coluzzii</td>\n",
       "      <td>coluzzii</td>\n",
       "    </tr>\n",
       "    <tr>\n",
       "      <th>3</th>\n",
       "      <td>VBS00262-4651STDY7017187</td>\n",
       "      <td>GP103</td>\n",
       "      <td>Tovi Lehmann</td>\n",
       "      <td>Mali</td>\n",
       "      <td>Dallowere</td>\n",
       "      <td>2012</td>\n",
       "      <td>6</td>\n",
       "      <td>13.616</td>\n",
       "      <td>-7.037</td>\n",
       "      <td>F</td>\n",
       "      <td>0.977</td>\n",
       "      <td>0.002</td>\n",
       "      <td>gamb_colu</td>\n",
       "      <td>coluzzii</td>\n",
       "      <td>coluzzii</td>\n",
       "    </tr>\n",
       "    <tr>\n",
       "      <th>4</th>\n",
       "      <td>VBS00277-4651STDY7017189</td>\n",
       "      <td>GP118</td>\n",
       "      <td>Tovi Lehmann</td>\n",
       "      <td>Mali</td>\n",
       "      <td>Dallowere</td>\n",
       "      <td>2012</td>\n",
       "      <td>6</td>\n",
       "      <td>13.616</td>\n",
       "      <td>-7.037</td>\n",
       "      <td>F</td>\n",
       "      <td>0.986</td>\n",
       "      <td>0.002</td>\n",
       "      <td>gamb_colu</td>\n",
       "      <td>coluzzii</td>\n",
       "      <td>coluzzii</td>\n",
       "    </tr>\n",
       "    <tr>\n",
       "      <th>...</th>\n",
       "      <td>...</td>\n",
       "      <td>...</td>\n",
       "      <td>...</td>\n",
       "      <td>...</td>\n",
       "      <td>...</td>\n",
       "      <td>...</td>\n",
       "      <td>...</td>\n",
       "      <td>...</td>\n",
       "      <td>...</td>\n",
       "      <td>...</td>\n",
       "      <td>...</td>\n",
       "      <td>...</td>\n",
       "      <td>...</td>\n",
       "      <td>...</td>\n",
       "      <td>...</td>\n",
       "    </tr>\n",
       "    <tr>\n",
       "      <th>643</th>\n",
       "      <td>VBS01998-4651STDY7017922</td>\n",
       "      <td>GP1839</td>\n",
       "      <td>Tovi Lehmann</td>\n",
       "      <td>Mali</td>\n",
       "      <td>Sokourani (Niono)</td>\n",
       "      <td>2015</td>\n",
       "      <td>10</td>\n",
       "      <td>14.226</td>\n",
       "      <td>-5.975</td>\n",
       "      <td>F</td>\n",
       "      <td>0.972</td>\n",
       "      <td>0.002</td>\n",
       "      <td>gamb_colu</td>\n",
       "      <td>coluzzii</td>\n",
       "      <td>coluzzii</td>\n",
       "    </tr>\n",
       "    <tr>\n",
       "      <th>644</th>\n",
       "      <td>VBS02000-4651STDY7017924</td>\n",
       "      <td>GP1841</td>\n",
       "      <td>Tovi Lehmann</td>\n",
       "      <td>Mali</td>\n",
       "      <td>Sokourani (Niono)</td>\n",
       "      <td>2015</td>\n",
       "      <td>10</td>\n",
       "      <td>14.226</td>\n",
       "      <td>-5.975</td>\n",
       "      <td>F</td>\n",
       "      <td>0.988</td>\n",
       "      <td>0.002</td>\n",
       "      <td>gamb_colu</td>\n",
       "      <td>coluzzii</td>\n",
       "      <td>coluzzii</td>\n",
       "    </tr>\n",
       "    <tr>\n",
       "      <th>645</th>\n",
       "      <td>VBS02001-4651STDY7017925</td>\n",
       "      <td>GP1842</td>\n",
       "      <td>Tovi Lehmann</td>\n",
       "      <td>Mali</td>\n",
       "      <td>Sokourani (Niono)</td>\n",
       "      <td>2015</td>\n",
       "      <td>10</td>\n",
       "      <td>14.226</td>\n",
       "      <td>-5.975</td>\n",
       "      <td>F</td>\n",
       "      <td>0.985</td>\n",
       "      <td>0.002</td>\n",
       "      <td>gamb_colu</td>\n",
       "      <td>coluzzii</td>\n",
       "      <td>coluzzii</td>\n",
       "    </tr>\n",
       "    <tr>\n",
       "      <th>646</th>\n",
       "      <td>VBS02002-4651STDY7017926</td>\n",
       "      <td>GP1843</td>\n",
       "      <td>Tovi Lehmann</td>\n",
       "      <td>Mali</td>\n",
       "      <td>Sokourani (Niono)</td>\n",
       "      <td>2015</td>\n",
       "      <td>10</td>\n",
       "      <td>14.226</td>\n",
       "      <td>-5.975</td>\n",
       "      <td>F</td>\n",
       "      <td>0.976</td>\n",
       "      <td>0.002</td>\n",
       "      <td>gamb_colu</td>\n",
       "      <td>coluzzii</td>\n",
       "      <td>coluzzii</td>\n",
       "    </tr>\n",
       "    <tr>\n",
       "      <th>647</th>\n",
       "      <td>VBS06347-4651STDY7017927</td>\n",
       "      <td>GP1844</td>\n",
       "      <td>Tovi Lehmann</td>\n",
       "      <td>Mali</td>\n",
       "      <td>Sokourani (Niono)</td>\n",
       "      <td>2015</td>\n",
       "      <td>10</td>\n",
       "      <td>14.226</td>\n",
       "      <td>-5.975</td>\n",
       "      <td>F</td>\n",
       "      <td>0.977</td>\n",
       "      <td>0.002</td>\n",
       "      <td>gamb_colu</td>\n",
       "      <td>coluzzii</td>\n",
       "      <td>coluzzii</td>\n",
       "    </tr>\n",
       "  </tbody>\n",
       "</table>\n",
       "<p>648 rows × 15 columns</p>\n",
       "</div>"
      ],
      "text/plain": [
       "                    sample_id partner_sample_id   contributor country  \\\n",
       "0    VBS00256-4651STDY7017184              GP97  Tovi Lehmann    Mali   \n",
       "1    VBS00257-4651STDY7017185              GP98  Tovi Lehmann    Mali   \n",
       "2    VBS00259-4651STDY7017186             GP100  Tovi Lehmann    Mali   \n",
       "3    VBS00262-4651STDY7017187             GP103  Tovi Lehmann    Mali   \n",
       "4    VBS00277-4651STDY7017189             GP118  Tovi Lehmann    Mali   \n",
       "..                        ...               ...           ...     ...   \n",
       "643  VBS01998-4651STDY7017922            GP1839  Tovi Lehmann    Mali   \n",
       "644  VBS02000-4651STDY7017924            GP1841  Tovi Lehmann    Mali   \n",
       "645  VBS02001-4651STDY7017925            GP1842  Tovi Lehmann    Mali   \n",
       "646  VBS02002-4651STDY7017926            GP1843  Tovi Lehmann    Mali   \n",
       "647  VBS06347-4651STDY7017927            GP1844  Tovi Lehmann    Mali   \n",
       "\n",
       "              location  year  month  latitude  longitude sex_call  \\\n",
       "0            Dallowere  2012      6    13.616     -7.037        F   \n",
       "1            Dallowere  2012      6    13.616     -7.037        F   \n",
       "2            Dallowere  2012      6    13.616     -7.037        F   \n",
       "3            Dallowere  2012      6    13.616     -7.037        F   \n",
       "4            Dallowere  2012      6    13.616     -7.037        F   \n",
       "..                 ...   ...    ...       ...        ...      ...   \n",
       "643  Sokourani (Niono)  2015     10    14.226     -5.975        F   \n",
       "644  Sokourani (Niono)  2015     10    14.226     -5.975        F   \n",
       "645  Sokourani (Niono)  2015     10    14.226     -5.975        F   \n",
       "646  Sokourani (Niono)  2015     10    14.226     -5.975        F   \n",
       "647  Sokourani (Niono)  2015     10    14.226     -5.975        F   \n",
       "\n",
       "     aim_fraction_colu  aim_fraction_arab species_gambcolu_arabiensis  \\\n",
       "0                0.975              0.002                   gamb_colu   \n",
       "1                0.983              0.002                   gamb_colu   \n",
       "2                0.974              0.002                   gamb_colu   \n",
       "3                0.977              0.002                   gamb_colu   \n",
       "4                0.986              0.002                   gamb_colu   \n",
       "..                 ...                ...                         ...   \n",
       "643              0.972              0.002                   gamb_colu   \n",
       "644              0.988              0.002                   gamb_colu   \n",
       "645              0.985              0.002                   gamb_colu   \n",
       "646              0.976              0.002                   gamb_colu   \n",
       "647              0.977              0.002                   gamb_colu   \n",
       "\n",
       "    species_gambiae_coluzzii   species  \n",
       "0                   coluzzii  coluzzii  \n",
       "1                   coluzzii  coluzzii  \n",
       "2                   coluzzii  coluzzii  \n",
       "3                   coluzzii  coluzzii  \n",
       "4                   coluzzii  coluzzii  \n",
       "..                       ...       ...  \n",
       "643                 coluzzii  coluzzii  \n",
       "644                 coluzzii  coluzzii  \n",
       "645                 coluzzii  coluzzii  \n",
       "646                 coluzzii  coluzzii  \n",
       "647                 coluzzii  coluzzii  \n",
       "\n",
       "[648 rows x 15 columns]"
      ]
     },
     "execution_count": 6,
     "metadata": {},
     "output_type": "execute_result"
    }
   ],
   "source": [
    "df_meta = df_samples.merge(df_species, on='sample_id', how='left', sort=False)\n",
    "df_meta"
   ]
  },
  {
   "cell_type": "code",
   "execution_count": 7,
   "metadata": {},
   "outputs": [
    {
     "data": {
      "text/html": [
       "<div>\n",
       "<style scoped>\n",
       "    .dataframe tbody tr th:only-of-type {\n",
       "        vertical-align: middle;\n",
       "    }\n",
       "\n",
       "    .dataframe tbody tr th {\n",
       "        vertical-align: top;\n",
       "    }\n",
       "\n",
       "    .dataframe thead th {\n",
       "        text-align: right;\n",
       "    }\n",
       "</style>\n",
       "<table border=\"1\" class=\"dataframe\">\n",
       "  <thead>\n",
       "    <tr style=\"text-align: right;\">\n",
       "      <th></th>\n",
       "      <th>sample_id</th>\n",
       "      <th>partner_sample_id</th>\n",
       "      <th>contributor</th>\n",
       "      <th>country</th>\n",
       "      <th>location</th>\n",
       "      <th>year</th>\n",
       "      <th>month</th>\n",
       "      <th>latitude</th>\n",
       "      <th>longitude</th>\n",
       "      <th>sex_call</th>\n",
       "      <th>aim_fraction_colu</th>\n",
       "      <th>aim_fraction_arab</th>\n",
       "      <th>species_gambcolu_arabiensis</th>\n",
       "      <th>species_gambiae_coluzzii</th>\n",
       "      <th>species</th>\n",
       "      <th>date</th>\n",
       "    </tr>\n",
       "  </thead>\n",
       "  <tbody>\n",
       "    <tr>\n",
       "      <th>0</th>\n",
       "      <td>VBS00256-4651STDY7017184</td>\n",
       "      <td>GP97</td>\n",
       "      <td>Tovi Lehmann</td>\n",
       "      <td>Mali</td>\n",
       "      <td>Dallowere</td>\n",
       "      <td>2012</td>\n",
       "      <td>6</td>\n",
       "      <td>13.616</td>\n",
       "      <td>-7.037</td>\n",
       "      <td>F</td>\n",
       "      <td>0.975</td>\n",
       "      <td>0.002</td>\n",
       "      <td>gamb_colu</td>\n",
       "      <td>coluzzii</td>\n",
       "      <td>coluzzii</td>\n",
       "      <td>2012-06-15</td>\n",
       "    </tr>\n",
       "    <tr>\n",
       "      <th>1</th>\n",
       "      <td>VBS00257-4651STDY7017185</td>\n",
       "      <td>GP98</td>\n",
       "      <td>Tovi Lehmann</td>\n",
       "      <td>Mali</td>\n",
       "      <td>Dallowere</td>\n",
       "      <td>2012</td>\n",
       "      <td>6</td>\n",
       "      <td>13.616</td>\n",
       "      <td>-7.037</td>\n",
       "      <td>F</td>\n",
       "      <td>0.983</td>\n",
       "      <td>0.002</td>\n",
       "      <td>gamb_colu</td>\n",
       "      <td>coluzzii</td>\n",
       "      <td>coluzzii</td>\n",
       "      <td>2012-06-15</td>\n",
       "    </tr>\n",
       "    <tr>\n",
       "      <th>2</th>\n",
       "      <td>VBS00259-4651STDY7017186</td>\n",
       "      <td>GP100</td>\n",
       "      <td>Tovi Lehmann</td>\n",
       "      <td>Mali</td>\n",
       "      <td>Dallowere</td>\n",
       "      <td>2012</td>\n",
       "      <td>6</td>\n",
       "      <td>13.616</td>\n",
       "      <td>-7.037</td>\n",
       "      <td>F</td>\n",
       "      <td>0.974</td>\n",
       "      <td>0.002</td>\n",
       "      <td>gamb_colu</td>\n",
       "      <td>coluzzii</td>\n",
       "      <td>coluzzii</td>\n",
       "      <td>2012-06-15</td>\n",
       "    </tr>\n",
       "    <tr>\n",
       "      <th>3</th>\n",
       "      <td>VBS00262-4651STDY7017187</td>\n",
       "      <td>GP103</td>\n",
       "      <td>Tovi Lehmann</td>\n",
       "      <td>Mali</td>\n",
       "      <td>Dallowere</td>\n",
       "      <td>2012</td>\n",
       "      <td>6</td>\n",
       "      <td>13.616</td>\n",
       "      <td>-7.037</td>\n",
       "      <td>F</td>\n",
       "      <td>0.977</td>\n",
       "      <td>0.002</td>\n",
       "      <td>gamb_colu</td>\n",
       "      <td>coluzzii</td>\n",
       "      <td>coluzzii</td>\n",
       "      <td>2012-06-15</td>\n",
       "    </tr>\n",
       "    <tr>\n",
       "      <th>4</th>\n",
       "      <td>VBS00277-4651STDY7017189</td>\n",
       "      <td>GP118</td>\n",
       "      <td>Tovi Lehmann</td>\n",
       "      <td>Mali</td>\n",
       "      <td>Dallowere</td>\n",
       "      <td>2012</td>\n",
       "      <td>6</td>\n",
       "      <td>13.616</td>\n",
       "      <td>-7.037</td>\n",
       "      <td>F</td>\n",
       "      <td>0.986</td>\n",
       "      <td>0.002</td>\n",
       "      <td>gamb_colu</td>\n",
       "      <td>coluzzii</td>\n",
       "      <td>coluzzii</td>\n",
       "      <td>2012-06-15</td>\n",
       "    </tr>\n",
       "    <tr>\n",
       "      <th>...</th>\n",
       "      <td>...</td>\n",
       "      <td>...</td>\n",
       "      <td>...</td>\n",
       "      <td>...</td>\n",
       "      <td>...</td>\n",
       "      <td>...</td>\n",
       "      <td>...</td>\n",
       "      <td>...</td>\n",
       "      <td>...</td>\n",
       "      <td>...</td>\n",
       "      <td>...</td>\n",
       "      <td>...</td>\n",
       "      <td>...</td>\n",
       "      <td>...</td>\n",
       "      <td>...</td>\n",
       "      <td>...</td>\n",
       "    </tr>\n",
       "    <tr>\n",
       "      <th>643</th>\n",
       "      <td>VBS01998-4651STDY7017922</td>\n",
       "      <td>GP1839</td>\n",
       "      <td>Tovi Lehmann</td>\n",
       "      <td>Mali</td>\n",
       "      <td>Sokourani (Niono)</td>\n",
       "      <td>2015</td>\n",
       "      <td>10</td>\n",
       "      <td>14.226</td>\n",
       "      <td>-5.975</td>\n",
       "      <td>F</td>\n",
       "      <td>0.972</td>\n",
       "      <td>0.002</td>\n",
       "      <td>gamb_colu</td>\n",
       "      <td>coluzzii</td>\n",
       "      <td>coluzzii</td>\n",
       "      <td>2015-10-15</td>\n",
       "    </tr>\n",
       "    <tr>\n",
       "      <th>644</th>\n",
       "      <td>VBS02000-4651STDY7017924</td>\n",
       "      <td>GP1841</td>\n",
       "      <td>Tovi Lehmann</td>\n",
       "      <td>Mali</td>\n",
       "      <td>Sokourani (Niono)</td>\n",
       "      <td>2015</td>\n",
       "      <td>10</td>\n",
       "      <td>14.226</td>\n",
       "      <td>-5.975</td>\n",
       "      <td>F</td>\n",
       "      <td>0.988</td>\n",
       "      <td>0.002</td>\n",
       "      <td>gamb_colu</td>\n",
       "      <td>coluzzii</td>\n",
       "      <td>coluzzii</td>\n",
       "      <td>2015-10-15</td>\n",
       "    </tr>\n",
       "    <tr>\n",
       "      <th>645</th>\n",
       "      <td>VBS02001-4651STDY7017925</td>\n",
       "      <td>GP1842</td>\n",
       "      <td>Tovi Lehmann</td>\n",
       "      <td>Mali</td>\n",
       "      <td>Sokourani (Niono)</td>\n",
       "      <td>2015</td>\n",
       "      <td>10</td>\n",
       "      <td>14.226</td>\n",
       "      <td>-5.975</td>\n",
       "      <td>F</td>\n",
       "      <td>0.985</td>\n",
       "      <td>0.002</td>\n",
       "      <td>gamb_colu</td>\n",
       "      <td>coluzzii</td>\n",
       "      <td>coluzzii</td>\n",
       "      <td>2015-10-15</td>\n",
       "    </tr>\n",
       "    <tr>\n",
       "      <th>646</th>\n",
       "      <td>VBS02002-4651STDY7017926</td>\n",
       "      <td>GP1843</td>\n",
       "      <td>Tovi Lehmann</td>\n",
       "      <td>Mali</td>\n",
       "      <td>Sokourani (Niono)</td>\n",
       "      <td>2015</td>\n",
       "      <td>10</td>\n",
       "      <td>14.226</td>\n",
       "      <td>-5.975</td>\n",
       "      <td>F</td>\n",
       "      <td>0.976</td>\n",
       "      <td>0.002</td>\n",
       "      <td>gamb_colu</td>\n",
       "      <td>coluzzii</td>\n",
       "      <td>coluzzii</td>\n",
       "      <td>2015-10-15</td>\n",
       "    </tr>\n",
       "    <tr>\n",
       "      <th>647</th>\n",
       "      <td>VBS06347-4651STDY7017927</td>\n",
       "      <td>GP1844</td>\n",
       "      <td>Tovi Lehmann</td>\n",
       "      <td>Mali</td>\n",
       "      <td>Sokourani (Niono)</td>\n",
       "      <td>2015</td>\n",
       "      <td>10</td>\n",
       "      <td>14.226</td>\n",
       "      <td>-5.975</td>\n",
       "      <td>F</td>\n",
       "      <td>0.977</td>\n",
       "      <td>0.002</td>\n",
       "      <td>gamb_colu</td>\n",
       "      <td>coluzzii</td>\n",
       "      <td>coluzzii</td>\n",
       "      <td>2015-10-15</td>\n",
       "    </tr>\n",
       "  </tbody>\n",
       "</table>\n",
       "<p>648 rows × 16 columns</p>\n",
       "</div>"
      ],
      "text/plain": [
       "                    sample_id partner_sample_id   contributor country  \\\n",
       "0    VBS00256-4651STDY7017184              GP97  Tovi Lehmann    Mali   \n",
       "1    VBS00257-4651STDY7017185              GP98  Tovi Lehmann    Mali   \n",
       "2    VBS00259-4651STDY7017186             GP100  Tovi Lehmann    Mali   \n",
       "3    VBS00262-4651STDY7017187             GP103  Tovi Lehmann    Mali   \n",
       "4    VBS00277-4651STDY7017189             GP118  Tovi Lehmann    Mali   \n",
       "..                        ...               ...           ...     ...   \n",
       "643  VBS01998-4651STDY7017922            GP1839  Tovi Lehmann    Mali   \n",
       "644  VBS02000-4651STDY7017924            GP1841  Tovi Lehmann    Mali   \n",
       "645  VBS02001-4651STDY7017925            GP1842  Tovi Lehmann    Mali   \n",
       "646  VBS02002-4651STDY7017926            GP1843  Tovi Lehmann    Mali   \n",
       "647  VBS06347-4651STDY7017927            GP1844  Tovi Lehmann    Mali   \n",
       "\n",
       "              location  year  month  latitude  longitude sex_call  \\\n",
       "0            Dallowere  2012      6    13.616     -7.037        F   \n",
       "1            Dallowere  2012      6    13.616     -7.037        F   \n",
       "2            Dallowere  2012      6    13.616     -7.037        F   \n",
       "3            Dallowere  2012      6    13.616     -7.037        F   \n",
       "4            Dallowere  2012      6    13.616     -7.037        F   \n",
       "..                 ...   ...    ...       ...        ...      ...   \n",
       "643  Sokourani (Niono)  2015     10    14.226     -5.975        F   \n",
       "644  Sokourani (Niono)  2015     10    14.226     -5.975        F   \n",
       "645  Sokourani (Niono)  2015     10    14.226     -5.975        F   \n",
       "646  Sokourani (Niono)  2015     10    14.226     -5.975        F   \n",
       "647  Sokourani (Niono)  2015     10    14.226     -5.975        F   \n",
       "\n",
       "     aim_fraction_colu  aim_fraction_arab species_gambcolu_arabiensis  \\\n",
       "0                0.975              0.002                   gamb_colu   \n",
       "1                0.983              0.002                   gamb_colu   \n",
       "2                0.974              0.002                   gamb_colu   \n",
       "3                0.977              0.002                   gamb_colu   \n",
       "4                0.986              0.002                   gamb_colu   \n",
       "..                 ...                ...                         ...   \n",
       "643              0.972              0.002                   gamb_colu   \n",
       "644              0.988              0.002                   gamb_colu   \n",
       "645              0.985              0.002                   gamb_colu   \n",
       "646              0.976              0.002                   gamb_colu   \n",
       "647              0.977              0.002                   gamb_colu   \n",
       "\n",
       "    species_gambiae_coluzzii   species       date  \n",
       "0                   coluzzii  coluzzii 2012-06-15  \n",
       "1                   coluzzii  coluzzii 2012-06-15  \n",
       "2                   coluzzii  coluzzii 2012-06-15  \n",
       "3                   coluzzii  coluzzii 2012-06-15  \n",
       "4                   coluzzii  coluzzii 2012-06-15  \n",
       "..                       ...       ...        ...  \n",
       "643                 coluzzii  coluzzii 2015-10-15  \n",
       "644                 coluzzii  coluzzii 2015-10-15  \n",
       "645                 coluzzii  coluzzii 2015-10-15  \n",
       "646                 coluzzii  coluzzii 2015-10-15  \n",
       "647                 coluzzii  coluzzii 2015-10-15  \n",
       "\n",
       "[648 rows x 16 columns]"
      ]
     },
     "execution_count": 7,
     "metadata": {},
     "output_type": "execute_result"
    }
   ],
   "source": [
    "# add in a pseudo collection date for date range filtering\n",
    "collection_date = df_meta.apply(lambda rec: datetime.datetime(rec['year'], rec['month'], 15),\n",
    "                                axis=1)\n",
    "df_meta['date'] = collection_date\n",
    "df_meta"
   ]
  },
  {
   "cell_type": "code",
   "execution_count": 8,
   "metadata": {},
   "outputs": [],
   "source": [
    "# slight change to population codes, use {site}{species}{year}{season}\n",
    "pop_queries = { \n",
    "    'DC12A' : {\n",
    "        'location': 'Dallowere', 'species' : 'coluzzii', \n",
    "        'since': '2012-01-01', 'until': '2013-01-01'},\n",
    "    'DC14EW': {\n",
    "        'location': 'Dallowere', 'species' : 'coluzzii', \n",
    "        'since': '2014-05-01', 'until': '2014-08-01'},\n",
    "    'DC14LW': {\n",
    "        'location': 'Dallowere', 'species' : 'coluzzii', \n",
    "        'since': '2014-08-01', 'until': '2014-11-01'},\n",
    "    'DC15LD': {\n",
    "        'location': 'Dallowere', 'species' : 'coluzzii', \n",
    "        'since': '2015-02-01', 'until': '2015-05-01'},\n",
    "    'DC15EW': {\n",
    "        'location': 'Dallowere', 'species' : 'coluzzii', \n",
    "        'since': '2015-05-01', 'until': '2015-08-01'},\n",
    "    'DC15LW': {\n",
    "        'location': 'Dallowere', 'species' : 'coluzzii', \n",
    "        'since': '2015-08-01', 'until': '2015-11-01'},\n",
    "    'SC12A' : {\n",
    "        'location': 'Sokourani (Niono)', 'species' : 'coluzzii', \n",
    "        'since': '2012-01-01', 'until': '2013-01-01'},\n",
    "    'SC13LD': {\n",
    "        'location': 'Sokourani (Niono)', 'species' : 'coluzzii', \n",
    "        'since': '2013-02-01', 'until': '2013-05-01'},\n",
    "    'SC14LD': {\n",
    "        'location': 'Sokourani (Niono)', 'species' : 'coluzzii', \n",
    "        'since': '2014-02-01', 'until': '2014-05-01'},\n",
    "    'SC15LD': {\n",
    "        'location': 'Sokourani (Niono)', 'species' : 'coluzzii', \n",
    "        'since': '2015-02-01', 'until': '2015-05-01'},\n",
    "    'SC15LW': {\n",
    "        'location': 'Sokourani (Niono)', 'species' : 'coluzzii', \n",
    "        'since': '2015-08-01', 'until': '2015-11-01'},\n",
    "}"
   ]
  },
  {
   "cell_type": "code",
   "execution_count": 9,
   "metadata": {},
   "outputs": [
    {
     "data": {
      "text/plain": [
       "{'DC12A': array([ 0,  1,  2,  3,  4,  5,  6,  7,  8,  9, 11, 14, 17, 18, 19, 20, 21,\n",
       "        22, 23, 24, 25, 26, 27, 28, 29, 30, 31, 33]),\n",
       " 'DC14EW': array([34, 35, 36, 37, 38, 39, 40, 41, 42, 43, 44, 45, 46, 47, 48, 49, 50,\n",
       "        51, 52, 53, 54, 55, 56, 57, 58, 59, 60, 61, 62, 63, 64, 65, 66, 67,\n",
       "        68, 69, 70, 71, 72, 73, 74, 75, 76, 77, 78, 79, 80, 81, 82, 83, 84,\n",
       "        85, 86, 87, 88, 89, 90, 91, 92, 93, 94, 95, 96, 97]),\n",
       " 'DC14LW': array([ 98, 100, 101, 102, 103, 104, 105, 106, 107, 108, 109, 113, 115,\n",
       "        116, 118, 119, 122, 123, 125, 126, 127, 128, 129, 130, 131, 134,\n",
       "        135, 136, 138, 139, 142, 144, 146, 149, 151, 152, 153, 155, 156,\n",
       "        157, 158, 160, 163, 165, 166, 167, 170, 172, 175, 176, 177, 179,\n",
       "        181, 183, 184, 185, 186, 187, 188, 189, 190, 191, 192]),\n",
       " 'DC15LD': array([193, 194, 195, 196, 197, 198, 199, 200, 201, 202, 203, 204, 205,\n",
       "        206, 207, 208, 209, 210, 211, 212, 213, 214, 215, 216, 217, 218,\n",
       "        219, 220, 221, 222, 223, 224, 225, 226, 227, 228, 229, 230, 231,\n",
       "        232, 233, 234, 235, 236, 237, 238, 239, 240]),\n",
       " 'DC15EW': array([241, 242, 243, 244, 245, 246, 247, 248, 249, 250, 251, 252, 253,\n",
       "        255, 256, 257, 258, 259, 260, 261, 262, 263, 264, 265, 266, 267,\n",
       "        268, 269, 270, 271, 272, 273, 274, 275, 276, 277, 278, 279, 280,\n",
       "        281, 282, 283, 284, 285, 286, 287, 288, 289, 290]),\n",
       " 'DC15LW': array([291, 292, 293, 294, 296, 297, 298, 299, 302, 303, 305, 306, 307,\n",
       "        309, 310, 311, 312, 313, 314, 315, 316, 318, 319, 320, 321, 322,\n",
       "        323, 324, 325, 326, 327, 328, 329, 330, 332, 333, 334, 335, 337,\n",
       "        338, 339, 340, 341, 342, 343, 344, 345, 346, 347, 349, 350, 352,\n",
       "        353, 355, 356, 357, 358, 361, 362, 363, 370, 371, 372, 373, 374,\n",
       "        375, 376, 377, 378, 380, 383, 384, 385, 386, 389, 391, 394, 397,\n",
       "        399, 400, 401, 403]),\n",
       " 'SC12A': array([408, 409, 410, 411, 412, 413, 414, 415, 416, 417, 418, 419, 420,\n",
       "        421, 422, 423, 424, 425, 426, 427, 428, 429, 430, 431]),\n",
       " 'SC13LD': array([432, 433, 434, 435, 436, 437, 438, 439, 440, 441, 442, 443, 444,\n",
       "        445, 446, 447, 448, 449, 450, 451, 452, 453, 454, 455, 456, 457,\n",
       "        458, 459]),\n",
       " 'SC14LD': array([505, 506, 507, 508, 509, 510, 511, 512, 513, 514, 515, 516, 517,\n",
       "        518, 519, 520, 521, 522, 523, 524, 525, 526, 527, 528, 529, 530,\n",
       "        531, 532, 533, 534, 535, 536, 537, 538, 539, 540, 541, 542, 543]),\n",
       " 'SC15LD': array([544, 545, 546, 547, 548, 549, 550, 551, 552, 553, 554, 555, 556,\n",
       "        557, 558, 559, 560, 561, 562, 563, 564, 565, 566, 567, 568, 569,\n",
       "        570, 571, 572, 573, 574, 575, 576, 577, 578, 579, 580, 581, 582,\n",
       "        583, 584, 585, 586, 587, 588, 589, 590, 591, 592, 593, 594, 595]),\n",
       " 'SC15LW': array([596, 597, 598, 599, 600, 601, 602, 603, 604, 605, 606, 607, 608,\n",
       "        609, 610, 611, 612, 613, 614, 615, 616, 617, 618, 619, 620, 621,\n",
       "        622, 623, 624, 625, 626, 627, 628, 629, 630, 631, 632, 633, 634,\n",
       "        635, 636, 637, 638, 639, 640, 641, 642, 643, 644, 645, 646, 647])}"
      ]
     },
     "execution_count": 9,
     "metadata": {},
     "output_type": "execute_result"
    }
   ],
   "source": [
    "pop_idxs = dict()\n",
    "for k, v in pop_queries.items():\n",
    "    loc = (\n",
    "        (df_meta.location == v['location']) & \n",
    "        (df_meta.species == v['species']) & \n",
    "        (df_meta.date >= v['since']) & \n",
    "        (df_meta.date < v['until'])\n",
    "    )\n",
    "    idx = df_meta[loc].index.values\n",
    "    pop_idxs[k] = idx\n",
    "pop_idxs"
   ]
  },
  {
   "cell_type": "code",
   "execution_count": 10,
   "metadata": {},
   "outputs": [
    {
     "data": {
      "text/plain": [
       "<zarr.hierarchy.Group '/' read-only>"
      ]
     },
     "execution_count": 10,
     "metadata": {},
     "output_type": "execute_result"
    }
   ],
   "source": [
    "callset_sites = cat.ag3.snp_sites.to_zarr()\n",
    "callset_sites"
   ]
  },
  {
   "cell_type": "code",
   "execution_count": 11,
   "metadata": {},
   "outputs": [
    {
     "data": {
      "text/plain": [
       "<zarr.hierarchy.Group '/' read-only>"
      ]
     },
     "execution_count": 11,
     "metadata": {},
     "output_type": "execute_result"
    }
   ],
   "source": [
    "callset_filters_gamb_colu = cat.ag3.site_filters_dt_20200416_gamb_colu.to_zarr()\n",
    "callset_filters_gamb_colu"
   ]
  },
  {
   "cell_type": "code",
   "execution_count": 12,
   "metadata": {},
   "outputs": [
    {
     "data": {
      "text/plain": [
       "<zarr.hierarchy.Group '/' read-only>"
      ]
     },
     "execution_count": 12,
     "metadata": {},
     "output_type": "execute_result"
    }
   ],
   "source": [
    "callset_genotypes = cat.ag3_1.snp_genotypes(sample_set='1177-VO-ML-LEHMANN-MNF00004').to_zarr()\n",
    "callset_genotypes"
   ]
  },
  {
   "cell_type": "markdown",
   "metadata": {},
   "source": [
    "## Allele counting"
   ]
  },
  {
   "cell_type": "code",
   "execution_count": 13,
   "metadata": {},
   "outputs": [
    {
     "name": "stderr",
     "output_type": "stream",
     "text": [
      "distributed.scheduler - INFO - Clear task state\n",
      "distributed.scheduler - INFO -   Scheduler at:  tcp://10.35.63.198:44697\n",
      "distributed.scheduler - INFO -   dashboard at:                     :8787\n",
      "distributed.scheduler - INFO - Receive client connection: Client-c9d1f090-b61d-11ea-8061-da7ccd997000\n",
      "distributed.core - INFO - Starting established connection\n"
     ]
    },
    {
     "data": {
      "text/html": [
       "<table style=\"border: 2px solid white;\">\n",
       "<tr>\n",
       "<td style=\"vertical-align: top; border: 0px solid white\">\n",
       "<h3 style=\"text-align: left;\">Client</h3>\n",
       "<ul style=\"text-align: left; list-style: none; margin: 0; padding: 0;\">\n",
       "  <li><b>Scheduler: </b>tcp://10.35.63.198:44697</li>\n",
       "  <li><b>Dashboard: </b><a href='/user/alimanfoo@googlemail.com/proxy/8787/status' target='_blank'>/user/alimanfoo@googlemail.com/proxy/8787/status</a>\n",
       "</ul>\n",
       "</td>\n",
       "<td style=\"vertical-align: top; border: 0px solid white\">\n",
       "<h3 style=\"text-align: left;\">Cluster</h3>\n",
       "<ul style=\"text-align: left; list-style:none; margin: 0; padding: 0;\">\n",
       "  <li><b>Workers: </b>0</li>\n",
       "  <li><b>Cores: </b>0</li>\n",
       "  <li><b>Memory: </b>0 B</li>\n",
       "</ul>\n",
       "</td>\n",
       "</tr>\n",
       "</table>"
      ],
      "text/plain": [
       "<Client: 'tcp://10.35.63.198:44697' processes=0 threads=0, memory=0 B>"
      ]
     },
     "execution_count": 13,
     "metadata": {},
     "output_type": "execute_result"
    }
   ],
   "source": [
    "cluster = KubeCluster(n_workers=20)\n",
    "client = Client(cluster)\n",
    "client"
   ]
  },
  {
   "cell_type": "code",
   "execution_count": 14,
   "metadata": {},
   "outputs": [],
   "source": [
    "# N.B., use functools.lru_cache here for a couple of functions to avoid\n",
    "# reloading or recomputing the same thing multiple times.\n",
    "\n",
    "\n",
    "@functools.lru_cache(maxsize=None)\n",
    "def load_pos(seq_id):\n",
    "#     print('load_pos', seq_id)\n",
    "    pos = allel.SortedIndex(callset_sites[seq_id]['variants']['POS'])\n",
    "    return pos\n",
    "\n",
    "\n",
    "@functools.lru_cache(maxsize=None)\n",
    "def load_mask(seq_id, max_miss=.1):\n",
    "#     print('load_mask', seq_id)\n",
    "    \n",
    "    # site filters\n",
    "    filter_pass = callset_filters_gamb_colu[seq_id]['variants']['filter_pass'][:]\n",
    "    \n",
    "    # missingness\n",
    "    gt = allel.GenotypeDaskArray(callset_genotypes[seq_id]['calldata']['GT'])\n",
    "    n_miss = gt.count_missing(axis=1).compute()\n",
    "    n_samples = gt.shape[1]\n",
    "    low_miss = (n_miss / n_samples) < max_miss\n",
    "    \n",
    "    # combine\n",
    "    mask = filter_pass & low_miss\n",
    "    \n",
    "    return mask\n",
    "\n",
    "\n",
    "def count_alleles(pop, region, max_miss=.1):\n",
    "#     print('count_alleles', pop, region, max_miss)\n",
    "    \n",
    "    # unpack region\n",
    "    seq_id, region_start, region_stop = region\n",
    "    \n",
    "    # setup variables\n",
    "    pos = load_pos(seq_id)\n",
    "    gt = allel.GenotypeDaskArray(callset_genotypes[seq_id]['calldata']['GT'])\n",
    "    \n",
    "    # apply mask\n",
    "    mask = load_mask(seq_id, max_miss)\n",
    "    pos_mask = pos[mask]\n",
    "    gt_mask = gt[mask]\n",
    "\n",
    "    # subset to population\n",
    "    pop_idx = pop_idxs[pop]\n",
    "    gt_pop = gt_mask.take(pop_idx, axis=1)\n",
    "    \n",
    "    # restrict to genome region\n",
    "    loc_region = pos_mask.locate_range(region_start, region_stop)\n",
    "    pos_region = pos_mask[loc_region]\n",
    "    gt_pop_region = gt_pop[loc_region]\n",
    "        \n",
    "    # perform allele count\n",
    "    ac = gt_pop_region.count_alleles(max_allele=3).compute()\n",
    "    \n",
    "    return pos_region, ac\n"
   ]
  },
  {
   "cell_type": "code",
   "execution_count": 15,
   "metadata": {},
   "outputs": [],
   "source": [
    "region_3L_free = '3L', 15_000_000, 41_000_000\n",
    "region_3R_free = '3R', 1_000_000, 37_000_000"
   ]
  },
  {
   "cell_type": "code",
   "execution_count": 16,
   "metadata": {},
   "outputs": [
    {
     "data": {
      "text/plain": [
       "['DC12A',\n",
       " 'DC14EW',\n",
       " 'DC14LW',\n",
       " 'DC15LD',\n",
       " 'DC15EW',\n",
       " 'DC15LW',\n",
       " 'SC12A',\n",
       " 'SC13LD',\n",
       " 'SC14LD',\n",
       " 'SC15LD',\n",
       " 'SC15LW']"
      ]
     },
     "execution_count": 16,
     "metadata": {},
     "output_type": "execute_result"
    }
   ],
   "source": [
    "pops = list(pop_idxs.keys())\n",
    "pops"
   ]
  },
  {
   "cell_type": "code",
   "execution_count": 17,
   "metadata": {},
   "outputs": [
    {
     "name": "stderr",
     "output_type": "stream",
     "text": [
      "distributed.scheduler - INFO - Register tcp://10.33.135.5:44151\n",
      "distributed.scheduler - INFO - Starting worker compute stream, tcp://10.33.135.5:44151\n",
      "distributed.core - INFO - Starting established connection\n",
      "distributed.scheduler - INFO - Register tcp://10.33.119.8:38901\n",
      "distributed.scheduler - INFO - Starting worker compute stream, tcp://10.33.119.8:38901\n",
      "distributed.core - INFO - Starting established connection\n",
      "distributed.scheduler - INFO - Register tcp://10.33.124.6:42925\n",
      "distributed.scheduler - INFO - Starting worker compute stream, tcp://10.33.124.6:42925\n",
      "distributed.core - INFO - Starting established connection\n",
      "distributed.scheduler - INFO - Register tcp://10.33.125.6:44333\n",
      "distributed.scheduler - INFO - Starting worker compute stream, tcp://10.33.125.6:44333\n",
      "distributed.core - INFO - Starting established connection\n",
      "distributed.scheduler - INFO - Register tcp://10.33.123.6:40397\n",
      "distributed.scheduler - INFO - Starting worker compute stream, tcp://10.33.123.6:40397\n",
      "distributed.core - INFO - Starting established connection\n",
      "distributed.scheduler - INFO - Register tcp://10.33.115.7:38497\n",
      "distributed.scheduler - INFO - Starting worker compute stream, tcp://10.33.115.7:38497\n",
      "distributed.core - INFO - Starting established connection\n",
      "distributed.scheduler - INFO - Register tcp://10.33.132.5:34879\n",
      "distributed.scheduler - INFO - Starting worker compute stream, tcp://10.33.132.5:34879\n",
      "distributed.core - INFO - Starting established connection\n",
      "distributed.scheduler - INFO - Register tcp://10.33.134.5:43433\n",
      "distributed.scheduler - INFO - Starting worker compute stream, tcp://10.33.134.5:43433\n",
      "distributed.core - INFO - Starting established connection\n",
      "distributed.scheduler - INFO - Register tcp://10.33.139.4:41785\n",
      "distributed.scheduler - INFO - Starting worker compute stream, tcp://10.33.139.4:41785\n",
      "distributed.core - INFO - Starting established connection\n",
      "distributed.scheduler - INFO - Register tcp://10.33.131.5:42327\n",
      "distributed.scheduler - INFO - Starting worker compute stream, tcp://10.33.131.5:42327\n",
      "distributed.core - INFO - Starting established connection\n",
      "distributed.scheduler - INFO - Register tcp://10.33.138.5:42079\n",
      "distributed.scheduler - INFO - Starting worker compute stream, tcp://10.33.138.5:42079\n",
      "distributed.core - INFO - Starting established connection\n",
      "distributed.scheduler - INFO - Register tcp://10.33.137.5:35199\n",
      "distributed.scheduler - INFO - Starting worker compute stream, tcp://10.33.137.5:35199\n",
      "distributed.core - INFO - Starting established connection\n",
      "distributed.scheduler - INFO - Register tcp://10.33.136.5:32967\n",
      "distributed.scheduler - INFO - Starting worker compute stream, tcp://10.33.136.5:32967\n",
      "distributed.core - INFO - Starting established connection\n",
      "distributed.scheduler - INFO - Register tcp://10.33.122.6:37317\n",
      "distributed.scheduler - INFO - Starting worker compute stream, tcp://10.33.122.6:37317\n",
      "distributed.core - INFO - Starting established connection\n",
      "distributed.scheduler - INFO - Register tcp://10.33.127.6:40331\n",
      "distributed.scheduler - INFO - Starting worker compute stream, tcp://10.33.127.6:40331\n",
      "distributed.core - INFO - Starting established connection\n",
      "distributed.scheduler - INFO - Register tcp://10.33.121.6:43369\n",
      "distributed.scheduler - INFO - Starting worker compute stream, tcp://10.33.121.6:43369\n",
      "distributed.core - INFO - Starting established connection\n",
      "distributed.scheduler - INFO - Register tcp://10.33.129.5:41367\n",
      "distributed.scheduler - INFO - Starting worker compute stream, tcp://10.33.129.5:41367\n",
      "distributed.core - INFO - Starting established connection\n",
      "distributed.scheduler - INFO - Register tcp://10.33.126.6:44951\n",
      "distributed.scheduler - INFO - Starting worker compute stream, tcp://10.33.126.6:44951\n",
      "distributed.core - INFO - Starting established connection\n",
      "distributed.scheduler - INFO - Register tcp://10.33.130.5:37819\n",
      "distributed.scheduler - INFO - Starting worker compute stream, tcp://10.33.130.5:37819\n",
      "distributed.core - INFO - Starting established connection\n",
      "distributed.scheduler - INFO - Register tcp://10.33.133.5:41305\n",
      "distributed.scheduler - INFO - Starting worker compute stream, tcp://10.33.133.5:41305\n",
      "distributed.core - INFO - Starting established connection\n"
     ]
    },
    {
     "data": {
      "text/plain": [
       "(<SortedIndex shape=(18889674,) dtype=int32>\n",
       " [15000000, 15000001, 15000002, 15000003, 15000004, ..., 40999996, 40999997, 40999998, 40999999, 41000000],\n",
       " <AlleleCountsArray shape=(18889674, 4) dtype=int32>\n",
       "  7 49  0  0\n",
       " 56  0  0  0\n",
       " 55  0  0  1\n",
       " ...\n",
       " 56  0  0  0\n",
       " 54  2  0  0\n",
       " 52  4  0  0)"
      ]
     },
     "execution_count": 17,
     "metadata": {},
     "output_type": "execute_result"
    }
   ],
   "source": [
    "count_alleles(pops[0], region_3L_free)"
   ]
  },
  {
   "cell_type": "code",
   "execution_count": 18,
   "metadata": {},
   "outputs": [
    {
     "data": {
      "text/plain": [
       "(<SortedIndex shape=(26290001,) dtype=int32>\n",
       " [1000000, 1000001, 1000002, 1000003, 1000004, ..., 36999996, 36999997, 36999998, 36999999, 37000000],\n",
       " <AlleleCountsArray shape=(26290001, 4) dtype=int32>\n",
       " 126   0   0   0\n",
       " 126   0   0   0\n",
       " 126   0   0   0\n",
       " ...\n",
       " 126   0   0   0\n",
       " 125   1   0   0\n",
       " 125   1   0   0)"
      ]
     },
     "execution_count": 18,
     "metadata": {},
     "output_type": "execute_result"
    }
   ],
   "source": [
    "count_alleles(pops[2], region_3R_free)"
   ]
  },
  {
   "cell_type": "markdown",
   "metadata": {},
   "source": [
    "## Fst computation"
   ]
  },
  {
   "cell_type": "code",
   "execution_count": 19,
   "metadata": {},
   "outputs": [],
   "source": [
    "@functools.lru_cache(maxsize=None)\n",
    "def compute_fst(pop1, pop2, *, blen=20_000, seg='union', biallelic=True):\n",
    "#    print('compute_fst', pop1, pop2, blen)\n",
    "    \n",
    "    # obtain allele counts\n",
    "    _, ac1_3L = count_alleles(pop1, region_3L_free)\n",
    "    _, ac1_3R = count_alleles(pop1, region_3R_free)\n",
    "    ac1 = ac1_3L.concatenate(ac1_3R)\n",
    "    _, ac2_3L = count_alleles(pop2, region_3L_free)\n",
    "    _, ac2_3R = count_alleles(pop2, region_3R_free)\n",
    "    ac2 = ac2_3L.concatenate(ac2_3R)\n",
    "    ac = ac1 + ac2\n",
    "    \n",
    "    if seg == 'union':\n",
    "        # locate sites segregating in the union of both populations\n",
    "        loc_seg = ac.is_segregating()\n",
    "    elif seg == 'both':\n",
    "        # locate sites segregating within both populations\n",
    "        loc_seg = ac1.is_segregating() & ac2.is_segregating()\n",
    "    elif seg == 'either':\n",
    "        # locate sites segregating in either population\n",
    "        loc_seg = ac1.is_segregating() | ac2.is_segregating()\n",
    "    else:\n",
    "        raise ValueError\n",
    "    if biallelic:\n",
    "        loc_seg = loc_seg & ac.is_biallelic()\n",
    "    n_sites = np.count_nonzero(loc_seg)\n",
    "    ac1_seg = ac1[loc_seg]\n",
    "    ac2_seg = ac2[loc_seg]\n",
    "    \n",
    "    # compute fst\n",
    "    fst, se, vb, vj = allel.average_hudson_fst(ac1_seg, ac2_seg, blen)\n",
    "    \n",
    "    return fst, se, vb, n_sites"
   ]
  },
  {
   "cell_type": "code",
   "execution_count": 27,
   "metadata": {},
   "outputs": [],
   "source": [
    "def print_fst(pop1, pop2, *, blen=10_000, seg='union', biallelic=True):\n",
    "    fst, se, _, n_sites = compute_fst(pop1, pop2, blen=blen, seg=seg, biallelic=biallelic)\n",
    "    print(f'{pop1} vs {pop2} [seg {seg}, biallelic {biallelic}; {n_sites:,} sites]: {fst:.7f} +/- {se:.7f}')\n",
    "    "
   ]
  },
  {
   "cell_type": "code",
   "execution_count": 28,
   "metadata": {},
   "outputs": [
    {
     "name": "stdout",
     "output_type": "stream",
     "text": [
      "DC12A vs DC14EW [seg union, biallelic True; 9,334,531 sites]: -0.0000089 +/- 0.0000277\n"
     ]
    }
   ],
   "source": [
    "print_fst(pops[0], pops[1], seg='union', biallelic=True)"
   ]
  },
  {
   "cell_type": "code",
   "execution_count": 29,
   "metadata": {},
   "outputs": [
    {
     "name": "stdout",
     "output_type": "stream",
     "text": [
      "DC12A vs DC14EW [seg union, biallelic False; 10,387,025 sites]: 0.0000024 +/- 0.0000260\n"
     ]
    }
   ],
   "source": [
    "print_fst(pops[0], pops[1], seg='union', biallelic=False)"
   ]
  },
  {
   "cell_type": "code",
   "execution_count": 30,
   "metadata": {},
   "outputs": [
    {
     "name": "stdout",
     "output_type": "stream",
     "text": [
      "DC12A vs DC14EW [seg either, biallelic True; 9,334,531 sites]: -0.0000089 +/- 0.0000277\n"
     ]
    }
   ],
   "source": [
    "print_fst(pops[0], pops[1], seg='either', biallelic=True)"
   ]
  },
  {
   "cell_type": "code",
   "execution_count": 31,
   "metadata": {},
   "outputs": [
    {
     "name": "stdout",
     "output_type": "stream",
     "text": [
      "DC12A vs DC14EW [seg either, biallelic False; 10,387,025 sites]: 0.0000024 +/- 0.0000260\n"
     ]
    }
   ],
   "source": [
    "print_fst(pops[0], pops[1], seg='either', biallelic=False)"
   ]
  },
  {
   "cell_type": "code",
   "execution_count": 32,
   "metadata": {},
   "outputs": [
    {
     "name": "stdout",
     "output_type": "stream",
     "text": [
      "DC12A vs DC14EW [seg both, biallelic True; 3,759,360 sites]: -0.0013322 +/- 0.0000311\n"
     ]
    }
   ],
   "source": [
    "print_fst(pops[0], pops[1], seg='both', biallelic=True)"
   ]
  },
  {
   "cell_type": "code",
   "execution_count": 33,
   "metadata": {},
   "outputs": [
    {
     "name": "stdout",
     "output_type": "stream",
     "text": [
      "DC12A vs DC14EW [seg both, biallelic False; 4,594,396 sites]: -0.0011978 +/- 0.0000304\n"
     ]
    }
   ],
   "source": [
    "print_fst(pops[0], pops[1], seg='both', biallelic=False)"
   ]
  },
  {
   "cell_type": "code",
   "execution_count": 34,
   "metadata": {},
   "outputs": [
    {
     "name": "stdout",
     "output_type": "stream",
     "text": [
      "DC14EW vs DC14LW [seg union, biallelic True; 10,309,733 sites]: 0.0001234 +/- 0.0000176\n"
     ]
    }
   ],
   "source": [
    "print_fst(pops[1], pops[2], seg='union', biallelic=True)"
   ]
  },
  {
   "cell_type": "code",
   "execution_count": 39,
   "metadata": {},
   "outputs": [
    {
     "name": "stdout",
     "output_type": "stream",
     "text": [
      "DC14EW vs DC14LW [seg union, biallelic False; 11,627,062 sites]: 0.0001244 +/- 0.0000169\n"
     ]
    }
   ],
   "source": [
    "print_fst(pops[1], pops[2], seg='union', biallelic=False)"
   ]
  },
  {
   "cell_type": "code",
   "execution_count": 40,
   "metadata": {},
   "outputs": [
    {
     "name": "stdout",
     "output_type": "stream",
     "text": [
      "DC14EW vs DC14LW [seg either, biallelic True; 10,309,733 sites]: 0.0001234 +/- 0.0000176\n"
     ]
    }
   ],
   "source": [
    "print_fst(pops[1], pops[2], seg='either', biallelic=True)"
   ]
  },
  {
   "cell_type": "code",
   "execution_count": 41,
   "metadata": {},
   "outputs": [
    {
     "name": "stdout",
     "output_type": "stream",
     "text": [
      "DC14EW vs DC14LW [seg either, biallelic False; 11,627,062 sites]: 0.0001244 +/- 0.0000169\n"
     ]
    }
   ],
   "source": [
    "print_fst(pops[1], pops[2], seg='either', biallelic=False)"
   ]
  },
  {
   "cell_type": "code",
   "execution_count": 42,
   "metadata": {},
   "outputs": [
    {
     "name": "stdout",
     "output_type": "stream",
     "text": [
      "DC14EW vs DC14LW [seg both, biallelic True; 4,692,908 sites]: -0.0004438 +/- 0.0000212\n"
     ]
    }
   ],
   "source": [
    "print_fst(pops[1], pops[2], seg='both', biallelic=True)"
   ]
  },
  {
   "cell_type": "code",
   "execution_count": 43,
   "metadata": {},
   "outputs": [
    {
     "name": "stdout",
     "output_type": "stream",
     "text": [
      "DC14EW vs DC14LW [seg both, biallelic False; 5,825,161 sites]: -0.0003761 +/- 0.0000189\n"
     ]
    }
   ],
   "source": [
    "print_fst(pops[1], pops[2], seg='both', biallelic=False)"
   ]
  },
  {
   "cell_type": "code",
   "execution_count": 44,
   "metadata": {},
   "outputs": [
    {
     "name": "stdout",
     "output_type": "stream",
     "text": [
      "DC14EW vs DC14LW [seg union, biallelic True; 10,309,733 sites]: 0.0001234 +/- 0.0000176\n"
     ]
    }
   ],
   "source": [
    "print_fst(pops[1], pops[2])"
   ]
  },
  {
   "cell_type": "code",
   "execution_count": 45,
   "metadata": {},
   "outputs": [
    {
     "name": "stdout",
     "output_type": "stream",
     "text": [
      "DC14LW vs DC15LD [seg union, biallelic True; 9,577,559 sites]: 0.0000716 +/- 0.0000240\n"
     ]
    }
   ],
   "source": [
    "print_fst(pops[2], pops[3])"
   ]
  },
  {
   "cell_type": "code",
   "execution_count": 46,
   "metadata": {},
   "outputs": [
    {
     "name": "stdout",
     "output_type": "stream",
     "text": [
      "DC15LD vs DC15EW [seg union, biallelic True; 8,998,469 sites]: 0.0000736 +/- 0.0000230\n"
     ]
    }
   ],
   "source": [
    "print_fst(pops[3], pops[4])"
   ]
  },
  {
   "cell_type": "code",
   "execution_count": 47,
   "metadata": {},
   "outputs": [
    {
     "name": "stdout",
     "output_type": "stream",
     "text": [
      "DC15EW vs DC15LW [seg union, biallelic True; 10,027,620 sites]: 0.0000195 +/- 0.0000179\n"
     ]
    }
   ],
   "source": [
    "print_fst(pops[4], pops[5])"
   ]
  },
  {
   "cell_type": "code",
   "execution_count": 48,
   "metadata": {},
   "outputs": [
    {
     "name": "stdout",
     "output_type": "stream",
     "text": [
      "DC14EW vs DC14LW [seg union, biallelic True; 10,309,733 sites]: 0.0001234 +/- 0.0000176\n"
     ]
    }
   ],
   "source": [
    "print_fst(pops[1], pops[2])"
   ]
  },
  {
   "cell_type": "code",
   "execution_count": 49,
   "metadata": {},
   "outputs": [
    {
     "name": "stdout",
     "output_type": "stream",
     "text": [
      "DC14EW vs DC15LD [seg union, biallelic True; 9,806,636 sites]: 0.0000627 +/- 0.0000200\n"
     ]
    }
   ],
   "source": [
    "print_fst(pops[1], pops[3])"
   ]
  },
  {
   "cell_type": "code",
   "execution_count": 50,
   "metadata": {},
   "outputs": [
    {
     "name": "stdout",
     "output_type": "stream",
     "text": [
      "DC14EW vs DC15EW [seg union, biallelic True; 9,814,143 sites]: 0.0000774 +/- 0.0000192\n"
     ]
    }
   ],
   "source": [
    "print_fst(pops[1], pops[4])"
   ]
  },
  {
   "cell_type": "code",
   "execution_count": 51,
   "metadata": {},
   "outputs": [
    {
     "name": "stdout",
     "output_type": "stream",
     "text": [
      "DC14EW vs DC15LW [seg union, biallelic True; 10,694,026 sites]: 0.0000559 +/- 0.0000156\n"
     ]
    }
   ],
   "source": [
    "print_fst(pops[1], pops[5])"
   ]
  },
  {
   "cell_type": "markdown",
   "metadata": {},
   "source": [
    "## Genome scan Fst plots"
   ]
  },
  {
   "cell_type": "code",
   "execution_count": 83,
   "metadata": {},
   "outputs": [],
   "source": [
    "@functools.lru_cache(maxsize=None)\n",
    "def scan_fst(seq_id, pop1, pop2, *, blen=20_000, seg='union', biallelic=True):\n",
    "    \n",
    "    # whole chromosome arm\n",
    "    region = seq_id, None, None\n",
    "\n",
    "    # obtain allele counts\n",
    "    pos, ac1 = count_alleles(pop1, region)\n",
    "    _, ac2 = count_alleles(pop2, region)\n",
    "    ac = ac1 + ac2\n",
    "    \n",
    "    if seg == 'union':\n",
    "        # locate sites segregating in the union of both populations\n",
    "        loc_seg = ac.is_segregating()\n",
    "    elif seg == 'both':\n",
    "        # locate sites segregating within both populations\n",
    "        loc_seg = ac1.is_segregating() & ac2.is_segregating()\n",
    "    elif seg == 'either':\n",
    "        # locate sites segregating in either population\n",
    "        loc_seg = ac1.is_segregating() | ac2.is_segregating()\n",
    "    else:\n",
    "        raise ValueError\n",
    "    if biallelic:\n",
    "        loc_seg = loc_seg & ac.is_biallelic()\n",
    "    n_sites = np.count_nonzero(loc_seg)\n",
    "    ac1_seg = ac1[loc_seg]\n",
    "    ac2_seg = ac2[loc_seg]\n",
    "    pos_seg = pos[loc_seg]\n",
    "    \n",
    "    # compute fst\n",
    "    fst, se, vb, vj = allel.average_hudson_fst(ac1_seg, ac2_seg, blen)\n",
    "    \n",
    "    # compute block midpoints\n",
    "    midpoints = allel.moving_statistic(pos_seg, statistic=np.median, size=blen)\n",
    "    \n",
    "    return fst, se, vb, midpoints, n_sites"
   ]
  },
  {
   "cell_type": "code",
   "execution_count": 84,
   "metadata": {},
   "outputs": [],
   "source": [
    "def plot_scan_fst(seq_id, pop1, pop2,  *, blen=20_000, seg='union', biallelic=True):\n",
    "    fst, se, y, x, n_sites = scan_fst(seq_id, pop1, pop2, blen=blen, seg=seg, biallelic=biallelic)\n",
    "    fig, ax = plt.subplots(figsize=(9, 2), dpi=120)\n",
    "    ax.plot(x/1e6, y, marker='o', mfc='none', linestyle=' ')\n",
    "    ax.set_xlabel(f'Chromosome arm {seq_id} position (Mbp)')\n",
    "    ax.set_ylabel('$F_{ST}$')\n",
    "    ax.set_title(f'{pop1} vs {pop2}')\n"
   ]
  },
  {
   "cell_type": "code",
   "execution_count": 85,
   "metadata": {},
   "outputs": [
    {
     "data": {
      "image/png": "[encoded data removed]",
      "text/plain": [
       "<Figure size 1080x240 with 1 Axes>"
      ]
     },
     "metadata": {
      "needs_background": "light"
     },
     "output_type": "display_data"
    }
   ],
   "source": [
    "plot_scan_fst('3R', pops[1], pops[2])"
   ]
  },
  {
   "cell_type": "code",
   "execution_count": 86,
   "metadata": {},
   "outputs": [
    {
     "data": {
      "image/png": "[encoded data removed]",
      "text/plain": [
       "<Figure size 1080x240 with 1 Axes>"
      ]
     },
     "metadata": {
      "needs_background": "light"
     },
     "output_type": "display_data"
    }
   ],
   "source": [
    "plot_scan_fst('3L', pops[1], pops[2])"
   ]
  },
  {
   "cell_type": "code",
   "execution_count": null,
   "metadata": {},
   "outputs": [],
   "source": []
  }
 ],
 "metadata": {
  "kernelspec": {
   "display_name": "Python 3",
   "language": "python",
   "name": "python3"
  },
  "language_info": {
   "codemirror_mode": {
    "name": "ipython",
    "version": 3
   },
   "file_extension": ".py",
   "mimetype": "text/x-python",
   "name": "python",
   "nbconvert_exporter": "python",
   "pygments_lexer": "ipython3",
   "version": "3.7.6"
  }
 },
 "nbformat": 4,
 "nbformat_minor": 4
}
