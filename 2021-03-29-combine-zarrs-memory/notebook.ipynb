{
 "cells": [
  {
   "cell_type": "code",
   "execution_count": 1,
   "metadata": {},
   "outputs": [],
   "source": [
    "gcs_source_zarr_path_template = 'vo_agam_production/v3.x/curation/{sample_set}/snp_genotypes/{sample}.zarr.zip'"
   ]
  },
  {
   "cell_type": "code",
   "execution_count": 2,
   "metadata": {},
   "outputs": [],
   "source": [
    "import sys\n",
    "import psutil\n",
    "import os\n",
    "from humanize import naturalsize\n",
    "\n",
    "\n",
    "def mem():\n",
    "    vm = psutil.virtual_memory()\n",
    "    process = psutil.Process(os.getpid())\n",
    "    pm = process.memory_info()\n",
    "    msg = f\"{naturalsize(pm.rss)} ({pm.rss * 100 / vm.total:.1f}%) RES\"\n",
    "    return msg\n",
    "\n",
    "    \n",
    "def debug(*msg):\n",
    "    msg += (mem(),)\n",
    "    print(*msg, file=sys.stdout)\n",
    "    sys.stdout.flush()\n"
   ]
  },
  {
   "cell_type": "code",
   "execution_count": 3,
   "metadata": {},
   "outputs": [
    {
     "name": "stdout",
     "output_type": "stream",
     "text": [
      "test 55.8 MB (0.4%) RES\n"
     ]
    }
   ],
   "source": [
    "debug('test')"
   ]
  },
  {
   "cell_type": "code",
   "execution_count": 4,
   "metadata": {},
   "outputs": [],
   "source": [
    "import gcsfs\n",
    "import zarr\n",
    "import dask.array as da\n",
    "from fsspec.implementations.zip import ZipFileSystem"
   ]
  },
  {
   "cell_type": "code",
   "execution_count": 5,
   "metadata": {},
   "outputs": [],
   "source": [
    "sample_set = '1244-VO-GH-YAWSON-VMF00051'"
   ]
  },
  {
   "cell_type": "code",
   "execution_count": 6,
   "metadata": {},
   "outputs": [
    {
     "data": {
      "text/plain": [
       "262144"
      ]
     },
     "execution_count": 6,
     "metadata": {},
     "output_type": "execute_result"
    }
   ],
   "source": [
    "block_size = 2**18\n",
    "block_size"
   ]
  },
  {
   "cell_type": "code",
   "execution_count": 7,
   "metadata": {},
   "outputs": [],
   "source": [
    "# Passing session credentials via token prevents KilledWorker errors due to authentication failure.\n",
    "gcs_session = gcsfs.GCSFileSystem(project='malariagen-jupyterhub', \n",
    "                                  token='cache', \n",
    "                                  cache_timeout=0)\n",
    "gcs = gcsfs.GCSFileSystem(project='malariagen-jupyterhub', \n",
    "                          token=gcs_session.session.credentials, \n",
    "                          cache_timeout=0,\n",
    "                          block_size=block_size)"
   ]
  },
  {
   "cell_type": "code",
   "execution_count": 8,
   "metadata": {},
   "outputs": [
    {
     "data": {
      "text/plain": [
       "['vo_agam_production/accessibility_maps',\n",
       " 'vo_agam_production/accessibility_summary_stats',\n",
       " 'vo_agam_production/ag3_data_paper']"
      ]
     },
     "execution_count": 8,
     "metadata": {},
     "output_type": "execute_result"
    }
   ],
   "source": [
    "gcs.ls('vo_agam_production')[:3]"
   ]
  },
  {
   "cell_type": "code",
   "execution_count": 9,
   "metadata": {},
   "outputs": [],
   "source": [
    "from collections.abc import Mapping\n",
    "\n",
    "\n",
    "class SafeStore(Mapping):\n",
    "    \n",
    "    ## This helps to ensure that no missing data are silently filled in.\n",
    "\n",
    "    def __init__(self, store):\n",
    "        self.store = store\n",
    "\n",
    "    def __getitem__(self, key):\n",
    "        print(key)\n",
    "        try:\n",
    "            return self.store[key]\n",
    "        except KeyError as e:\n",
    "            # always raise a runtime error to ensure zarr propagates the exception\n",
    "            raise RuntimeError(e)\n",
    "\n",
    "    def __contains__(self, key):\n",
    "        return key in self.store\n",
    "\n",
    "    def __iter__(self):\n",
    "        return iter(self.store)\n",
    "\n",
    "    def __len__(self):\n",
    "        return len(self.store)\n"
   ]
  },
  {
   "cell_type": "code",
   "execution_count": 10,
   "metadata": {},
   "outputs": [
    {
     "data": {
      "text/plain": [
       "'1244-VO-GH-YAWSON-VMF00051'"
      ]
     },
     "execution_count": 10,
     "metadata": {},
     "output_type": "execute_result"
    }
   ],
   "source": [
    "sample_set"
   ]
  },
  {
   "cell_type": "code",
   "execution_count": 11,
   "metadata": {},
   "outputs": [],
   "source": [
    "sample = 'VBS19051-5563STDY7800136'\n",
    "input_pattern = gcs_source_zarr_path_template"
   ]
  },
  {
   "cell_type": "code",
   "execution_count": 12,
   "metadata": {},
   "outputs": [
    {
     "data": {
      "text/plain": [
       "'vo_agam_production/v3.x/curation/1244-VO-GH-YAWSON-VMF00051/snp_genotypes/VBS19051-5563STDY7800136.zarr.zip'"
      ]
     },
     "execution_count": 12,
     "metadata": {},
     "output_type": "execute_result"
    }
   ],
   "source": [
    "gcs_path = input_pattern.format(sample_set=sample_set, sample=sample)\n",
    "gcs_path"
   ]
  },
  {
   "cell_type": "code",
   "execution_count": 13,
   "metadata": {},
   "outputs": [
    {
     "name": "stdout",
     "output_type": "stream",
     "text": [
      "95.4 MB (0.6%) RES\n",
      "95.4 MB (0.6%) RES\n",
      "CPU times: user 6.84 ms, sys: 2.29 ms, total: 9.13 ms\n",
      "Wall time: 26 ms\n"
     ]
    }
   ],
   "source": [
    "%%time\n",
    "debug()\n",
    "zip_file = gcs.open(gcs_path)\n",
    "debug()"
   ]
  },
  {
   "cell_type": "code",
   "execution_count": 14,
   "metadata": {},
   "outputs": [
    {
     "name": "stdout",
     "output_type": "stream",
     "text": [
      "95.4 MB (0.6%) RES\n",
      "98.4 MB (0.6%) RES\n",
      "CPU times: user 41 ms, sys: 7.9 ms, total: 48.9 ms\n",
      "Wall time: 204 ms\n"
     ]
    }
   ],
   "source": [
    "%%time\n",
    "debug()\n",
    "zip_fs = ZipFileSystem(zip_file)\n",
    "debug()"
   ]
  },
  {
   "cell_type": "code",
   "execution_count": 15,
   "metadata": {},
   "outputs": [
    {
     "name": "stdout",
     "output_type": "stream",
     "text": [
      "98.4 MB (0.6%) RES\n",
      "98.4 MB (0.6%) RES\n",
      "CPU times: user 4.07 ms, sys: 1.37 ms, total: 5.44 ms\n",
      "Wall time: 3.69 ms\n"
     ]
    }
   ],
   "source": [
    "%%time\n",
    "debug()\n",
    "store = zip_fs.get_mapper(\"/\")\n",
    "debug()"
   ]
  },
  {
   "cell_type": "code",
   "execution_count": 16,
   "metadata": {},
   "outputs": [
    {
     "name": "stdout",
     "output_type": "stream",
     "text": [
      "98.4 MB (0.6%) RES\n",
      "98.5 MB (0.6%) RES\n",
      "CPU times: user 3.66 ms, sys: 878 µs, total: 4.53 ms\n",
      "Wall time: 3.23 ms\n"
     ]
    }
   ],
   "source": [
    "%%time\n",
    "debug()\n",
    "zarr_store = SafeStore(store)\n",
    "debug()"
   ]
  },
  {
   "cell_type": "code",
   "execution_count": 17,
   "metadata": {},
   "outputs": [
    {
     "name": "stdout",
     "output_type": "stream",
     "text": [
      "98.5 MB (0.6%) RES\n",
      ".zgroup\n",
      "103.4 MB (0.7%) RES\n",
      "CPU times: user 119 ms, sys: 9.92 ms, total: 129 ms\n",
      "Wall time: 245 ms\n"
     ]
    }
   ],
   "source": [
    "%%time\n",
    "debug()\n",
    "callset = zarr.open(store=zarr_store, mode='r')\n",
    "debug()"
   ]
  },
  {
   "cell_type": "code",
   "execution_count": 18,
   "metadata": {},
   "outputs": [
    {
     "name": "stdout",
     "output_type": "stream",
     "text": [
      "103.4 MB (0.7%) RES\n",
      "VBS19051-5563STDY7800136/X/calldata/GT/.zarray\n",
      "103.4 MB (0.7%) RES\n",
      "CPU times: user 34.1 ms, sys: 4.26 ms, total: 38.4 ms\n",
      "Wall time: 68.7 ms\n"
     ]
    }
   ],
   "source": [
    "%%time\n",
    "debug()\n",
    "z = callset[f'{sample}/X/calldata/GT']\n",
    "debug()"
   ]
  },
  {
   "cell_type": "code",
   "execution_count": 19,
   "metadata": {},
   "outputs": [
    {
     "name": "stdout",
     "output_type": "stream",
     "text": [
      "103.4 MB (0.7%) RES\n",
      "103.8 MB (0.7%) RES\n",
      "CPU times: user 3.86 ms, sys: 3.3 ms, total: 7.15 ms\n",
      "Wall time: 5.54 ms\n"
     ]
    }
   ],
   "source": [
    "%%time\n",
    "debug()\n",
    "a = da.from_array(z, chunks=z.chunks)\n",
    "debug()"
   ]
  },
  {
   "cell_type": "code",
   "execution_count": null,
   "metadata": {},
   "outputs": [],
   "source": []
  }
 ],
 "metadata": {
  "kernelspec": {
   "display_name": "Python 3",
   "language": "python",
   "name": "python3"
  },
  "language_info": {
   "codemirror_mode": {
    "name": "ipython",
    "version": 3
   },
   "file_extension": ".py",
   "mimetype": "text/x-python",
   "name": "python",
   "nbconvert_exporter": "python",
   "pygments_lexer": "ipython3",
   "version": "3.7.6"
  }
 },
 "nbformat": 4,
 "nbformat_minor": 4
}
