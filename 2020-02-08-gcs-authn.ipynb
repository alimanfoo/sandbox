{
 "cells": [
  {
   "cell_type": "markdown",
   "metadata": {},
   "source": [
    "Run spot-checks on Ag 3.0 data in staging bucket."
   ]
  },
  {
   "cell_type": "code",
   "execution_count": 1,
   "metadata": {},
   "outputs": [
    {
     "data": {
      "text/plain": [
       "'0.6.2'"
      ]
     },
     "execution_count": 1,
     "metadata": {},
     "output_type": "execute_result"
    }
   ],
   "source": [
    "import gcsfs\n",
    "gcsfs.__version__"
   ]
  },
  {
   "cell_type": "code",
   "execution_count": 4,
   "metadata": {},
   "outputs": [],
   "source": [
    "gcsfs.core.client_config['installed']['client_id'] = '160816776314-7h1p2h6bqhe77vs1su4rr22fblso9dre.apps.googleusercontent.com'\n",
    "gcsfs.core.client_config['installed']['client_secret'] = 'SrJUwD58yKgViyJtw-NP2sz8'"
   ]
  },
  {
   "cell_type": "code",
   "execution_count": 5,
   "metadata": {},
   "outputs": [
    {
     "name": "stdout",
     "output_type": "stream",
     "text": [
      "Please visit this URL to authorize this application: https://accounts.google.com/o/oauth2/auth?response_type=code&client_id=160816776314-7h1p2h6bqhe77vs1su4rr22fblso9dre.apps.googleusercontent.com&redirect_uri=urn%3Aietf%3Awg%3Aoauth%3A2.0%3Aoob&scope=https%3A%2F%2Fwww.googleapis.com%2Fauth%2Fdevstorage.full_control&state=a82XcjtP3LuD2t30r1qyrotqnLU2TY&prompt=consent&access_type=offline\n"
     ]
    },
    {
     "name": "stdin",
     "output_type": "stream",
     "text": [
      "Enter the authorization code:  4/1AY0e-g6fqmgcXwWyemmXiolnOO_Szzqb9VkrSn-GhRT2GqdOqd9267yKCI0\n"
     ]
    }
   ],
   "source": [
    "# one-time browser authentication\n",
    "gcs_browser = gcsfs.GCSFileSystem(project='malariagen-jupyterhub', token='browser')"
   ]
  },
  {
   "cell_type": "code",
   "execution_count": 6,
   "metadata": {},
   "outputs": [],
   "source": [
    "# create a GCSFileSystem just for the purpose of authentication\n",
    "gcs_orig = gcsfs.GCSFileSystem(project='malariagen-jupyterhub', token='cache', cache_timeout=0)\n",
    "\n",
    "# create another one with those credentials\n",
    "gcs =  gcsfs.GCSFileSystem(project='malariagen-jupyterhub', token=gcs_orig.session.credentials, cache_timeout=0)"
   ]
  },
  {
   "cell_type": "code",
   "execution_count": 7,
   "metadata": {},
   "outputs": [
    {
     "data": {
      "text/plain": [
       "['vo_agam_production/accessibility_maps',\n",
       " 'vo_agam_production/accessibility_summary_stats',\n",
       " 'vo_agam_production/ag3_data_paper',\n",
       " 'vo_agam_production/aim_results',\n",
       " 'vo_agam_production/ancestry_informative_marker_defs',\n",
       " 'vo_agam_production/combined_samplesets',\n",
       " 'vo_agam_production/crosses_analysis',\n",
       " 'vo_agam_production/crosses_stats',\n",
       " 'vo_agam_production/diagnostic',\n",
       " 'vo_agam_production/machine_learning',\n",
       " 'vo_agam_production/phasing-validation',\n",
       " 'vo_agam_production/replicate_qc_results',\n",
       " 'vo_agam_production/resources',\n",
       " 'vo_agam_production/test_locks',\n",
       " 'vo_agam_production/tracking',\n",
       " 'vo_agam_production/v3.x']"
      ]
     },
     "execution_count": 7,
     "metadata": {},
     "output_type": "execute_result"
    }
   ],
   "source": [
    "gcs.ls('gs://vo_agam_production')"
   ]
  },
  {
   "cell_type": "code",
   "execution_count": null,
   "metadata": {},
   "outputs": [],
   "source": []
  }
 ],
 "metadata": {
  "kernelspec": {
   "display_name": "Python 3",
   "language": "python",
   "name": "python3"
  },
  "language_info": {
   "codemirror_mode": {
    "name": "ipython",
    "version": 3
   },
   "file_extension": ".py",
   "mimetype": "text/x-python",
   "name": "python",
   "nbconvert_exporter": "python",
   "pygments_lexer": "ipython3",
   "version": "3.7.6"
  }
 },
 "nbformat": 4,
 "nbformat_minor": 4
}
