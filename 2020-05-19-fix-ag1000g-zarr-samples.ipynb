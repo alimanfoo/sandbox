{
 "cells": [
  {
   "cell_type": "code",
   "execution_count": 1,
   "metadata": {},
   "outputs": [],
   "source": [
    "import gcsfs\n",
    "import zarr"
   ]
  },
  {
   "cell_type": "code",
   "execution_count": 2,
   "metadata": {},
   "outputs": [],
   "source": [
    "gcsfs.core.client_config['installed']['client_id'] = '160816776314-7h1p2h6bqhe77vs1su4rr22fblso9dre.apps.googleusercontent.com'\n",
    "gcsfs.core.client_config['installed']['client_secret'] = 'SrJUwD58yKgViyJtw-NP2sz8'"
   ]
  },
  {
   "cell_type": "code",
   "execution_count": 3,
   "metadata": {},
   "outputs": [],
   "source": [
    "# one-time browser authentication\n",
    "#gcs_browser = gcsfs.GCSFileSystem(project='malariagen-jupyterhub', token='browser')"
   ]
  },
  {
   "cell_type": "code",
   "execution_count": 4,
   "metadata": {},
   "outputs": [],
   "source": [
    "# create a GCSFileSystem just for the purpose of authentication\n",
    "gcs_orig = gcsfs.GCSFileSystem(project='malariagen-jupyterhub', token='cache', cache_timeout=0)\n",
    "\n",
    "# create another one with those credentials\n",
    "gcs =  gcsfs.GCSFileSystem(project='malariagen-jupyterhub', token=gcs_orig.session.credentials, cache_timeout=0)"
   ]
  },
  {
   "cell_type": "code",
   "execution_count": 5,
   "metadata": {},
   "outputs": [
    {
     "name": "stdout",
     "output_type": "stream",
     "text": [
      "ag1000g-release/phase2.AR1/variation/main/zarr/all/ag1000g.phase2.ar1\n"
     ]
    },
    {
     "name": "stderr",
     "output_type": "stream",
     "text": [
      "/opt/conda/lib/python3.7/site-packages/zarr/storage.py:393: FutureWarning: missing object_codec for object array; this will raise a ValueError in version 3.0\n",
      "  'ValueError in version 3.0', FutureWarning)\n"
     ]
    },
    {
     "name": "stdout",
     "output_type": "stream",
     "text": [
      "ag1000g-release/phase2.AR1/variation/main/zarr/pass/ag1000g.phase2.ar1.pass\n",
      "ag1000g-release/phase2.AR1/variation/main/zarr/biallelic/ag1000g.phase2.ar1.pass.biallelic\n"
     ]
    }
   ],
   "source": [
    "store_paths = (\n",
    "    'ag1000g-release/phase2.AR1/variation/main/zarr/all/ag1000g.phase2.ar1',\n",
    "    'ag1000g-release/phase2.AR1/variation/main/zarr/pass/ag1000g.phase2.ar1.pass',\n",
    "    'ag1000g-release/phase2.AR1/variation/main/zarr/biallelic/ag1000g.phase2.ar1.pass.biallelic'\n",
    ")\n",
    "\n",
    "for store_path in store_paths:\n",
    "    print(store_path)\n",
    "    store = gcs.get_mapper(store_path)\n",
    "    callset = zarr.open(store=store, mode='a')\n",
    "    zarr.copy(callset['2L/samples'], callset, if_exists='replace')\n",
    "    assert store['samples/.zarray'] == store['2L/samples/.zarray']\n",
    "    assert callset['samples'][:].tolist() == callset['2L/samples'][:].tolist()\n",
    "    zarr.consolidate_metadata(store)\n"
   ]
  },
  {
   "cell_type": "code",
   "execution_count": null,
   "metadata": {},
   "outputs": [],
   "source": []
  }
 ],
 "metadata": {
  "kernelspec": {
   "display_name": "Python 3",
   "language": "python",
   "name": "python3"
  },
  "language_info": {
   "codemirror_mode": {
    "name": "ipython",
    "version": 3
   },
   "file_extension": ".py",
   "mimetype": "text/x-python",
   "name": "python",
   "nbconvert_exporter": "python",
   "pygments_lexer": "ipython3",
   "version": "3.7.6"
  }
 },
 "nbformat": 4,
 "nbformat_minor": 4
}
