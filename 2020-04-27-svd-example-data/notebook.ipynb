{
 "cells": [
  {
   "cell_type": "code",
   "execution_count": 19,
   "metadata": {},
   "outputs": [],
   "source": [
    "import gcsfs\n",
    "import zarr\n",
    "import allel\n",
    "import dask.array as da\n",
    "import numpy as np"
   ]
  },
  {
   "cell_type": "code",
   "execution_count": 10,
   "metadata": {},
   "outputs": [
    {
     "name": "stderr",
     "output_type": "stream",
     "text": [
      "distributed.scheduler - INFO - Clear task state\n",
      "distributed.scheduler - INFO -   Scheduler at: tcp://10.33.164.118:42257\n",
      "distributed.scheduler - INFO -   dashboard at:                     :8787\n",
      "distributed.scheduler - INFO - Receive client connection: Client-71f2bbc8-8863-11ea-811e-96529bfe3d58\n",
      "distributed.core - INFO - Starting established connection\n"
     ]
    },
    {
     "data": {
      "text/html": [
       "<table style=\"border: 2px solid white;\">\n",
       "<tr>\n",
       "<td style=\"vertical-align: top; border: 0px solid white\">\n",
       "<h3 style=\"text-align: left;\">Client</h3>\n",
       "<ul style=\"text-align: left; list-style: none; margin: 0; padding: 0;\">\n",
       "  <li><b>Scheduler: </b>tcp://10.33.164.118:42257</li>\n",
       "  <li><b>Dashboard: </b><a href='/user/alimanfoo@googlemail.com/proxy/8787/status' target='_blank'>/user/alimanfoo@googlemail.com/proxy/8787/status</a>\n",
       "</ul>\n",
       "</td>\n",
       "<td style=\"vertical-align: top; border: 0px solid white\">\n",
       "<h3 style=\"text-align: left;\">Cluster</h3>\n",
       "<ul style=\"text-align: left; list-style:none; margin: 0; padding: 0;\">\n",
       "  <li><b>Workers: </b>0</li>\n",
       "  <li><b>Cores: </b>0</li>\n",
       "  <li><b>Memory: </b>0 B</li>\n",
       "</ul>\n",
       "</td>\n",
       "</tr>\n",
       "</table>"
      ],
      "text/plain": [
       "<Client: 'tcp://10.33.164.118:42257' processes=0 threads=0, memory=0 B>"
      ]
     },
     "execution_count": 10,
     "metadata": {},
     "output_type": "execute_result"
    },
    {
     "name": "stderr",
     "output_type": "stream",
     "text": [
      "distributed.scheduler - INFO - Register tcp://10.33.187.2:37665\n",
      "distributed.scheduler - INFO - Starting worker compute stream, tcp://10.33.187.2:37665\n",
      "distributed.core - INFO - Starting established connection\n",
      "distributed.scheduler - INFO - Register tcp://10.33.181.2:33411\n",
      "distributed.scheduler - INFO - Starting worker compute stream, tcp://10.33.181.2:33411\n",
      "distributed.core - INFO - Starting established connection\n",
      "distributed.scheduler - INFO - Register tcp://10.33.180.2:35021\n",
      "distributed.scheduler - INFO - Starting worker compute stream, tcp://10.33.180.2:35021\n",
      "distributed.core - INFO - Starting established connection\n",
      "distributed.scheduler - INFO - Register tcp://10.33.182.2:43749\n",
      "distributed.scheduler - INFO - Starting worker compute stream, tcp://10.33.182.2:43749\n",
      "distributed.core - INFO - Starting established connection\n",
      "distributed.scheduler - INFO - Register tcp://10.33.183.2:36133\n",
      "distributed.scheduler - INFO - Starting worker compute stream, tcp://10.33.183.2:36133\n",
      "distributed.core - INFO - Starting established connection\n",
      "distributed.scheduler - INFO - Register tcp://10.33.185.2:43793\n",
      "distributed.scheduler - INFO - Starting worker compute stream, tcp://10.33.185.2:43793\n",
      "distributed.core - INFO - Starting established connection\n",
      "distributed.scheduler - INFO - Register tcp://10.33.186.2:37711\n",
      "distributed.scheduler - INFO - Starting worker compute stream, tcp://10.33.186.2:37711\n",
      "distributed.core - INFO - Starting established connection\n",
      "distributed.scheduler - INFO - Register tcp://10.33.184.2:45965\n",
      "distributed.scheduler - INFO - Starting worker compute stream, tcp://10.33.184.2:45965\n",
      "distributed.core - INFO - Starting established connection\n",
      "distributed.scheduler - INFO - Register tcp://10.33.188.2:35923\n",
      "distributed.scheduler - INFO - Starting worker compute stream, tcp://10.33.188.2:35923\n",
      "distributed.core - INFO - Starting established connection\n",
      "distributed.scheduler - INFO - Register tcp://10.33.189.2:44507\n",
      "distributed.scheduler - INFO - Starting worker compute stream, tcp://10.33.189.2:44507\n",
      "distributed.core - INFO - Starting established connection\n"
     ]
    }
   ],
   "source": [
    "from dask_kubernetes import KubeCluster\n",
    "cluster = KubeCluster(n_workers=10)\n",
    "from dask.distributed import Client\n",
    "client = Client(cluster)\n",
    "client"
   ]
  },
  {
   "cell_type": "code",
   "execution_count": 11,
   "metadata": {},
   "outputs": [],
   "source": [
    "gcs_anon = gcsfs.GCSFileSystem(token='anon', access='read_only')"
   ]
  },
  {
   "cell_type": "code",
   "execution_count": 12,
   "metadata": {},
   "outputs": [],
   "source": [
    "storage_path = 'ag1000g-release/phase2.AR1/variation/main/zarr/biallelic/ag1000g.phase2.ar1.pass.biallelic'"
   ]
  },
  {
   "cell_type": "code",
   "execution_count": 13,
   "metadata": {},
   "outputs": [],
   "source": [
    "store = gcsfs.mapping.GCSMap(storage_path, gcs=gcs_anon, check=False, create=False)"
   ]
  },
  {
   "cell_type": "code",
   "execution_count": 14,
   "metadata": {},
   "outputs": [],
   "source": [
    "callset = zarr.open_consolidated(store=store)"
   ]
  },
  {
   "cell_type": "markdown",
   "metadata": {},
   "source": [
    "Here are some genotype calls, these are the input data we want to perform an SVD on..."
   ]
  },
  {
   "cell_type": "code",
   "execution_count": 15,
   "metadata": {},
   "outputs": [
    {
     "data": {
      "text/html": [
       "<table>\n",
       "<tr>\n",
       "<td>\n",
       "<table>\n",
       "  <thead>\n",
       "    <tr><td> </td><th> Array </th><th> Chunk </th></tr>\n",
       "  </thead>\n",
       "  <tbody>\n",
       "    <tr><th> Bytes </th><td> 24.56 GB </td> <td> 63.96 MB </td></tr>\n",
       "    <tr><th> Shape </th><td> (10752701, 1142, 2) </td> <td> (524288, 61, 2) </td></tr>\n",
       "    <tr><th> Count </th><td> 400 Tasks </td><td> 399 Chunks </td></tr>\n",
       "    <tr><th> Type </th><td> int8 </td><td> numpy.ndarray </td></tr>\n",
       "  </tbody>\n",
       "</table>\n",
       "</td>\n",
       "<td>\n",
       "<svg width=\"156\" height=\"146\" style=\"stroke:rgb(0,0,0);stroke-width:1\" >\n",
       "\n",
       "  <!-- Horizontal lines -->\n",
       "  <line x1=\"10\" y1=\"0\" x2=\"80\" y2=\"70\" style=\"stroke-width:2\" />\n",
       "  <line x1=\"10\" y1=\"1\" x2=\"80\" y2=\"71\" />\n",
       "  <line x1=\"10\" y1=\"2\" x2=\"80\" y2=\"73\" />\n",
       "  <line x1=\"10\" y1=\"4\" x2=\"80\" y2=\"74\" />\n",
       "  <line x1=\"10\" y1=\"5\" x2=\"80\" y2=\"76\" />\n",
       "  <line x1=\"10\" y1=\"6\" x2=\"80\" y2=\"77\" />\n",
       "  <line x1=\"10\" y1=\"8\" x2=\"80\" y2=\"78\" />\n",
       "  <line x1=\"10\" y1=\"9\" x2=\"80\" y2=\"80\" />\n",
       "  <line x1=\"10\" y1=\"10\" x2=\"80\" y2=\"81\" />\n",
       "  <line x1=\"10\" y1=\"12\" x2=\"80\" y2=\"82\" />\n",
       "  <line x1=\"10\" y1=\"13\" x2=\"80\" y2=\"84\" />\n",
       "  <line x1=\"10\" y1=\"14\" x2=\"80\" y2=\"85\" />\n",
       "  <line x1=\"10\" y1=\"16\" x2=\"80\" y2=\"86\" />\n",
       "  <line x1=\"10\" y1=\"17\" x2=\"80\" y2=\"88\" />\n",
       "  <line x1=\"10\" y1=\"19\" x2=\"80\" y2=\"89\" />\n",
       "  <line x1=\"10\" y1=\"20\" x2=\"80\" y2=\"90\" />\n",
       "  <line x1=\"10\" y1=\"21\" x2=\"80\" y2=\"92\" />\n",
       "  <line x1=\"10\" y1=\"23\" x2=\"80\" y2=\"93\" />\n",
       "  <line x1=\"10\" y1=\"24\" x2=\"80\" y2=\"95\" />\n",
       "  <line x1=\"10\" y1=\"25\" x2=\"80\" y2=\"96\" style=\"stroke-width:2\" />\n",
       "\n",
       "  <!-- Vertical lines -->\n",
       "  <line x1=\"10\" y1=\"0\" x2=\"10\" y2=\"25\" style=\"stroke-width:2\" />\n",
       "  <line x1=\"13\" y1=\"3\" x2=\"13\" y2=\"28\" />\n",
       "  <line x1=\"16\" y1=\"6\" x2=\"16\" y2=\"32\" />\n",
       "  <line x1=\"20\" y1=\"10\" x2=\"20\" y2=\"35\" />\n",
       "  <line x1=\"23\" y1=\"13\" x2=\"23\" y2=\"39\" />\n",
       "  <line x1=\"27\" y1=\"17\" x2=\"27\" y2=\"42\" />\n",
       "  <line x1=\"30\" y1=\"20\" x2=\"30\" y2=\"46\" />\n",
       "  <line x1=\"34\" y1=\"24\" x2=\"34\" y2=\"49\" />\n",
       "  <line x1=\"37\" y1=\"27\" x2=\"37\" y2=\"52\" />\n",
       "  <line x1=\"40\" y1=\"30\" x2=\"40\" y2=\"56\" />\n",
       "  <line x1=\"44\" y1=\"34\" x2=\"44\" y2=\"59\" />\n",
       "  <line x1=\"47\" y1=\"37\" x2=\"47\" y2=\"63\" />\n",
       "  <line x1=\"51\" y1=\"41\" x2=\"51\" y2=\"66\" />\n",
       "  <line x1=\"54\" y1=\"44\" x2=\"54\" y2=\"70\" />\n",
       "  <line x1=\"58\" y1=\"48\" x2=\"58\" y2=\"73\" />\n",
       "  <line x1=\"61\" y1=\"51\" x2=\"61\" y2=\"77\" />\n",
       "  <line x1=\"65\" y1=\"55\" x2=\"65\" y2=\"80\" />\n",
       "  <line x1=\"68\" y1=\"58\" x2=\"68\" y2=\"83\" />\n",
       "  <line x1=\"71\" y1=\"61\" x2=\"71\" y2=\"87\" />\n",
       "  <line x1=\"75\" y1=\"65\" x2=\"75\" y2=\"90\" />\n",
       "  <line x1=\"78\" y1=\"68\" x2=\"78\" y2=\"94\" />\n",
       "  <line x1=\"80\" y1=\"70\" x2=\"80\" y2=\"96\" style=\"stroke-width:2\" />\n",
       "\n",
       "  <!-- Colored Rectangle -->\n",
       "  <polygon points=\"10.000000,0.000000 80.588235,70.588235 80.588235,96.000852 10.000000,25.412617\" style=\"fill:#ECB172A0;stroke-width:0\"/>\n",
       "\n",
       "  <!-- Horizontal lines -->\n",
       "  <line x1=\"10\" y1=\"0\" x2=\"35\" y2=\"0\" style=\"stroke-width:2\" />\n",
       "  <line x1=\"13\" y1=\"3\" x2=\"38\" y2=\"3\" />\n",
       "  <line x1=\"16\" y1=\"6\" x2=\"42\" y2=\"6\" />\n",
       "  <line x1=\"20\" y1=\"10\" x2=\"45\" y2=\"10\" />\n",
       "  <line x1=\"23\" y1=\"13\" x2=\"49\" y2=\"13\" />\n",
       "  <line x1=\"27\" y1=\"17\" x2=\"52\" y2=\"17\" />\n",
       "  <line x1=\"30\" y1=\"20\" x2=\"56\" y2=\"20\" />\n",
       "  <line x1=\"34\" y1=\"24\" x2=\"59\" y2=\"24\" />\n",
       "  <line x1=\"37\" y1=\"27\" x2=\"62\" y2=\"27\" />\n",
       "  <line x1=\"40\" y1=\"30\" x2=\"66\" y2=\"30\" />\n",
       "  <line x1=\"44\" y1=\"34\" x2=\"69\" y2=\"34\" />\n",
       "  <line x1=\"47\" y1=\"37\" x2=\"73\" y2=\"37\" />\n",
       "  <line x1=\"51\" y1=\"41\" x2=\"76\" y2=\"41\" />\n",
       "  <line x1=\"54\" y1=\"44\" x2=\"80\" y2=\"44\" />\n",
       "  <line x1=\"58\" y1=\"48\" x2=\"83\" y2=\"48\" />\n",
       "  <line x1=\"61\" y1=\"51\" x2=\"87\" y2=\"51\" />\n",
       "  <line x1=\"65\" y1=\"55\" x2=\"90\" y2=\"55\" />\n",
       "  <line x1=\"68\" y1=\"58\" x2=\"93\" y2=\"58\" />\n",
       "  <line x1=\"71\" y1=\"61\" x2=\"97\" y2=\"61\" />\n",
       "  <line x1=\"75\" y1=\"65\" x2=\"100\" y2=\"65\" />\n",
       "  <line x1=\"78\" y1=\"68\" x2=\"104\" y2=\"68\" />\n",
       "  <line x1=\"80\" y1=\"70\" x2=\"106\" y2=\"70\" style=\"stroke-width:2\" />\n",
       "\n",
       "  <!-- Vertical lines -->\n",
       "  <line x1=\"10\" y1=\"0\" x2=\"80\" y2=\"70\" style=\"stroke-width:2\" />\n",
       "  <line x1=\"35\" y1=\"0\" x2=\"106\" y2=\"70\" style=\"stroke-width:2\" />\n",
       "\n",
       "  <!-- Colored Rectangle -->\n",
       "  <polygon points=\"10.000000,0.000000 35.412617,0.000000 106.000852,70.588235 80.588235,70.588235\" style=\"fill:#ECB172A0;stroke-width:0\"/>\n",
       "\n",
       "  <!-- Horizontal lines -->\n",
       "  <line x1=\"80\" y1=\"70\" x2=\"106\" y2=\"70\" style=\"stroke-width:2\" />\n",
       "  <line x1=\"80\" y1=\"71\" x2=\"106\" y2=\"71\" />\n",
       "  <line x1=\"80\" y1=\"73\" x2=\"106\" y2=\"73\" />\n",
       "  <line x1=\"80\" y1=\"74\" x2=\"106\" y2=\"74\" />\n",
       "  <line x1=\"80\" y1=\"76\" x2=\"106\" y2=\"76\" />\n",
       "  <line x1=\"80\" y1=\"77\" x2=\"106\" y2=\"77\" />\n",
       "  <line x1=\"80\" y1=\"78\" x2=\"106\" y2=\"78\" />\n",
       "  <line x1=\"80\" y1=\"80\" x2=\"106\" y2=\"80\" />\n",
       "  <line x1=\"80\" y1=\"81\" x2=\"106\" y2=\"81\" />\n",
       "  <line x1=\"80\" y1=\"82\" x2=\"106\" y2=\"82\" />\n",
       "  <line x1=\"80\" y1=\"84\" x2=\"106\" y2=\"84\" />\n",
       "  <line x1=\"80\" y1=\"85\" x2=\"106\" y2=\"85\" />\n",
       "  <line x1=\"80\" y1=\"86\" x2=\"106\" y2=\"86\" />\n",
       "  <line x1=\"80\" y1=\"88\" x2=\"106\" y2=\"88\" />\n",
       "  <line x1=\"80\" y1=\"89\" x2=\"106\" y2=\"89\" />\n",
       "  <line x1=\"80\" y1=\"90\" x2=\"106\" y2=\"90\" />\n",
       "  <line x1=\"80\" y1=\"92\" x2=\"106\" y2=\"92\" />\n",
       "  <line x1=\"80\" y1=\"93\" x2=\"106\" y2=\"93\" />\n",
       "  <line x1=\"80\" y1=\"95\" x2=\"106\" y2=\"95\" />\n",
       "  <line x1=\"80\" y1=\"96\" x2=\"106\" y2=\"96\" style=\"stroke-width:2\" />\n",
       "\n",
       "  <!-- Vertical lines -->\n",
       "  <line x1=\"80\" y1=\"70\" x2=\"80\" y2=\"96\" style=\"stroke-width:2\" />\n",
       "  <line x1=\"106\" y1=\"70\" x2=\"106\" y2=\"96\" style=\"stroke-width:2\" />\n",
       "\n",
       "  <!-- Colored Rectangle -->\n",
       "  <polygon points=\"80.588235,70.588235 106.000852,70.588235 106.000852,96.000852 80.588235,96.000852\" style=\"fill:#ECB172A0;stroke-width:0\"/>\n",
       "\n",
       "  <!-- Text -->\n",
       "  <text x=\"93.294544\" y=\"116.000852\" font-size=\"1.0rem\" font-weight=\"100\" text-anchor=\"middle\" >2</text>\n",
       "  <text x=\"126.000852\" y=\"83.294544\" font-size=\"1.0rem\" font-weight=\"100\" text-anchor=\"middle\" transform=\"rotate(-90,126.000852,83.294544)\">1142</text>\n",
       "  <text x=\"35.294118\" y=\"80.706734\" font-size=\"1.0rem\" font-weight=\"100\" text-anchor=\"middle\" transform=\"rotate(45,35.294118,80.706734)\">10752701</text>\n",
       "</svg>\n",
       "</td>\n",
       "</tr>\n",
       "</table>"
      ],
      "text/plain": [
       "dask.array<array, shape=(10752701, 1142, 2), dtype=int8, chunksize=(524288, 61, 2), chunktype=numpy.ndarray>"
      ]
     },
     "execution_count": 15,
     "metadata": {},
     "output_type": "execute_result"
    }
   ],
   "source": [
    "genotypes = da.from_array(callset['3R/calldata/GT'])\n",
    "genotypes"
   ]
  },
  {
   "cell_type": "markdown",
   "metadata": {},
   "source": [
    "In order to run an SVD, we first need to perform a transformation on these data. This transformation simply counts the number of non-zero values along the third dimension. This is a crude transformation that only works for biallelic variants with very little missingness, but will suffice for this example."
   ]
  },
  {
   "cell_type": "code",
   "execution_count": 16,
   "metadata": {},
   "outputs": [
    {
     "data": {
      "text/html": [
       "<table>\n",
       "<tr>\n",
       "<td>\n",
       "<table>\n",
       "  <thead>\n",
       "    <tr><td> </td><th> Array </th><th> Chunk </th></tr>\n",
       "  </thead>\n",
       "  <tbody>\n",
       "    <tr><th> Bytes </th><td> 98.24 GB </td> <td> 255.85 MB </td></tr>\n",
       "    <tr><th> Shape </th><td> (10752701, 1142) </td> <td> (524288, 61) </td></tr>\n",
       "    <tr><th> Count </th><td> 1597 Tasks </td><td> 399 Chunks </td></tr>\n",
       "    <tr><th> Type </th><td> int64 </td><td> numpy.ndarray </td></tr>\n",
       "  </tbody>\n",
       "</table>\n",
       "</td>\n",
       "<td>\n",
       "<svg width=\"75\" height=\"170\" style=\"stroke:rgb(0,0,0);stroke-width:1\" >\n",
       "\n",
       "  <!-- Horizontal lines -->\n",
       "  <line x1=\"0\" y1=\"0\" x2=\"25\" y2=\"0\" style=\"stroke-width:2\" />\n",
       "  <line x1=\"0\" y1=\"5\" x2=\"25\" y2=\"5\" />\n",
       "  <line x1=\"0\" y1=\"11\" x2=\"25\" y2=\"11\" />\n",
       "  <line x1=\"0\" y1=\"17\" x2=\"25\" y2=\"17\" />\n",
       "  <line x1=\"0\" y1=\"23\" x2=\"25\" y2=\"23\" />\n",
       "  <line x1=\"0\" y1=\"29\" x2=\"25\" y2=\"29\" />\n",
       "  <line x1=\"0\" y1=\"35\" x2=\"25\" y2=\"35\" />\n",
       "  <line x1=\"0\" y1=\"40\" x2=\"25\" y2=\"40\" />\n",
       "  <line x1=\"0\" y1=\"46\" x2=\"25\" y2=\"46\" />\n",
       "  <line x1=\"0\" y1=\"52\" x2=\"25\" y2=\"52\" />\n",
       "  <line x1=\"0\" y1=\"58\" x2=\"25\" y2=\"58\" />\n",
       "  <line x1=\"0\" y1=\"64\" x2=\"25\" y2=\"64\" />\n",
       "  <line x1=\"0\" y1=\"70\" x2=\"25\" y2=\"70\" />\n",
       "  <line x1=\"0\" y1=\"76\" x2=\"25\" y2=\"76\" />\n",
       "  <line x1=\"0\" y1=\"81\" x2=\"25\" y2=\"81\" />\n",
       "  <line x1=\"0\" y1=\"87\" x2=\"25\" y2=\"87\" />\n",
       "  <line x1=\"0\" y1=\"93\" x2=\"25\" y2=\"93\" />\n",
       "  <line x1=\"0\" y1=\"99\" x2=\"25\" y2=\"99\" />\n",
       "  <line x1=\"0\" y1=\"105\" x2=\"25\" y2=\"105\" />\n",
       "  <line x1=\"0\" y1=\"111\" x2=\"25\" y2=\"111\" />\n",
       "  <line x1=\"0\" y1=\"117\" x2=\"25\" y2=\"117\" />\n",
       "  <line x1=\"0\" y1=\"120\" x2=\"25\" y2=\"120\" style=\"stroke-width:2\" />\n",
       "\n",
       "  <!-- Vertical lines -->\n",
       "  <line x1=\"0\" y1=\"0\" x2=\"0\" y2=\"120\" style=\"stroke-width:2\" />\n",
       "  <line x1=\"1\" y1=\"0\" x2=\"1\" y2=\"120\" />\n",
       "  <line x1=\"2\" y1=\"0\" x2=\"2\" y2=\"120\" />\n",
       "  <line x1=\"4\" y1=\"0\" x2=\"4\" y2=\"120\" />\n",
       "  <line x1=\"5\" y1=\"0\" x2=\"5\" y2=\"120\" />\n",
       "  <line x1=\"6\" y1=\"0\" x2=\"6\" y2=\"120\" />\n",
       "  <line x1=\"8\" y1=\"0\" x2=\"8\" y2=\"120\" />\n",
       "  <line x1=\"9\" y1=\"0\" x2=\"9\" y2=\"120\" />\n",
       "  <line x1=\"10\" y1=\"0\" x2=\"10\" y2=\"120\" />\n",
       "  <line x1=\"12\" y1=\"0\" x2=\"12\" y2=\"120\" />\n",
       "  <line x1=\"13\" y1=\"0\" x2=\"13\" y2=\"120\" />\n",
       "  <line x1=\"14\" y1=\"0\" x2=\"14\" y2=\"120\" />\n",
       "  <line x1=\"16\" y1=\"0\" x2=\"16\" y2=\"120\" />\n",
       "  <line x1=\"17\" y1=\"0\" x2=\"17\" y2=\"120\" />\n",
       "  <line x1=\"19\" y1=\"0\" x2=\"19\" y2=\"120\" />\n",
       "  <line x1=\"20\" y1=\"0\" x2=\"20\" y2=\"120\" />\n",
       "  <line x1=\"21\" y1=\"0\" x2=\"21\" y2=\"120\" />\n",
       "  <line x1=\"23\" y1=\"0\" x2=\"23\" y2=\"120\" />\n",
       "  <line x1=\"24\" y1=\"0\" x2=\"24\" y2=\"120\" />\n",
       "  <line x1=\"25\" y1=\"0\" x2=\"25\" y2=\"120\" style=\"stroke-width:2\" />\n",
       "\n",
       "  <!-- Colored Rectangle -->\n",
       "  <polygon points=\"0.000000,0.000000 25.412617,0.000000 25.412617,120.000000 0.000000,120.000000\" style=\"fill:#ECB172A0;stroke-width:0\"/>\n",
       "\n",
       "  <!-- Text -->\n",
       "  <text x=\"12.706308\" y=\"140.000000\" font-size=\"1.0rem\" font-weight=\"100\" text-anchor=\"middle\" >1142</text>\n",
       "  <text x=\"45.412617\" y=\"60.000000\" font-size=\"1.0rem\" font-weight=\"100\" text-anchor=\"middle\" transform=\"rotate(-90,45.412617,60.000000)\">10752701</text>\n",
       "</svg>\n",
       "</td>\n",
       "</tr>\n",
       "</table>"
      ],
      "text/plain": [
       "dask.array<sum-aggregate, shape=(10752701, 1142), dtype=int64, chunksize=(524288, 61), chunktype=numpy.ndarray>"
      ]
     },
     "execution_count": 16,
     "metadata": {},
     "output_type": "execute_result"
    }
   ],
   "source": [
    "gn = da.sum(genotypes > 0, axis=2)\n",
    "gn"
   ]
  },
  {
   "cell_type": "markdown",
   "metadata": {},
   "source": [
    "N.B., the **rows** of this array are the **features** (genetic variations) and the **columns** of this array are the **observations** (individual mosquitoes).\n",
    "\n",
    "We want to do an SVD to identify structure in the genetic similarity between individuals. I.e., we want to end up with an array of coordinates of shape (1142, *n*) where *n* is the number of dimensions we have reduced to (usually 20 is enough).\n",
    "\n",
    "Before we can run an SVD we need to get rid of any invariant features. Simple way to do this is to compare all values to the first value in the row."
   ]
  },
  {
   "cell_type": "code",
   "execution_count": 20,
   "metadata": {},
   "outputs": [
    {
     "data": {
      "text/plain": [
       "10751847"
      ]
     },
     "execution_count": 20,
     "metadata": {},
     "output_type": "execute_result"
    }
   ],
   "source": [
    "is_informative = da.any(gn != gn[:, 0, None], axis=1).compute()\n",
    "np.count_nonzero(is_informative)"
   ]
  },
  {
   "cell_type": "code",
   "execution_count": 21,
   "metadata": {},
   "outputs": [
    {
     "data": {
      "text/html": [
       "<table>\n",
       "<tr>\n",
       "<td>\n",
       "<table>\n",
       "  <thead>\n",
       "    <tr><td> </td><th> Array </th><th> Chunk </th></tr>\n",
       "  </thead>\n",
       "  <tbody>\n",
       "    <tr><th> Bytes </th><td> 98.23 GB </td> <td> 255.85 MB </td></tr>\n",
       "    <tr><th> Shape </th><td> (10751847, 1142) </td> <td> (524285, 61) </td></tr>\n",
       "    <tr><th> Count </th><td> 1996 Tasks </td><td> 399 Chunks </td></tr>\n",
       "    <tr><th> Type </th><td> int64 </td><td> numpy.ndarray </td></tr>\n",
       "  </tbody>\n",
       "</table>\n",
       "</td>\n",
       "<td>\n",
       "<svg width=\"75\" height=\"170\" style=\"stroke:rgb(0,0,0);stroke-width:1\" >\n",
       "\n",
       "  <!-- Horizontal lines -->\n",
       "  <line x1=\"0\" y1=\"0\" x2=\"25\" y2=\"0\" style=\"stroke-width:2\" />\n",
       "  <line x1=\"0\" y1=\"5\" x2=\"25\" y2=\"5\" />\n",
       "  <line x1=\"0\" y1=\"11\" x2=\"25\" y2=\"11\" />\n",
       "  <line x1=\"0\" y1=\"17\" x2=\"25\" y2=\"17\" />\n",
       "  <line x1=\"0\" y1=\"23\" x2=\"25\" y2=\"23\" />\n",
       "  <line x1=\"0\" y1=\"29\" x2=\"25\" y2=\"29\" />\n",
       "  <line x1=\"0\" y1=\"35\" x2=\"25\" y2=\"35\" />\n",
       "  <line x1=\"0\" y1=\"40\" x2=\"25\" y2=\"40\" />\n",
       "  <line x1=\"0\" y1=\"46\" x2=\"25\" y2=\"46\" />\n",
       "  <line x1=\"0\" y1=\"52\" x2=\"25\" y2=\"52\" />\n",
       "  <line x1=\"0\" y1=\"58\" x2=\"25\" y2=\"58\" />\n",
       "  <line x1=\"0\" y1=\"64\" x2=\"25\" y2=\"64\" />\n",
       "  <line x1=\"0\" y1=\"70\" x2=\"25\" y2=\"70\" />\n",
       "  <line x1=\"0\" y1=\"76\" x2=\"25\" y2=\"76\" />\n",
       "  <line x1=\"0\" y1=\"81\" x2=\"25\" y2=\"81\" />\n",
       "  <line x1=\"0\" y1=\"87\" x2=\"25\" y2=\"87\" />\n",
       "  <line x1=\"0\" y1=\"93\" x2=\"25\" y2=\"93\" />\n",
       "  <line x1=\"0\" y1=\"99\" x2=\"25\" y2=\"99\" />\n",
       "  <line x1=\"0\" y1=\"105\" x2=\"25\" y2=\"105\" />\n",
       "  <line x1=\"0\" y1=\"111\" x2=\"25\" y2=\"111\" />\n",
       "  <line x1=\"0\" y1=\"117\" x2=\"25\" y2=\"117\" />\n",
       "  <line x1=\"0\" y1=\"120\" x2=\"25\" y2=\"120\" style=\"stroke-width:2\" />\n",
       "\n",
       "  <!-- Vertical lines -->\n",
       "  <line x1=\"0\" y1=\"0\" x2=\"0\" y2=\"120\" style=\"stroke-width:2\" />\n",
       "  <line x1=\"1\" y1=\"0\" x2=\"1\" y2=\"120\" />\n",
       "  <line x1=\"2\" y1=\"0\" x2=\"2\" y2=\"120\" />\n",
       "  <line x1=\"4\" y1=\"0\" x2=\"4\" y2=\"120\" />\n",
       "  <line x1=\"5\" y1=\"0\" x2=\"5\" y2=\"120\" />\n",
       "  <line x1=\"6\" y1=\"0\" x2=\"6\" y2=\"120\" />\n",
       "  <line x1=\"8\" y1=\"0\" x2=\"8\" y2=\"120\" />\n",
       "  <line x1=\"9\" y1=\"0\" x2=\"9\" y2=\"120\" />\n",
       "  <line x1=\"10\" y1=\"0\" x2=\"10\" y2=\"120\" />\n",
       "  <line x1=\"12\" y1=\"0\" x2=\"12\" y2=\"120\" />\n",
       "  <line x1=\"13\" y1=\"0\" x2=\"13\" y2=\"120\" />\n",
       "  <line x1=\"14\" y1=\"0\" x2=\"14\" y2=\"120\" />\n",
       "  <line x1=\"16\" y1=\"0\" x2=\"16\" y2=\"120\" />\n",
       "  <line x1=\"17\" y1=\"0\" x2=\"17\" y2=\"120\" />\n",
       "  <line x1=\"19\" y1=\"0\" x2=\"19\" y2=\"120\" />\n",
       "  <line x1=\"20\" y1=\"0\" x2=\"20\" y2=\"120\" />\n",
       "  <line x1=\"21\" y1=\"0\" x2=\"21\" y2=\"120\" />\n",
       "  <line x1=\"23\" y1=\"0\" x2=\"23\" y2=\"120\" />\n",
       "  <line x1=\"24\" y1=\"0\" x2=\"24\" y2=\"120\" />\n",
       "  <line x1=\"25\" y1=\"0\" x2=\"25\" y2=\"120\" style=\"stroke-width:2\" />\n",
       "\n",
       "  <!-- Colored Rectangle -->\n",
       "  <polygon points=\"0.000000,0.000000 25.412617,0.000000 25.412617,120.000000 0.000000,120.000000\" style=\"fill:#ECB172A0;stroke-width:0\"/>\n",
       "\n",
       "  <!-- Text -->\n",
       "  <text x=\"12.706308\" y=\"140.000000\" font-size=\"1.0rem\" font-weight=\"100\" text-anchor=\"middle\" >1142</text>\n",
       "  <text x=\"45.412617\" y=\"60.000000\" font-size=\"1.0rem\" font-weight=\"100\" text-anchor=\"middle\" transform=\"rotate(-90,45.412617,60.000000)\">10751847</text>\n",
       "</svg>\n",
       "</td>\n",
       "</tr>\n",
       "</table>"
      ],
      "text/plain": [
       "dask.array<getitem, shape=(10751847, 1142), dtype=int64, chunksize=(524285, 61), chunktype=numpy.ndarray>"
      ]
     },
     "execution_count": 21,
     "metadata": {},
     "output_type": "execute_result"
    }
   ],
   "source": [
    "gn_informative = da.compress(is_informative, gn, axis=0)\n",
    "gn_informative"
   ]
  },
  {
   "cell_type": "markdown",
   "metadata": {},
   "source": [
    "Also, before we can run an SVD, we need to center and scale these data. A standard scaler should be sufficient, e.g.:"
   ]
  },
  {
   "cell_type": "code",
   "execution_count": 22,
   "metadata": {},
   "outputs": [
    {
     "data": {
      "text/html": [
       "<table>\n",
       "<tr>\n",
       "<td>\n",
       "<table>\n",
       "  <thead>\n",
       "    <tr><td> </td><th> Array </th><th> Chunk </th></tr>\n",
       "  </thead>\n",
       "  <tbody>\n",
       "    <tr><th> Bytes </th><td> 98.23 GB </td> <td> 255.85 MB </td></tr>\n",
       "    <tr><th> Shape </th><td> (10751847, 1142) </td> <td> (524285, 61) </td></tr>\n",
       "    <tr><th> Count </th><td> 3949 Tasks </td><td> 399 Chunks </td></tr>\n",
       "    <tr><th> Type </th><td> float64 </td><td> numpy.ndarray </td></tr>\n",
       "  </tbody>\n",
       "</table>\n",
       "</td>\n",
       "<td>\n",
       "<svg width=\"75\" height=\"170\" style=\"stroke:rgb(0,0,0);stroke-width:1\" >\n",
       "\n",
       "  <!-- Horizontal lines -->\n",
       "  <line x1=\"0\" y1=\"0\" x2=\"25\" y2=\"0\" style=\"stroke-width:2\" />\n",
       "  <line x1=\"0\" y1=\"5\" x2=\"25\" y2=\"5\" />\n",
       "  <line x1=\"0\" y1=\"11\" x2=\"25\" y2=\"11\" />\n",
       "  <line x1=\"0\" y1=\"17\" x2=\"25\" y2=\"17\" />\n",
       "  <line x1=\"0\" y1=\"23\" x2=\"25\" y2=\"23\" />\n",
       "  <line x1=\"0\" y1=\"29\" x2=\"25\" y2=\"29\" />\n",
       "  <line x1=\"0\" y1=\"35\" x2=\"25\" y2=\"35\" />\n",
       "  <line x1=\"0\" y1=\"40\" x2=\"25\" y2=\"40\" />\n",
       "  <line x1=\"0\" y1=\"46\" x2=\"25\" y2=\"46\" />\n",
       "  <line x1=\"0\" y1=\"52\" x2=\"25\" y2=\"52\" />\n",
       "  <line x1=\"0\" y1=\"58\" x2=\"25\" y2=\"58\" />\n",
       "  <line x1=\"0\" y1=\"64\" x2=\"25\" y2=\"64\" />\n",
       "  <line x1=\"0\" y1=\"70\" x2=\"25\" y2=\"70\" />\n",
       "  <line x1=\"0\" y1=\"76\" x2=\"25\" y2=\"76\" />\n",
       "  <line x1=\"0\" y1=\"81\" x2=\"25\" y2=\"81\" />\n",
       "  <line x1=\"0\" y1=\"87\" x2=\"25\" y2=\"87\" />\n",
       "  <line x1=\"0\" y1=\"93\" x2=\"25\" y2=\"93\" />\n",
       "  <line x1=\"0\" y1=\"99\" x2=\"25\" y2=\"99\" />\n",
       "  <line x1=\"0\" y1=\"105\" x2=\"25\" y2=\"105\" />\n",
       "  <line x1=\"0\" y1=\"111\" x2=\"25\" y2=\"111\" />\n",
       "  <line x1=\"0\" y1=\"117\" x2=\"25\" y2=\"117\" />\n",
       "  <line x1=\"0\" y1=\"120\" x2=\"25\" y2=\"120\" style=\"stroke-width:2\" />\n",
       "\n",
       "  <!-- Vertical lines -->\n",
       "  <line x1=\"0\" y1=\"0\" x2=\"0\" y2=\"120\" style=\"stroke-width:2\" />\n",
       "  <line x1=\"1\" y1=\"0\" x2=\"1\" y2=\"120\" />\n",
       "  <line x1=\"2\" y1=\"0\" x2=\"2\" y2=\"120\" />\n",
       "  <line x1=\"4\" y1=\"0\" x2=\"4\" y2=\"120\" />\n",
       "  <line x1=\"5\" y1=\"0\" x2=\"5\" y2=\"120\" />\n",
       "  <line x1=\"6\" y1=\"0\" x2=\"6\" y2=\"120\" />\n",
       "  <line x1=\"8\" y1=\"0\" x2=\"8\" y2=\"120\" />\n",
       "  <line x1=\"9\" y1=\"0\" x2=\"9\" y2=\"120\" />\n",
       "  <line x1=\"10\" y1=\"0\" x2=\"10\" y2=\"120\" />\n",
       "  <line x1=\"12\" y1=\"0\" x2=\"12\" y2=\"120\" />\n",
       "  <line x1=\"13\" y1=\"0\" x2=\"13\" y2=\"120\" />\n",
       "  <line x1=\"14\" y1=\"0\" x2=\"14\" y2=\"120\" />\n",
       "  <line x1=\"16\" y1=\"0\" x2=\"16\" y2=\"120\" />\n",
       "  <line x1=\"17\" y1=\"0\" x2=\"17\" y2=\"120\" />\n",
       "  <line x1=\"19\" y1=\"0\" x2=\"19\" y2=\"120\" />\n",
       "  <line x1=\"20\" y1=\"0\" x2=\"20\" y2=\"120\" />\n",
       "  <line x1=\"21\" y1=\"0\" x2=\"21\" y2=\"120\" />\n",
       "  <line x1=\"23\" y1=\"0\" x2=\"23\" y2=\"120\" />\n",
       "  <line x1=\"24\" y1=\"0\" x2=\"24\" y2=\"120\" />\n",
       "  <line x1=\"25\" y1=\"0\" x2=\"25\" y2=\"120\" style=\"stroke-width:2\" />\n",
       "\n",
       "  <!-- Colored Rectangle -->\n",
       "  <polygon points=\"0.000000,0.000000 25.412617,0.000000 25.412617,120.000000 0.000000,120.000000\" style=\"fill:#ECB172A0;stroke-width:0\"/>\n",
       "\n",
       "  <!-- Text -->\n",
       "  <text x=\"12.706308\" y=\"140.000000\" font-size=\"1.0rem\" font-weight=\"100\" text-anchor=\"middle\" >1142</text>\n",
       "  <text x=\"45.412617\" y=\"60.000000\" font-size=\"1.0rem\" font-weight=\"100\" text-anchor=\"middle\" transform=\"rotate(-90,45.412617,60.000000)\">10751847</text>\n",
       "</svg>\n",
       "</td>\n",
       "</tr>\n",
       "</table>"
      ],
      "text/plain": [
       "dask.array<truediv, shape=(10751847, 1142), dtype=float64, chunksize=(524285, 61), chunktype=numpy.ndarray>"
      ]
     },
     "execution_count": 22,
     "metadata": {},
     "output_type": "execute_result"
    }
   ],
   "source": [
    "m = da.mean(gn_informative, axis=1, keepdims=True)\n",
    "s = da.std(gn_informative, axis=1, keepdims=True)\n",
    "gn_scaled = (gn_informative - m) / s\n",
    "gn_scaled"
   ]
  },
  {
   "cell_type": "markdown",
   "metadata": {},
   "source": [
    "The array `gn_scaled` is now ready for SVD.\n",
    "\n",
    "Here's what we expect it to look like, based on downsampling the data and computing the SVD in memory..."
   ]
  },
  {
   "cell_type": "code",
   "execution_count": 23,
   "metadata": {},
   "outputs": [
    {
     "name": "stderr",
     "output_type": "stream",
     "text": [
      "distributed.core - INFO - Event loop was unresponsive in Scheduler for 7.15s.  This is often caused by long-running GIL-holding functions or moving large chunks of data. This can cause timeouts and instability.\n"
     ]
    },
    {
     "data": {
      "text/plain": [
       "array([[-0.02960446, -0.02960446, -0.02960446, ..., -0.02960446,\n",
       "        -0.02960446, -0.02960446],\n",
       "       [-0.02960446, -0.02960446, -0.02960446, ..., -0.02960446,\n",
       "        -0.02960446, -0.02960446],\n",
       "       [-0.02960446, -0.02960446, -0.02960446, ..., -0.02960446,\n",
       "        -0.02960446, -0.02960446],\n",
       "       ...,\n",
       "       [-0.04188539, -0.04188539, -0.04188539, ..., -0.04188539,\n",
       "        -0.04188539, -0.04188539],\n",
       "       [-0.06631393, -0.06631393, -0.06631393, ..., -0.06631393,\n",
       "        -0.06631393, -0.06631393],\n",
       "       [-0.04188539, -0.04188539, -0.04188539, ..., -0.04188539,\n",
       "        -0.04188539, -0.04188539]])"
      ]
     },
     "execution_count": 23,
     "metadata": {},
     "output_type": "execute_result"
    }
   ],
   "source": [
    "gn_small = gn_scaled[::1000].compute()\n",
    "gn_small"
   ]
  },
  {
   "cell_type": "code",
   "execution_count": 26,
   "metadata": {},
   "outputs": [
    {
     "data": {
      "text/plain": [
       "(10752, 1142)"
      ]
     },
     "execution_count": 26,
     "metadata": {},
     "output_type": "execute_result"
    }
   ],
   "source": [
    "gn_small.shape"
   ]
  },
  {
   "cell_type": "code",
   "execution_count": 24,
   "metadata": {},
   "outputs": [],
   "source": [
    "import scipy.linalg"
   ]
  },
  {
   "cell_type": "code",
   "execution_count": 25,
   "metadata": {},
   "outputs": [],
   "source": [
    "u, s, v = scipy.linalg.svd(gn_small, full_matrices=False)"
   ]
  },
  {
   "cell_type": "code",
   "execution_count": 27,
   "metadata": {},
   "outputs": [
    {
     "data": {
      "text/plain": [
       "(1142, 1142)"
      ]
     },
     "execution_count": 27,
     "metadata": {},
     "output_type": "execute_result"
    }
   ],
   "source": [
    "coords = s * v.T\n",
    "coords.shape"
   ]
  },
  {
   "cell_type": "code",
   "execution_count": 28,
   "metadata": {},
   "outputs": [],
   "source": [
    "import matplotlib.pyplot as plt\n",
    "%matplotlib inline"
   ]
  },
  {
   "cell_type": "code",
   "execution_count": 31,
   "metadata": {},
   "outputs": [],
   "source": [
    "import pandas as pd"
   ]
  },
  {
   "cell_type": "markdown",
   "metadata": {},
   "source": [
    "Read in some sample metadata, this allows us to colour the samples by country of origin..."
   ]
  },
  {
   "cell_type": "code",
   "execution_count": 34,
   "metadata": {},
   "outputs": [
    {
     "data": {
      "text/html": [
       "<div>\n",
       "<style scoped>\n",
       "    .dataframe tbody tr th:only-of-type {\n",
       "        vertical-align: middle;\n",
       "    }\n",
       "\n",
       "    .dataframe tbody tr th {\n",
       "        vertical-align: top;\n",
       "    }\n",
       "\n",
       "    .dataframe thead th {\n",
       "        text-align: right;\n",
       "    }\n",
       "</style>\n",
       "<table border=\"1\" class=\"dataframe\">\n",
       "  <thead>\n",
       "    <tr style=\"text-align: right;\">\n",
       "      <th></th>\n",
       "      <th>ox_code</th>\n",
       "      <th>src_code</th>\n",
       "      <th>population</th>\n",
       "      <th>country</th>\n",
       "      <th>location</th>\n",
       "      <th>site</th>\n",
       "      <th>contributor</th>\n",
       "      <th>contact</th>\n",
       "      <th>year</th>\n",
       "      <th>m_s</th>\n",
       "      <th>sex</th>\n",
       "      <th>n_sequences</th>\n",
       "      <th>mean_coverage</th>\n",
       "      <th>ebi_sample_acc</th>\n",
       "      <th>latitude</th>\n",
       "      <th>longitude</th>\n",
       "    </tr>\n",
       "  </thead>\n",
       "  <tbody>\n",
       "    <tr>\n",
       "      <th>0</th>\n",
       "      <td>AA0040-C</td>\n",
       "      <td>Twifo_Praso__E2</td>\n",
       "      <td>GHcol</td>\n",
       "      <td>Ghana</td>\n",
       "      <td>Twifo Praso</td>\n",
       "      <td>Twifo Praso</td>\n",
       "      <td>David Weetman</td>\n",
       "      <td>David Weetman</td>\n",
       "      <td>2012</td>\n",
       "      <td>M</td>\n",
       "      <td>F</td>\n",
       "      <td>95033368</td>\n",
       "      <td>30.99</td>\n",
       "      <td>ERS311878</td>\n",
       "      <td>5.60858</td>\n",
       "      <td>-1.54926</td>\n",
       "    </tr>\n",
       "    <tr>\n",
       "      <th>1</th>\n",
       "      <td>AA0041-C</td>\n",
       "      <td>Twifo_Praso__H3</td>\n",
       "      <td>GHcol</td>\n",
       "      <td>Ghana</td>\n",
       "      <td>Twifo Praso</td>\n",
       "      <td>Twifo Praso</td>\n",
       "      <td>David Weetman</td>\n",
       "      <td>David Weetman</td>\n",
       "      <td>2012</td>\n",
       "      <td>M</td>\n",
       "      <td>F</td>\n",
       "      <td>95843804</td>\n",
       "      <td>31.70</td>\n",
       "      <td>ERS311886</td>\n",
       "      <td>5.60858</td>\n",
       "      <td>-1.54926</td>\n",
       "    </tr>\n",
       "    <tr>\n",
       "      <th>2</th>\n",
       "      <td>AA0042-C</td>\n",
       "      <td>Takoradi_C7</td>\n",
       "      <td>GHcol</td>\n",
       "      <td>Ghana</td>\n",
       "      <td>Takoradi</td>\n",
       "      <td>Takoradi</td>\n",
       "      <td>David Weetman</td>\n",
       "      <td>David Weetman</td>\n",
       "      <td>2012</td>\n",
       "      <td>M</td>\n",
       "      <td>F</td>\n",
       "      <td>107420666</td>\n",
       "      <td>35.65</td>\n",
       "      <td>ERS311894</td>\n",
       "      <td>4.91217</td>\n",
       "      <td>-1.77397</td>\n",
       "    </tr>\n",
       "    <tr>\n",
       "      <th>3</th>\n",
       "      <td>AA0043-C</td>\n",
       "      <td>Takoradi_H8</td>\n",
       "      <td>GHcol</td>\n",
       "      <td>Ghana</td>\n",
       "      <td>Takoradi</td>\n",
       "      <td>Takoradi</td>\n",
       "      <td>David Weetman</td>\n",
       "      <td>David Weetman</td>\n",
       "      <td>2012</td>\n",
       "      <td>M</td>\n",
       "      <td>F</td>\n",
       "      <td>95993752</td>\n",
       "      <td>29.46</td>\n",
       "      <td>ERS311902</td>\n",
       "      <td>4.91217</td>\n",
       "      <td>-1.77397</td>\n",
       "    </tr>\n",
       "    <tr>\n",
       "      <th>4</th>\n",
       "      <td>AA0044-C</td>\n",
       "      <td>Takoradi_D10</td>\n",
       "      <td>GHcol</td>\n",
       "      <td>Ghana</td>\n",
       "      <td>Takoradi</td>\n",
       "      <td>Takoradi</td>\n",
       "      <td>David Weetman</td>\n",
       "      <td>David Weetman</td>\n",
       "      <td>2012</td>\n",
       "      <td>M</td>\n",
       "      <td>F</td>\n",
       "      <td>103044262</td>\n",
       "      <td>33.67</td>\n",
       "      <td>ERS311910</td>\n",
       "      <td>4.91217</td>\n",
       "      <td>-1.77397</td>\n",
       "    </tr>\n",
       "  </tbody>\n",
       "</table>\n",
       "</div>"
      ],
      "text/plain": [
       "    ox_code         src_code population country     location         site  \\\n",
       "0  AA0040-C  Twifo_Praso__E2      GHcol   Ghana  Twifo Praso  Twifo Praso   \n",
       "1  AA0041-C  Twifo_Praso__H3      GHcol   Ghana  Twifo Praso  Twifo Praso   \n",
       "2  AA0042-C      Takoradi_C7      GHcol   Ghana     Takoradi     Takoradi   \n",
       "3  AA0043-C      Takoradi_H8      GHcol   Ghana     Takoradi     Takoradi   \n",
       "4  AA0044-C     Takoradi_D10      GHcol   Ghana     Takoradi     Takoradi   \n",
       "\n",
       "     contributor        contact  year m_s sex  n_sequences  mean_coverage  \\\n",
       "0  David Weetman  David Weetman  2012   M   F     95033368          30.99   \n",
       "1  David Weetman  David Weetman  2012   M   F     95843804          31.70   \n",
       "2  David Weetman  David Weetman  2012   M   F    107420666          35.65   \n",
       "3  David Weetman  David Weetman  2012   M   F     95993752          29.46   \n",
       "4  David Weetman  David Weetman  2012   M   F    103044262          33.67   \n",
       "\n",
       "  ebi_sample_acc  latitude  longitude  \n",
       "0      ERS311878   5.60858   -1.54926  \n",
       "1      ERS311886   5.60858   -1.54926  \n",
       "2      ERS311894   4.91217   -1.77397  \n",
       "3      ERS311902   4.91217   -1.77397  \n",
       "4      ERS311910   4.91217   -1.77397  "
      ]
     },
     "execution_count": 34,
     "metadata": {},
     "output_type": "execute_result"
    }
   ],
   "source": [
    "with gcs_anon.open('ag1000g-release/phase2.AR1/samples/samples.meta.txt') as f:\n",
    "    df_samples = pd.read_csv(f, sep='\\t')\n",
    "df_samples.head()"
   ]
  },
  {
   "cell_type": "code",
   "execution_count": 35,
   "metadata": {},
   "outputs": [],
   "source": [
    "import seaborn as sns\n",
    "reds = sns.color_palette('Reds', 5)\n",
    "blues = sns.color_palette('Blues', 4)\n",
    "greens = sns.color_palette('Greens', 2)\n",
    "browns = sns.color_palette('YlOrBr', 4)\n",
    "purples = sns.color_palette('Purples', 2)\n",
    "greys = sns.color_palette('Greys', 3)\n",
    "pop_colors = {\n",
    "    'AOcol': reds[4],\n",
    "    'GHcol': reds[3],\n",
    "    'BFcol': reds[2],\n",
    "    'CIcol': reds[1],\n",
    "    'GNcol': reds[0],\n",
    "    'CMgam': blues[3],\n",
    "    'GHgam': blues[2],\n",
    "    'BFgam': blues[1],\n",
    "    'GNgam': blues[0],\n",
    "    'GW': browns[1],\n",
    "    'GM': browns[2],\n",
    "    'GAgam': greens[1],\n",
    "    'UGgam': greens[0],\n",
    "    'FRgam': purples[1],\n",
    "    'GQgam': purples[0],\n",
    "    'KE': greys[1],\n",
    "}"
   ]
  },
  {
   "cell_type": "code",
   "execution_count": 39,
   "metadata": {},
   "outputs": [
    {
     "data": {
      "image/png": "[encoded data removed]",
      "text/plain": [
       "<Figure size 360x360 with 1 Axes>"
      ]
     },
     "metadata": {
      "needs_background": "light"
     },
     "output_type": "display_data"
    }
   ],
   "source": [
    "fig, ax = plt.subplots(figsize=(5, 5))\n",
    "x = coords[:, 0]\n",
    "y = coords[:, 1]\n",
    "c = [pop_colors[p] for p in df_samples.population]\n",
    "ax.scatter(x, y, c=c)\n",
    "ax.set_xlabel('PC1')\n",
    "ax.set_ylabel('PC2');"
   ]
  },
  {
   "cell_type": "code",
   "execution_count": 40,
   "metadata": {},
   "outputs": [
    {
     "data": {
      "image/png": "[encoded data removed]",
      "text/plain": [
       "<Figure size 360x360 with 1 Axes>"
      ]
     },
     "metadata": {
      "needs_background": "light"
     },
     "output_type": "display_data"
    },
    {
     "name": "stderr",
     "output_type": "stream",
     "text": [
      "distributed.scheduler - INFO - Remove worker tcp://10.33.185.2:40129\n",
      "distributed.core - INFO - Removing comms to tcp://10.33.185.2:40129\n"
     ]
    }
   ],
   "source": [
    "fig, ax = plt.subplots(figsize=(5, 5))\n",
    "x = coords[:, 2]\n",
    "y = coords[:, 3]\n",
    "ax.scatter(x, y, c=c)\n",
    "ax.set_xlabel('PC3')\n",
    "ax.set_ylabel('PC4');"
   ]
  },
  {
   "cell_type": "code",
   "execution_count": null,
   "metadata": {},
   "outputs": [],
   "source": []
  }
 ],
 "metadata": {
  "kernelspec": {
   "display_name": "Python 3",
   "language": "python",
   "name": "python3"
  },
  "language_info": {
   "codemirror_mode": {
    "name": "ipython",
    "version": 3
   },
   "file_extension": ".py",
   "mimetype": "text/x-python",
   "name": "python",
   "nbconvert_exporter": "python",
   "pygments_lexer": "ipython3",
   "version": "3.7.6"
  }
 },
 "nbformat": 4,
 "nbformat_minor": 4
}
