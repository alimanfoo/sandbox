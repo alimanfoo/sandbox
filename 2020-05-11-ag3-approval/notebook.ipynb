{
 "cells": [
  {
   "cell_type": "markdown",
   "metadata": {},
   "source": [
    "Run spot-checks on Ag 3.0 data in staging bucket."
   ]
  },
  {
   "cell_type": "code",
   "execution_count": 1,
   "metadata": {},
   "outputs": [
    {
     "name": "stderr",
     "output_type": "stream",
     "text": [
      "distributed.scheduler - INFO - Clear task state\n",
      "distributed.scheduler - INFO -   Scheduler at:   tcp://10.32.38.52:38329\n",
      "distributed.scheduler - INFO -   dashboard at:                     :8787\n",
      "distributed.scheduler - INFO - Receive client connection: Client-4cfff3ac-9434-11ea-8179-26737f6715e9\n",
      "distributed.core - INFO - Starting established connection\n"
     ]
    },
    {
     "data": {
      "text/html": [
       "<table style=\"border: 2px solid white;\">\n",
       "<tr>\n",
       "<td style=\"vertical-align: top; border: 0px solid white\">\n",
       "<h3 style=\"text-align: left;\">Client</h3>\n",
       "<ul style=\"text-align: left; list-style: none; margin: 0; padding: 0;\">\n",
       "  <li><b>Scheduler: </b>tcp://10.32.38.52:38329</li>\n",
       "  <li><b>Dashboard: </b><a href='/user/alimanfoo@googlemail.com/proxy/8787/status' target='_blank'>/user/alimanfoo@googlemail.com/proxy/8787/status</a>\n",
       "</ul>\n",
       "</td>\n",
       "<td style=\"vertical-align: top; border: 0px solid white\">\n",
       "<h3 style=\"text-align: left;\">Cluster</h3>\n",
       "<ul style=\"text-align: left; list-style:none; margin: 0; padding: 0;\">\n",
       "  <li><b>Workers: </b>0</li>\n",
       "  <li><b>Cores: </b>0</li>\n",
       "  <li><b>Memory: </b>0 B</li>\n",
       "</ul>\n",
       "</td>\n",
       "</tr>\n",
       "</table>"
      ],
      "text/plain": [
       "<Client: 'tcp://10.32.38.52:38329' processes=0 threads=0, memory=0 B>"
      ]
     },
     "execution_count": 1,
     "metadata": {},
     "output_type": "execute_result"
    },
    {
     "name": "stderr",
     "output_type": "stream",
     "text": [
      "distributed.scheduler - INFO - Register tcp://10.34.69.3:35003\n",
      "distributed.scheduler - INFO - Starting worker compute stream, tcp://10.34.69.3:35003\n",
      "distributed.core - INFO - Starting established connection\n",
      "distributed.scheduler - INFO - Register tcp://10.34.68.3:33789\n",
      "distributed.scheduler - INFO - Starting worker compute stream, tcp://10.34.68.3:33789\n",
      "distributed.core - INFO - Starting established connection\n",
      "distributed.scheduler - INFO - Register tcp://10.34.70.3:42115\n",
      "distributed.scheduler - INFO - Starting worker compute stream, tcp://10.34.70.3:42115\n",
      "distributed.core - INFO - Starting established connection\n",
      "distributed.scheduler - INFO - Register tcp://10.34.71.3:35279\n",
      "distributed.scheduler - INFO - Starting worker compute stream, tcp://10.34.71.3:35279\n",
      "distributed.core - INFO - Starting established connection\n",
      "distributed.scheduler - INFO - Register tcp://10.34.42.6:39757\n",
      "distributed.scheduler - INFO - Starting worker compute stream, tcp://10.34.42.6:39757\n",
      "distributed.core - INFO - Starting established connection\n"
     ]
    }
   ],
   "source": [
    "import pandas as pd\n",
    "import gcsfs\n",
    "import zarr\n",
    "import allel\n",
    "import dask.array as da\n",
    "from dask_kubernetes import KubeCluster\n",
    "from dask.distributed import Client\n",
    "cluster = KubeCluster(n_workers=5)\n",
    "client = Client(cluster)\n",
    "client"
   ]
  },
  {
   "cell_type": "code",
   "execution_count": 2,
   "metadata": {},
   "outputs": [],
   "source": [
    "gcsfs.core.client_config['installed']['client_id'] = '160816776314-7h1p2h6bqhe77vs1su4rr22fblso9dre.apps.googleusercontent.com'\n",
    "gcsfs.core.client_config['installed']['client_secret'] = 'SrJUwD58yKgViyJtw-NP2sz8'"
   ]
  },
  {
   "cell_type": "code",
   "execution_count": 4,
   "metadata": {},
   "outputs": [],
   "source": [
    "# one-time browser authentication\n",
    "#gcs_browser = gcsfs.GCSFileSystem(project='malariagen-jupyterhub', token='browser')"
   ]
  },
  {
   "cell_type": "code",
   "execution_count": 5,
   "metadata": {},
   "outputs": [],
   "source": [
    "# create a GCSFileSystem just for the purpose of authentication\n",
    "gcs_orig = gcsfs.GCSFileSystem(project='malariagen-jupyterhub', token='cache', cache_timeout=0)\n",
    "\n",
    "# create another one with those credentials\n",
    "gcs =  gcsfs.GCSFileSystem(project='malariagen-jupyterhub', token=gcs_orig.session.credentials, cache_timeout=0)"
   ]
  },
  {
   "cell_type": "code",
   "execution_count": 6,
   "metadata": {},
   "outputs": [],
   "source": [
    "release_path = 'vo_agam_staging/v3'"
   ]
  },
  {
   "cell_type": "markdown",
   "metadata": {},
   "source": [
    "## General sample metadata"
   ]
  },
  {
   "cell_type": "code",
   "execution_count": 7,
   "metadata": {},
   "outputs": [],
   "source": [
    "def load_sample_metadata(sample_set):\n",
    "    with gcs.open(release_path + f'/metadata/general/{sample_set}/samples.meta.csv') as f:\n",
    "        df = pd.read_csv(f)\n",
    "    return df\n"
   ]
  },
  {
   "cell_type": "code",
   "execution_count": 8,
   "metadata": {},
   "outputs": [
    {
     "data": {
      "text/html": [
       "<div>\n",
       "<style scoped>\n",
       "    .dataframe tbody tr th:only-of-type {\n",
       "        vertical-align: middle;\n",
       "    }\n",
       "\n",
       "    .dataframe tbody tr th {\n",
       "        vertical-align: top;\n",
       "    }\n",
       "\n",
       "    .dataframe thead th {\n",
       "        text-align: right;\n",
       "    }\n",
       "</style>\n",
       "<table border=\"1\" class=\"dataframe\">\n",
       "  <thead>\n",
       "    <tr style=\"text-align: right;\">\n",
       "      <th></th>\n",
       "      <th>sample_id</th>\n",
       "      <th>partner_sample_id</th>\n",
       "      <th>contributor</th>\n",
       "      <th>country</th>\n",
       "      <th>location</th>\n",
       "      <th>year</th>\n",
       "      <th>month</th>\n",
       "      <th>latitude</th>\n",
       "      <th>longitude</th>\n",
       "      <th>sex_call</th>\n",
       "    </tr>\n",
       "  </thead>\n",
       "  <tbody>\n",
       "    <tr>\n",
       "      <th>0</th>\n",
       "      <td>AB0326-C</td>\n",
       "      <td>BF18-1</td>\n",
       "      <td>Austin Burt</td>\n",
       "      <td>Burkina Faso</td>\n",
       "      <td>Bana</td>\n",
       "      <td>2014</td>\n",
       "      <td>7</td>\n",
       "      <td>11.233</td>\n",
       "      <td>-4.472</td>\n",
       "      <td>F</td>\n",
       "    </tr>\n",
       "    <tr>\n",
       "      <th>1</th>\n",
       "      <td>AB0327-C</td>\n",
       "      <td>BF18-3</td>\n",
       "      <td>Austin Burt</td>\n",
       "      <td>Burkina Faso</td>\n",
       "      <td>Bana</td>\n",
       "      <td>2014</td>\n",
       "      <td>7</td>\n",
       "      <td>11.233</td>\n",
       "      <td>-4.472</td>\n",
       "      <td>F</td>\n",
       "    </tr>\n",
       "    <tr>\n",
       "      <th>2</th>\n",
       "      <td>AB0328-C</td>\n",
       "      <td>BF18-4</td>\n",
       "      <td>Austin Burt</td>\n",
       "      <td>Burkina Faso</td>\n",
       "      <td>Bana</td>\n",
       "      <td>2014</td>\n",
       "      <td>7</td>\n",
       "      <td>11.233</td>\n",
       "      <td>-4.472</td>\n",
       "      <td>F</td>\n",
       "    </tr>\n",
       "    <tr>\n",
       "      <th>3</th>\n",
       "      <td>AB0329-C</td>\n",
       "      <td>BF18-5</td>\n",
       "      <td>Austin Burt</td>\n",
       "      <td>Burkina Faso</td>\n",
       "      <td>Bana</td>\n",
       "      <td>2014</td>\n",
       "      <td>7</td>\n",
       "      <td>11.233</td>\n",
       "      <td>-4.472</td>\n",
       "      <td>F</td>\n",
       "    </tr>\n",
       "    <tr>\n",
       "      <th>4</th>\n",
       "      <td>AB0330-C</td>\n",
       "      <td>BF18-6</td>\n",
       "      <td>Austin Burt</td>\n",
       "      <td>Burkina Faso</td>\n",
       "      <td>Bana</td>\n",
       "      <td>2014</td>\n",
       "      <td>7</td>\n",
       "      <td>11.233</td>\n",
       "      <td>-4.472</td>\n",
       "      <td>F</td>\n",
       "    </tr>\n",
       "    <tr>\n",
       "      <th>...</th>\n",
       "      <td>...</td>\n",
       "      <td>...</td>\n",
       "      <td>...</td>\n",
       "      <td>...</td>\n",
       "      <td>...</td>\n",
       "      <td>...</td>\n",
       "      <td>...</td>\n",
       "      <td>...</td>\n",
       "      <td>...</td>\n",
       "      <td>...</td>\n",
       "    </tr>\n",
       "    <tr>\n",
       "      <th>97</th>\n",
       "      <td>AB0533-C</td>\n",
       "      <td>BF13-18</td>\n",
       "      <td>Austin Burt</td>\n",
       "      <td>Burkina Faso</td>\n",
       "      <td>Souroukoudinga</td>\n",
       "      <td>2014</td>\n",
       "      <td>7</td>\n",
       "      <td>11.235</td>\n",
       "      <td>-4.535</td>\n",
       "      <td>F</td>\n",
       "    </tr>\n",
       "    <tr>\n",
       "      <th>98</th>\n",
       "      <td>AB0536-C</td>\n",
       "      <td>BF13-31</td>\n",
       "      <td>Austin Burt</td>\n",
       "      <td>Burkina Faso</td>\n",
       "      <td>Souroukoudinga</td>\n",
       "      <td>2014</td>\n",
       "      <td>7</td>\n",
       "      <td>11.235</td>\n",
       "      <td>-4.535</td>\n",
       "      <td>F</td>\n",
       "    </tr>\n",
       "    <tr>\n",
       "      <th>99</th>\n",
       "      <td>AB0537-C</td>\n",
       "      <td>BF13-32</td>\n",
       "      <td>Austin Burt</td>\n",
       "      <td>Burkina Faso</td>\n",
       "      <td>Souroukoudinga</td>\n",
       "      <td>2014</td>\n",
       "      <td>7</td>\n",
       "      <td>11.235</td>\n",
       "      <td>-4.535</td>\n",
       "      <td>F</td>\n",
       "    </tr>\n",
       "    <tr>\n",
       "      <th>100</th>\n",
       "      <td>AB0538-C</td>\n",
       "      <td>BF13-33</td>\n",
       "      <td>Austin Burt</td>\n",
       "      <td>Burkina Faso</td>\n",
       "      <td>Souroukoudinga</td>\n",
       "      <td>2014</td>\n",
       "      <td>7</td>\n",
       "      <td>11.235</td>\n",
       "      <td>-4.535</td>\n",
       "      <td>F</td>\n",
       "    </tr>\n",
       "    <tr>\n",
       "      <th>101</th>\n",
       "      <td>AB0408-C</td>\n",
       "      <td>BF14-20</td>\n",
       "      <td>Austin Burt</td>\n",
       "      <td>Burkina Faso</td>\n",
       "      <td>Bana</td>\n",
       "      <td>2014</td>\n",
       "      <td>7</td>\n",
       "      <td>11.233</td>\n",
       "      <td>-4.472</td>\n",
       "      <td>F</td>\n",
       "    </tr>\n",
       "  </tbody>\n",
       "</table>\n",
       "<p>102 rows × 10 columns</p>\n",
       "</div>"
      ],
      "text/plain": [
       "    sample_id partner_sample_id  contributor       country        location  \\\n",
       "0    AB0326-C            BF18-1  Austin Burt  Burkina Faso            Bana   \n",
       "1    AB0327-C            BF18-3  Austin Burt  Burkina Faso            Bana   \n",
       "2    AB0328-C            BF18-4  Austin Burt  Burkina Faso            Bana   \n",
       "3    AB0329-C            BF18-5  Austin Burt  Burkina Faso            Bana   \n",
       "4    AB0330-C            BF18-6  Austin Burt  Burkina Faso            Bana   \n",
       "..        ...               ...          ...           ...             ...   \n",
       "97   AB0533-C           BF13-18  Austin Burt  Burkina Faso  Souroukoudinga   \n",
       "98   AB0536-C           BF13-31  Austin Burt  Burkina Faso  Souroukoudinga   \n",
       "99   AB0537-C           BF13-32  Austin Burt  Burkina Faso  Souroukoudinga   \n",
       "100  AB0538-C           BF13-33  Austin Burt  Burkina Faso  Souroukoudinga   \n",
       "101  AB0408-C           BF14-20  Austin Burt  Burkina Faso            Bana   \n",
       "\n",
       "     year  month  latitude  longitude sex_call  \n",
       "0    2014      7    11.233     -4.472        F  \n",
       "1    2014      7    11.233     -4.472        F  \n",
       "2    2014      7    11.233     -4.472        F  \n",
       "3    2014      7    11.233     -4.472        F  \n",
       "4    2014      7    11.233     -4.472        F  \n",
       "..    ...    ...       ...        ...      ...  \n",
       "97   2014      7    11.235     -4.535        F  \n",
       "98   2014      7    11.235     -4.535        F  \n",
       "99   2014      7    11.235     -4.535        F  \n",
       "100  2014      7    11.235     -4.535        F  \n",
       "101  2014      7    11.233     -4.472        F  \n",
       "\n",
       "[102 rows x 10 columns]"
      ]
     },
     "execution_count": 8,
     "metadata": {},
     "output_type": "execute_result"
    }
   ],
   "source": [
    "df = load_sample_metadata('AG1000G-BF-B')\n",
    "df"
   ]
  },
  {
   "cell_type": "code",
   "execution_count": 9,
   "metadata": {},
   "outputs": [
    {
     "data": {
      "text/plain": [
       "contributor  country       location        year  month\n",
       "Austin Burt  Burkina Faso  Bana            2014  7        63\n",
       "                           Pala            2014  7        18\n",
       "                           Souroukoudinga  2014  7        21\n",
       "dtype: int64"
      ]
     },
     "execution_count": 9,
     "metadata": {},
     "output_type": "execute_result"
    }
   ],
   "source": [
    "df.groupby(['contributor', 'country', 'location', 'year', 'month']).size()"
   ]
  },
  {
   "cell_type": "code",
   "execution_count": 10,
   "metadata": {},
   "outputs": [
    {
     "data": {
      "text/html": [
       "<div>\n",
       "<style scoped>\n",
       "    .dataframe tbody tr th:only-of-type {\n",
       "        vertical-align: middle;\n",
       "    }\n",
       "\n",
       "    .dataframe tbody tr th {\n",
       "        vertical-align: top;\n",
       "    }\n",
       "\n",
       "    .dataframe thead th {\n",
       "        text-align: right;\n",
       "    }\n",
       "</style>\n",
       "<table border=\"1\" class=\"dataframe\">\n",
       "  <thead>\n",
       "    <tr style=\"text-align: right;\">\n",
       "      <th></th>\n",
       "      <th>sample_id</th>\n",
       "      <th>partner_sample_id</th>\n",
       "      <th>contributor</th>\n",
       "      <th>country</th>\n",
       "      <th>location</th>\n",
       "      <th>year</th>\n",
       "      <th>month</th>\n",
       "      <th>latitude</th>\n",
       "      <th>longitude</th>\n",
       "      <th>sex_call</th>\n",
       "    </tr>\n",
       "  </thead>\n",
       "  <tbody>\n",
       "    <tr>\n",
       "      <th>0</th>\n",
       "      <td>AZ0253-C</td>\n",
       "      <td>bc017</td>\n",
       "      <td>Nora Besansky</td>\n",
       "      <td>Mali</td>\n",
       "      <td>Bancoumana</td>\n",
       "      <td>2004</td>\n",
       "      <td>8</td>\n",
       "      <td>12.20</td>\n",
       "      <td>-8.20</td>\n",
       "      <td>F</td>\n",
       "    </tr>\n",
       "    <tr>\n",
       "      <th>1</th>\n",
       "      <td>AZ0254-C</td>\n",
       "      <td>bc047</td>\n",
       "      <td>Nora Besansky</td>\n",
       "      <td>Mali</td>\n",
       "      <td>Bancoumana</td>\n",
       "      <td>2004</td>\n",
       "      <td>8</td>\n",
       "      <td>12.20</td>\n",
       "      <td>-8.20</td>\n",
       "      <td>F</td>\n",
       "    </tr>\n",
       "    <tr>\n",
       "      <th>2</th>\n",
       "      <td>AZ0255-C</td>\n",
       "      <td>bc049</td>\n",
       "      <td>Nora Besansky</td>\n",
       "      <td>Mali</td>\n",
       "      <td>Bancoumana</td>\n",
       "      <td>2004</td>\n",
       "      <td>8</td>\n",
       "      <td>12.20</td>\n",
       "      <td>-8.20</td>\n",
       "      <td>F</td>\n",
       "    </tr>\n",
       "    <tr>\n",
       "      <th>3</th>\n",
       "      <td>AZ0256-C</td>\n",
       "      <td>bc020</td>\n",
       "      <td>Nora Besansky</td>\n",
       "      <td>Mali</td>\n",
       "      <td>Bancoumana</td>\n",
       "      <td>2004</td>\n",
       "      <td>8</td>\n",
       "      <td>12.20</td>\n",
       "      <td>-8.20</td>\n",
       "      <td>F</td>\n",
       "    </tr>\n",
       "    <tr>\n",
       "      <th>4</th>\n",
       "      <td>AZ0258-C</td>\n",
       "      <td>bc052</td>\n",
       "      <td>Nora Besansky</td>\n",
       "      <td>Mali</td>\n",
       "      <td>Bancoumana</td>\n",
       "      <td>2004</td>\n",
       "      <td>8</td>\n",
       "      <td>12.20</td>\n",
       "      <td>-8.20</td>\n",
       "      <td>F</td>\n",
       "    </tr>\n",
       "    <tr>\n",
       "      <th>...</th>\n",
       "      <td>...</td>\n",
       "      <td>...</td>\n",
       "      <td>...</td>\n",
       "      <td>...</td>\n",
       "      <td>...</td>\n",
       "      <td>...</td>\n",
       "      <td>...</td>\n",
       "      <td>...</td>\n",
       "      <td>...</td>\n",
       "      <td>...</td>\n",
       "    </tr>\n",
       "    <tr>\n",
       "      <th>66</th>\n",
       "      <td>VBS02119-4431STDY6772831</td>\n",
       "      <td>kl0831</td>\n",
       "      <td>Nora Besansky</td>\n",
       "      <td>Mali</td>\n",
       "      <td>Kela</td>\n",
       "      <td>2004</td>\n",
       "      <td>8</td>\n",
       "      <td>11.88</td>\n",
       "      <td>-8.45</td>\n",
       "      <td>F</td>\n",
       "    </tr>\n",
       "    <tr>\n",
       "      <th>67</th>\n",
       "      <td>VBS02121-4431STDY6772832</td>\n",
       "      <td>kl0836</td>\n",
       "      <td>Nora Besansky</td>\n",
       "      <td>Mali</td>\n",
       "      <td>Kela</td>\n",
       "      <td>2004</td>\n",
       "      <td>8</td>\n",
       "      <td>11.88</td>\n",
       "      <td>-8.45</td>\n",
       "      <td>F</td>\n",
       "    </tr>\n",
       "    <tr>\n",
       "      <th>68</th>\n",
       "      <td>VBS02127-4431STDY6772833</td>\n",
       "      <td>kl0869</td>\n",
       "      <td>Nora Besansky</td>\n",
       "      <td>Mali</td>\n",
       "      <td>Kela</td>\n",
       "      <td>2004</td>\n",
       "      <td>8</td>\n",
       "      <td>11.88</td>\n",
       "      <td>-8.45</td>\n",
       "      <td>F</td>\n",
       "    </tr>\n",
       "    <tr>\n",
       "      <th>69</th>\n",
       "      <td>VBS02129-4431STDY6772835</td>\n",
       "      <td>kl0884</td>\n",
       "      <td>Nora Besansky</td>\n",
       "      <td>Mali</td>\n",
       "      <td>Kela</td>\n",
       "      <td>2004</td>\n",
       "      <td>8</td>\n",
       "      <td>11.88</td>\n",
       "      <td>-8.45</td>\n",
       "      <td>F</td>\n",
       "    </tr>\n",
       "    <tr>\n",
       "      <th>70</th>\n",
       "      <td>VBS02130-4431STDY6772836</td>\n",
       "      <td>kl0886</td>\n",
       "      <td>Nora Besansky</td>\n",
       "      <td>Mali</td>\n",
       "      <td>Kela</td>\n",
       "      <td>2004</td>\n",
       "      <td>8</td>\n",
       "      <td>11.88</td>\n",
       "      <td>-8.45</td>\n",
       "      <td>F</td>\n",
       "    </tr>\n",
       "  </tbody>\n",
       "</table>\n",
       "<p>71 rows × 10 columns</p>\n",
       "</div>"
      ],
      "text/plain": [
       "                   sample_id partner_sample_id    contributor country  \\\n",
       "0                   AZ0253-C             bc017  Nora Besansky    Mali   \n",
       "1                   AZ0254-C             bc047  Nora Besansky    Mali   \n",
       "2                   AZ0255-C             bc049  Nora Besansky    Mali   \n",
       "3                   AZ0256-C             bc020  Nora Besansky    Mali   \n",
       "4                   AZ0258-C             bc052  Nora Besansky    Mali   \n",
       "..                       ...               ...            ...     ...   \n",
       "66  VBS02119-4431STDY6772831            kl0831  Nora Besansky    Mali   \n",
       "67  VBS02121-4431STDY6772832            kl0836  Nora Besansky    Mali   \n",
       "68  VBS02127-4431STDY6772833            kl0869  Nora Besansky    Mali   \n",
       "69  VBS02129-4431STDY6772835            kl0884  Nora Besansky    Mali   \n",
       "70  VBS02130-4431STDY6772836            kl0886  Nora Besansky    Mali   \n",
       "\n",
       "      location  year  month  latitude  longitude sex_call  \n",
       "0   Bancoumana  2004      8     12.20      -8.20        F  \n",
       "1   Bancoumana  2004      8     12.20      -8.20        F  \n",
       "2   Bancoumana  2004      8     12.20      -8.20        F  \n",
       "3   Bancoumana  2004      8     12.20      -8.20        F  \n",
       "4   Bancoumana  2004      8     12.20      -8.20        F  \n",
       "..         ...   ...    ...       ...        ...      ...  \n",
       "66        Kela  2004      8     11.88      -8.45        F  \n",
       "67        Kela  2004      8     11.88      -8.45        F  \n",
       "68        Kela  2004      8     11.88      -8.45        F  \n",
       "69        Kela  2004      8     11.88      -8.45        F  \n",
       "70        Kela  2004      8     11.88      -8.45        F  \n",
       "\n",
       "[71 rows x 10 columns]"
      ]
     },
     "execution_count": 10,
     "metadata": {},
     "output_type": "execute_result"
    }
   ],
   "source": [
    "df = load_sample_metadata('AG1000G-ML-B')\n",
    "df"
   ]
  },
  {
   "cell_type": "code",
   "execution_count": 11,
   "metadata": {},
   "outputs": [
    {
     "data": {
      "text/plain": [
       "contributor    country  location      year  month\n",
       "Nora Besansky  Mali     Bancoumana    2004  8         9\n",
       "                        Douna         2004  8        20\n",
       "                        Fanzana       2004  8         8\n",
       "                        Kela          2004  8        23\n",
       "                        Moribobougou  2004  8         7\n",
       "                        N'Gabakoro    2004  8         4\n",
       "dtype: int64"
      ]
     },
     "execution_count": 11,
     "metadata": {},
     "output_type": "execute_result"
    }
   ],
   "source": [
    "df.groupby(['contributor', 'country', 'location', 'year', 'month']).size()"
   ]
  },
  {
   "cell_type": "markdown",
   "metadata": {},
   "source": [
    "## Species calls"
   ]
  },
  {
   "cell_type": "code",
   "execution_count": 12,
   "metadata": {},
   "outputs": [],
   "source": [
    "def load_species_calls(sample_set):\n",
    "    with gcs.open(release_path + f'/metadata/species_calls_20200422/{sample_set}/samples.species_pca.csv') as f:\n",
    "        df_pca = pd.read_csv(f).rename({'species_gambcolu_arabiensis': 'pca_species_gambcolu_arabiensis',\n",
    "                                        'species_gambiae_coluzzii': 'pca_species_gambiae_coluzzii',}, axis=1)\n",
    "    with gcs.open(release_path + f'/metadata/species_calls_20200422/{sample_set}/samples.species_aim.csv') as f:\n",
    "        df_aim = pd.read_csv(f).rename({'species_gambcolu_arabiensis': 'aim_species_gambcolu_arabiensis',\n",
    "                                        'species_gambiae_coluzzii': 'aim_species_gambiae_coluzzii',}, axis=1)\n",
    "    df = pd.merge(df_pca, df_aim, on='sample_id')\n",
    "    return df\n"
   ]
  },
  {
   "cell_type": "code",
   "execution_count": 13,
   "metadata": {},
   "outputs": [
    {
     "data": {
      "text/html": [
       "<div>\n",
       "<style scoped>\n",
       "    .dataframe tbody tr th:only-of-type {\n",
       "        vertical-align: middle;\n",
       "    }\n",
       "\n",
       "    .dataframe tbody tr th {\n",
       "        vertical-align: top;\n",
       "    }\n",
       "\n",
       "    .dataframe thead th {\n",
       "        text-align: right;\n",
       "    }\n",
       "</style>\n",
       "<table border=\"1\" class=\"dataframe\">\n",
       "  <thead>\n",
       "    <tr style=\"text-align: right;\">\n",
       "      <th></th>\n",
       "      <th>sample_id</th>\n",
       "      <th>PC1</th>\n",
       "      <th>PC2</th>\n",
       "      <th>pca_species_gambcolu_arabiensis</th>\n",
       "      <th>pca_species_gambiae_coluzzii</th>\n",
       "      <th>aim_fraction_colu</th>\n",
       "      <th>aim_fraction_arab</th>\n",
       "      <th>aim_species_gambcolu_arabiensis</th>\n",
       "      <th>aim_species_gambiae_coluzzii</th>\n",
       "    </tr>\n",
       "  </thead>\n",
       "  <tbody>\n",
       "    <tr>\n",
       "      <th>0</th>\n",
       "      <td>BL0046-C</td>\n",
       "      <td>-27.700</td>\n",
       "      <td>-18.597</td>\n",
       "      <td>gamb_colu</td>\n",
       "      <td>gambiae</td>\n",
       "      <td>0.125</td>\n",
       "      <td>0.005</td>\n",
       "      <td>gamb_colu</td>\n",
       "      <td>intermediate</td>\n",
       "    </tr>\n",
       "    <tr>\n",
       "      <th>1</th>\n",
       "      <td>BL0047-C</td>\n",
       "      <td>202.946</td>\n",
       "      <td>2.731</td>\n",
       "      <td>arabiensis</td>\n",
       "      <td>NaN</td>\n",
       "      <td>0.459</td>\n",
       "      <td>0.745</td>\n",
       "      <td>arabiensis</td>\n",
       "      <td>NaN</td>\n",
       "    </tr>\n",
       "    <tr>\n",
       "      <th>2</th>\n",
       "      <td>BL0048-C</td>\n",
       "      <td>198.683</td>\n",
       "      <td>4.455</td>\n",
       "      <td>arabiensis</td>\n",
       "      <td>NaN</td>\n",
       "      <td>0.455</td>\n",
       "      <td>0.742</td>\n",
       "      <td>arabiensis</td>\n",
       "      <td>NaN</td>\n",
       "    </tr>\n",
       "    <tr>\n",
       "      <th>3</th>\n",
       "      <td>BL0049-C</td>\n",
       "      <td>202.344</td>\n",
       "      <td>4.364</td>\n",
       "      <td>arabiensis</td>\n",
       "      <td>NaN</td>\n",
       "      <td>0.455</td>\n",
       "      <td>0.744</td>\n",
       "      <td>arabiensis</td>\n",
       "      <td>NaN</td>\n",
       "    </tr>\n",
       "    <tr>\n",
       "      <th>4</th>\n",
       "      <td>BL0050-C</td>\n",
       "      <td>197.466</td>\n",
       "      <td>3.327</td>\n",
       "      <td>arabiensis</td>\n",
       "      <td>NaN</td>\n",
       "      <td>0.451</td>\n",
       "      <td>0.735</td>\n",
       "      <td>arabiensis</td>\n",
       "      <td>NaN</td>\n",
       "    </tr>\n",
       "    <tr>\n",
       "      <th>...</th>\n",
       "      <td>...</td>\n",
       "      <td>...</td>\n",
       "      <td>...</td>\n",
       "      <td>...</td>\n",
       "      <td>...</td>\n",
       "      <td>...</td>\n",
       "      <td>...</td>\n",
       "      <td>...</td>\n",
       "      <td>...</td>\n",
       "    </tr>\n",
       "    <tr>\n",
       "      <th>295</th>\n",
       "      <td>BL0391-C</td>\n",
       "      <td>-22.015</td>\n",
       "      <td>-49.639</td>\n",
       "      <td>gamb_colu</td>\n",
       "      <td>gambiae</td>\n",
       "      <td>0.048</td>\n",
       "      <td>0.002</td>\n",
       "      <td>gamb_colu</td>\n",
       "      <td>gambiae</td>\n",
       "    </tr>\n",
       "    <tr>\n",
       "      <th>296</th>\n",
       "      <td>BL0392-C</td>\n",
       "      <td>-20.633</td>\n",
       "      <td>-48.977</td>\n",
       "      <td>gamb_colu</td>\n",
       "      <td>gambiae</td>\n",
       "      <td>0.036</td>\n",
       "      <td>0.002</td>\n",
       "      <td>gamb_colu</td>\n",
       "      <td>gambiae</td>\n",
       "    </tr>\n",
       "    <tr>\n",
       "      <th>297</th>\n",
       "      <td>BL0393-C</td>\n",
       "      <td>-18.719</td>\n",
       "      <td>-50.235</td>\n",
       "      <td>gamb_colu</td>\n",
       "      <td>gambiae</td>\n",
       "      <td>0.041</td>\n",
       "      <td>0.006</td>\n",
       "      <td>gamb_colu</td>\n",
       "      <td>gambiae</td>\n",
       "    </tr>\n",
       "    <tr>\n",
       "      <th>298</th>\n",
       "      <td>BL0394-C</td>\n",
       "      <td>-26.900</td>\n",
       "      <td>-16.804</td>\n",
       "      <td>gamb_colu</td>\n",
       "      <td>gambiae</td>\n",
       "      <td>0.128</td>\n",
       "      <td>0.004</td>\n",
       "      <td>gamb_colu</td>\n",
       "      <td>intermediate</td>\n",
       "    </tr>\n",
       "    <tr>\n",
       "      <th>299</th>\n",
       "      <td>BL0250-CW</td>\n",
       "      <td>209.952</td>\n",
       "      <td>5.168</td>\n",
       "      <td>arabiensis</td>\n",
       "      <td>NaN</td>\n",
       "      <td>0.459</td>\n",
       "      <td>0.744</td>\n",
       "      <td>arabiensis</td>\n",
       "      <td>NaN</td>\n",
       "    </tr>\n",
       "  </tbody>\n",
       "</table>\n",
       "<p>300 rows × 9 columns</p>\n",
       "</div>"
      ],
      "text/plain": [
       "     sample_id      PC1     PC2 pca_species_gambcolu_arabiensis  \\\n",
       "0     BL0046-C  -27.700 -18.597                       gamb_colu   \n",
       "1     BL0047-C  202.946   2.731                      arabiensis   \n",
       "2     BL0048-C  198.683   4.455                      arabiensis   \n",
       "3     BL0049-C  202.344   4.364                      arabiensis   \n",
       "4     BL0050-C  197.466   3.327                      arabiensis   \n",
       "..         ...      ...     ...                             ...   \n",
       "295   BL0391-C  -22.015 -49.639                       gamb_colu   \n",
       "296   BL0392-C  -20.633 -48.977                       gamb_colu   \n",
       "297   BL0393-C  -18.719 -50.235                       gamb_colu   \n",
       "298   BL0394-C  -26.900 -16.804                       gamb_colu   \n",
       "299  BL0250-CW  209.952   5.168                      arabiensis   \n",
       "\n",
       "    pca_species_gambiae_coluzzii  aim_fraction_colu  aim_fraction_arab  \\\n",
       "0                        gambiae              0.125              0.005   \n",
       "1                            NaN              0.459              0.745   \n",
       "2                            NaN              0.455              0.742   \n",
       "3                            NaN              0.455              0.744   \n",
       "4                            NaN              0.451              0.735   \n",
       "..                           ...                ...                ...   \n",
       "295                      gambiae              0.048              0.002   \n",
       "296                      gambiae              0.036              0.002   \n",
       "297                      gambiae              0.041              0.006   \n",
       "298                      gambiae              0.128              0.004   \n",
       "299                          NaN              0.459              0.744   \n",
       "\n",
       "    aim_species_gambcolu_arabiensis aim_species_gambiae_coluzzii  \n",
       "0                         gamb_colu                 intermediate  \n",
       "1                        arabiensis                          NaN  \n",
       "2                        arabiensis                          NaN  \n",
       "3                        arabiensis                          NaN  \n",
       "4                        arabiensis                          NaN  \n",
       "..                              ...                          ...  \n",
       "295                       gamb_colu                      gambiae  \n",
       "296                       gamb_colu                      gambiae  \n",
       "297                       gamb_colu                      gambiae  \n",
       "298                       gamb_colu                 intermediate  \n",
       "299                      arabiensis                          NaN  \n",
       "\n",
       "[300 rows x 9 columns]"
      ]
     },
     "execution_count": 13,
     "metadata": {},
     "output_type": "execute_result"
    }
   ],
   "source": [
    "df = load_species_calls('AG1000G-TZ')\n",
    "df"
   ]
  },
  {
   "cell_type": "code",
   "execution_count": 14,
   "metadata": {},
   "outputs": [
    {
     "data": {
      "text/plain": [
       "pca_species_gambcolu_arabiensis  aim_species_gambcolu_arabiensis\n",
       "arabiensis                       arabiensis                         225\n",
       "gamb_colu                        gamb_colu                           75\n",
       "dtype: int64"
      ]
     },
     "execution_count": 14,
     "metadata": {},
     "output_type": "execute_result"
    }
   ],
   "source": [
    "df.groupby(['pca_species_gambcolu_arabiensis', 'aim_species_gambcolu_arabiensis']).size()"
   ]
  },
  {
   "cell_type": "code",
   "execution_count": 15,
   "metadata": {},
   "outputs": [
    {
     "data": {
      "text/plain": [
       "pca_species_gambiae_coluzzii  aim_species_gambiae_coluzzii\n",
       "gambiae                       gambiae                         68\n",
       "                              intermediate                     7\n",
       "dtype: int64"
      ]
     },
     "execution_count": 15,
     "metadata": {},
     "output_type": "execute_result"
    }
   ],
   "source": [
    "df.groupby(['pca_species_gambiae_coluzzii', 'aim_species_gambiae_coluzzii']).size()"
   ]
  },
  {
   "cell_type": "markdown",
   "metadata": {},
   "source": [
    "## SNP genotypes"
   ]
  },
  {
   "cell_type": "code",
   "execution_count": 16,
   "metadata": {},
   "outputs": [],
   "source": [
    "def load_genotypes(sample_set):\n",
    "    \n",
    "    # load sites\n",
    "    store = gcs.get_mapper(release_path + f'/snp_genotypes/all/sites')\n",
    "    sites = zarr.open_consolidated(store=store)\n",
    "    \n",
    "    # load genotypes\n",
    "    store = gcs.get_mapper(release_path + f'/snp_genotypes/all/{sample_set}')\n",
    "    genotypes = zarr.open_consolidated(store=store)\n",
    "\n",
    "    return sites, genotypes\n",
    "    "
   ]
  },
  {
   "cell_type": "code",
   "execution_count": 17,
   "metadata": {},
   "outputs": [],
   "source": [
    "sites, genotypes = load_genotypes('AG1000G-CM-A')"
   ]
  },
  {
   "cell_type": "code",
   "execution_count": 18,
   "metadata": {},
   "outputs": [
    {
     "data": {
      "text/plain": [
       "<zarr.hierarchy.Group '/'>"
      ]
     },
     "execution_count": 18,
     "metadata": {},
     "output_type": "execute_result"
    }
   ],
   "source": [
    "sites"
   ]
  },
  {
   "cell_type": "code",
   "execution_count": 19,
   "metadata": {},
   "outputs": [
    {
     "name": "stdout",
     "output_type": "stream",
     "text": [
      "/\n",
      " ├── 2L\n",
      " │   ├── calldata\n",
      " │   └── variants\n",
      " │       ├── ALT (48525747, 3) |S1\n",
      " │       ├── POS (48525747,) int32\n",
      " │       └── REF (48525747,) |S1\n",
      " ├── 2R\n",
      " │   ├── calldata\n",
      " │   └── variants\n",
      " │       ├── ALT (60132453, 3) |S1\n",
      " │       ├── POS (60132453,) int32\n",
      " │       └── REF (60132453,) |S1\n",
      " ├── 3L\n",
      " │   ├── calldata\n",
      " │   └── variants\n",
      " │       ├── ALT (40758473, 3) |S1\n",
      " │       ├── POS (40758473,) int32\n",
      " │       └── REF (40758473,) |S1\n",
      " ├── 3R\n",
      " │   ├── calldata\n",
      " │   └── variants\n",
      " │       ├── ALT (52226568, 3) |S1\n",
      " │       ├── POS (52226568,) int32\n",
      " │       └── REF (52226568,) |S1\n",
      " ├── Mt\n",
      " │   ├── calldata\n",
      " │   └── variants\n",
      " │       ├── ALT (15363, 3) |S1\n",
      " │       ├── POS (15363,) int32\n",
      " │       └── REF (15363,) |S1\n",
      " ├── UNKN\n",
      " │   ├── calldata\n",
      " │   └── variants\n",
      " │       ├── ALT (27274988, 3) |S1\n",
      " │       ├── POS (27274988,) int32\n",
      " │       └── REF (27274988,) |S1\n",
      " ├── X\n",
      " │   ├── calldata\n",
      " │   └── variants\n",
      " │       ├── ALT (23385349, 3) |S1\n",
      " │       ├── POS (23385349,) int32\n",
      " │       └── REF (23385349,) |S1\n",
      " └── Y_unplaced\n",
      "     ├── calldata\n",
      "     └── variants\n",
      "         ├── ALT (135155, 3) |S1\n",
      "         ├── POS (135155,) int32\n",
      "         └── REF (135155,) |S1\n"
     ]
    }
   ],
   "source": [
    "print(sites.tree())"
   ]
  },
  {
   "cell_type": "code",
   "execution_count": 20,
   "metadata": {},
   "outputs": [
    {
     "name": "stdout",
     "output_type": "stream",
     "text": [
      "/\n",
      " ├── 2L\n",
      " │   └── calldata\n",
      " │       ├── AD (48525747, 303, 4) int16\n",
      " │       ├── GQ (48525747, 303) int16\n",
      " │       ├── GT (48525747, 303, 2) int8\n",
      " │       └── MQ (48525747, 303) int16\n",
      " ├── 2R\n",
      " │   └── calldata\n",
      " │       ├── AD (60132453, 303, 4) int16\n",
      " │       ├── GQ (60132453, 303) int16\n",
      " │       ├── GT (60132453, 303, 2) int8\n",
      " │       └── MQ (60132453, 303) int16\n",
      " ├── 3L\n",
      " │   └── calldata\n",
      " │       ├── AD (40758473, 303, 4) int16\n",
      " │       ├── GQ (40758473, 303) int16\n",
      " │       ├── GT (40758473, 303, 2) int8\n",
      " │       └── MQ (40758473, 303) int16\n",
      " ├── 3R\n",
      " │   └── calldata\n",
      " │       ├── AD (52226568, 303, 4) int16\n",
      " │       ├── GQ (52226568, 303) int16\n",
      " │       ├── GT (52226568, 303, 2) int8\n",
      " │       └── MQ (52226568, 303) int16\n",
      " ├── X\n",
      " │   └── calldata\n",
      " │       ├── AD (23385349, 303, 4) int16\n",
      " │       ├── GQ (23385349, 303) int16\n",
      " │       ├── GT (23385349, 303, 2) int8\n",
      " │       └── MQ (23385349, 303) int16\n",
      " └── samples (303,) |S24\n"
     ]
    }
   ],
   "source": [
    "print(genotypes.tree())"
   ]
  },
  {
   "cell_type": "code",
   "execution_count": 23,
   "metadata": {},
   "outputs": [
    {
     "data": {
      "text/plain": [
       "<zarr.core.Array '/2R/calldata/GT' (60132453, 303, 2) int8>"
      ]
     },
     "execution_count": 23,
     "metadata": {},
     "output_type": "execute_result"
    }
   ],
   "source": [
    "a = genotypes['2R/calldata/GT']\n",
    "a"
   ]
  },
  {
   "cell_type": "code",
   "execution_count": 24,
   "metadata": {},
   "outputs": [
    {
     "data": {
      "text/plain": [
       "(300000, 50, 2)"
      ]
     },
     "execution_count": 24,
     "metadata": {},
     "output_type": "execute_result"
    }
   ],
   "source": [
    "a.chunks"
   ]
  },
  {
   "cell_type": "code",
   "execution_count": 25,
   "metadata": {},
   "outputs": [
    {
     "data": {
      "text/html": [
       "<table>\n",
       "<tr>\n",
       "<td>\n",
       "<table>\n",
       "  <thead>\n",
       "    <tr><td> </td><th> Array </th><th> Chunk </th></tr>\n",
       "  </thead>\n",
       "  <tbody>\n",
       "    <tr><th> Bytes </th><td> 36.44 GB </td> <td> 120.00 MB </td></tr>\n",
       "    <tr><th> Shape </th><td> (60132453, 303, 2) </td> <td> (600000, 100, 2) </td></tr>\n",
       "    <tr><th> Count </th><td> 405 Tasks </td><td> 404 Chunks </td></tr>\n",
       "    <tr><th> Type </th><td> int8 </td><td> numpy.ndarray </td></tr>\n",
       "  </tbody>\n",
       "</table>\n",
       "</td>\n",
       "<td>\n",
       "<svg width=\"156\" height=\"146\" style=\"stroke:rgb(0,0,0);stroke-width:1\" >\n",
       "\n",
       "  <!-- Horizontal lines -->\n",
       "  <line x1=\"10\" y1=\"0\" x2=\"80\" y2=\"70\" style=\"stroke-width:2\" />\n",
       "  <line x1=\"10\" y1=\"8\" x2=\"80\" y2=\"78\" />\n",
       "  <line x1=\"10\" y1=\"16\" x2=\"80\" y2=\"87\" />\n",
       "  <line x1=\"10\" y1=\"25\" x2=\"80\" y2=\"95\" />\n",
       "  <line x1=\"10\" y1=\"25\" x2=\"80\" y2=\"96\" style=\"stroke-width:2\" />\n",
       "\n",
       "  <!-- Vertical lines -->\n",
       "  <line x1=\"10\" y1=\"0\" x2=\"10\" y2=\"25\" style=\"stroke-width:2\" />\n",
       "  <line x1=\"10\" y1=\"0\" x2=\"10\" y2=\"26\" />\n",
       "  <line x1=\"11\" y1=\"1\" x2=\"11\" y2=\"26\" />\n",
       "  <line x1=\"12\" y1=\"2\" x2=\"12\" y2=\"27\" />\n",
       "  <line x1=\"12\" y1=\"2\" x2=\"12\" y2=\"28\" />\n",
       "  <line x1=\"13\" y1=\"3\" x2=\"13\" y2=\"28\" />\n",
       "  <line x1=\"14\" y1=\"4\" x2=\"14\" y2=\"29\" />\n",
       "  <line x1=\"14\" y1=\"4\" x2=\"14\" y2=\"30\" />\n",
       "  <line x1=\"15\" y1=\"5\" x2=\"15\" y2=\"31\" />\n",
       "  <line x1=\"16\" y1=\"6\" x2=\"16\" y2=\"31\" />\n",
       "  <line x1=\"17\" y1=\"7\" x2=\"17\" y2=\"32\" />\n",
       "  <line x1=\"17\" y1=\"7\" x2=\"17\" y2=\"33\" />\n",
       "  <line x1=\"18\" y1=\"8\" x2=\"18\" y2=\"33\" />\n",
       "  <line x1=\"19\" y1=\"9\" x2=\"19\" y2=\"34\" />\n",
       "  <line x1=\"19\" y1=\"9\" x2=\"19\" y2=\"35\" />\n",
       "  <line x1=\"20\" y1=\"10\" x2=\"20\" y2=\"35\" />\n",
       "  <line x1=\"21\" y1=\"11\" x2=\"21\" y2=\"36\" />\n",
       "  <line x1=\"21\" y1=\"11\" x2=\"21\" y2=\"37\" />\n",
       "  <line x1=\"22\" y1=\"12\" x2=\"22\" y2=\"38\" />\n",
       "  <line x1=\"23\" y1=\"13\" x2=\"23\" y2=\"38\" />\n",
       "  <line x1=\"24\" y1=\"14\" x2=\"24\" y2=\"39\" />\n",
       "  <line x1=\"24\" y1=\"14\" x2=\"24\" y2=\"40\" />\n",
       "  <line x1=\"25\" y1=\"15\" x2=\"25\" y2=\"40\" />\n",
       "  <line x1=\"26\" y1=\"16\" x2=\"26\" y2=\"41\" />\n",
       "  <line x1=\"26\" y1=\"16\" x2=\"26\" y2=\"42\" />\n",
       "  <line x1=\"27\" y1=\"17\" x2=\"27\" y2=\"43\" />\n",
       "  <line x1=\"28\" y1=\"18\" x2=\"28\" y2=\"43\" />\n",
       "  <line x1=\"29\" y1=\"19\" x2=\"29\" y2=\"44\" />\n",
       "  <line x1=\"29\" y1=\"19\" x2=\"29\" y2=\"45\" />\n",
       "  <line x1=\"30\" y1=\"20\" x2=\"30\" y2=\"45\" />\n",
       "  <line x1=\"31\" y1=\"21\" x2=\"31\" y2=\"46\" />\n",
       "  <line x1=\"31\" y1=\"21\" x2=\"31\" y2=\"47\" />\n",
       "  <line x1=\"32\" y1=\"22\" x2=\"32\" y2=\"47\" />\n",
       "  <line x1=\"33\" y1=\"23\" x2=\"33\" y2=\"48\" />\n",
       "  <line x1=\"33\" y1=\"23\" x2=\"33\" y2=\"49\" />\n",
       "  <line x1=\"34\" y1=\"24\" x2=\"34\" y2=\"50\" />\n",
       "  <line x1=\"35\" y1=\"25\" x2=\"35\" y2=\"50\" />\n",
       "  <line x1=\"36\" y1=\"26\" x2=\"36\" y2=\"51\" />\n",
       "  <line x1=\"36\" y1=\"26\" x2=\"36\" y2=\"52\" />\n",
       "  <line x1=\"37\" y1=\"27\" x2=\"37\" y2=\"52\" />\n",
       "  <line x1=\"38\" y1=\"28\" x2=\"38\" y2=\"53\" />\n",
       "  <line x1=\"38\" y1=\"28\" x2=\"38\" y2=\"54\" />\n",
       "  <line x1=\"39\" y1=\"29\" x2=\"39\" y2=\"54\" />\n",
       "  <line x1=\"40\" y1=\"30\" x2=\"40\" y2=\"55\" />\n",
       "  <line x1=\"40\" y1=\"30\" x2=\"40\" y2=\"56\" />\n",
       "  <line x1=\"41\" y1=\"31\" x2=\"41\" y2=\"57\" />\n",
       "  <line x1=\"42\" y1=\"32\" x2=\"42\" y2=\"57\" />\n",
       "  <line x1=\"43\" y1=\"33\" x2=\"43\" y2=\"58\" />\n",
       "  <line x1=\"43\" y1=\"33\" x2=\"43\" y2=\"59\" />\n",
       "  <line x1=\"44\" y1=\"34\" x2=\"44\" y2=\"59\" />\n",
       "  <line x1=\"45\" y1=\"35\" x2=\"45\" y2=\"60\" />\n",
       "  <line x1=\"45\" y1=\"35\" x2=\"45\" y2=\"61\" />\n",
       "  <line x1=\"46\" y1=\"36\" x2=\"46\" y2=\"62\" />\n",
       "  <line x1=\"47\" y1=\"37\" x2=\"47\" y2=\"62\" />\n",
       "  <line x1=\"48\" y1=\"38\" x2=\"48\" y2=\"63\" />\n",
       "  <line x1=\"48\" y1=\"38\" x2=\"48\" y2=\"64\" />\n",
       "  <line x1=\"49\" y1=\"39\" x2=\"49\" y2=\"64\" />\n",
       "  <line x1=\"50\" y1=\"40\" x2=\"50\" y2=\"65\" />\n",
       "  <line x1=\"50\" y1=\"40\" x2=\"50\" y2=\"66\" />\n",
       "  <line x1=\"51\" y1=\"41\" x2=\"51\" y2=\"66\" />\n",
       "  <line x1=\"52\" y1=\"42\" x2=\"52\" y2=\"67\" />\n",
       "  <line x1=\"52\" y1=\"42\" x2=\"52\" y2=\"68\" />\n",
       "  <line x1=\"53\" y1=\"43\" x2=\"53\" y2=\"69\" />\n",
       "  <line x1=\"54\" y1=\"44\" x2=\"54\" y2=\"69\" />\n",
       "  <line x1=\"55\" y1=\"45\" x2=\"55\" y2=\"70\" />\n",
       "  <line x1=\"55\" y1=\"45\" x2=\"55\" y2=\"71\" />\n",
       "  <line x1=\"56\" y1=\"46\" x2=\"56\" y2=\"71\" />\n",
       "  <line x1=\"57\" y1=\"47\" x2=\"57\" y2=\"72\" />\n",
       "  <line x1=\"57\" y1=\"47\" x2=\"57\" y2=\"73\" />\n",
       "  <line x1=\"58\" y1=\"48\" x2=\"58\" y2=\"74\" />\n",
       "  <line x1=\"59\" y1=\"49\" x2=\"59\" y2=\"74\" />\n",
       "  <line x1=\"60\" y1=\"50\" x2=\"60\" y2=\"75\" />\n",
       "  <line x1=\"60\" y1=\"50\" x2=\"60\" y2=\"76\" />\n",
       "  <line x1=\"61\" y1=\"51\" x2=\"61\" y2=\"76\" />\n",
       "  <line x1=\"62\" y1=\"52\" x2=\"62\" y2=\"77\" />\n",
       "  <line x1=\"62\" y1=\"52\" x2=\"62\" y2=\"78\" />\n",
       "  <line x1=\"63\" y1=\"53\" x2=\"63\" y2=\"78\" />\n",
       "  <line x1=\"64\" y1=\"54\" x2=\"64\" y2=\"79\" />\n",
       "  <line x1=\"64\" y1=\"54\" x2=\"64\" y2=\"80\" />\n",
       "  <line x1=\"65\" y1=\"55\" x2=\"65\" y2=\"81\" />\n",
       "  <line x1=\"66\" y1=\"56\" x2=\"66\" y2=\"81\" />\n",
       "  <line x1=\"67\" y1=\"57\" x2=\"67\" y2=\"82\" />\n",
       "  <line x1=\"67\" y1=\"57\" x2=\"67\" y2=\"83\" />\n",
       "  <line x1=\"68\" y1=\"58\" x2=\"68\" y2=\"83\" />\n",
       "  <line x1=\"69\" y1=\"59\" x2=\"69\" y2=\"84\" />\n",
       "  <line x1=\"69\" y1=\"59\" x2=\"69\" y2=\"85\" />\n",
       "  <line x1=\"70\" y1=\"60\" x2=\"70\" y2=\"85\" />\n",
       "  <line x1=\"71\" y1=\"61\" x2=\"71\" y2=\"86\" />\n",
       "  <line x1=\"71\" y1=\"61\" x2=\"71\" y2=\"87\" />\n",
       "  <line x1=\"72\" y1=\"62\" x2=\"72\" y2=\"88\" />\n",
       "  <line x1=\"73\" y1=\"63\" x2=\"73\" y2=\"88\" />\n",
       "  <line x1=\"74\" y1=\"64\" x2=\"74\" y2=\"89\" />\n",
       "  <line x1=\"74\" y1=\"64\" x2=\"74\" y2=\"90\" />\n",
       "  <line x1=\"75\" y1=\"65\" x2=\"75\" y2=\"90\" />\n",
       "  <line x1=\"76\" y1=\"66\" x2=\"76\" y2=\"91\" />\n",
       "  <line x1=\"76\" y1=\"66\" x2=\"76\" y2=\"92\" />\n",
       "  <line x1=\"77\" y1=\"67\" x2=\"77\" y2=\"93\" />\n",
       "  <line x1=\"78\" y1=\"68\" x2=\"78\" y2=\"93\" />\n",
       "  <line x1=\"79\" y1=\"69\" x2=\"79\" y2=\"94\" />\n",
       "  <line x1=\"79\" y1=\"69\" x2=\"79\" y2=\"95\" />\n",
       "  <line x1=\"80\" y1=\"70\" x2=\"80\" y2=\"95\" />\n",
       "  <line x1=\"80\" y1=\"70\" x2=\"80\" y2=\"96\" style=\"stroke-width:2\" />\n",
       "\n",
       "  <!-- Colored Rectangle -->\n",
       "  <polygon points=\"10.000000,0.000000 80.588235,70.588235 80.588235,96.000852 10.000000,25.412617\" style=\"fill:#ECB172A0;stroke-width:0\"/>\n",
       "\n",
       "  <!-- Horizontal lines -->\n",
       "  <line x1=\"10\" y1=\"0\" x2=\"35\" y2=\"0\" style=\"stroke-width:2\" />\n",
       "  <line x1=\"10\" y1=\"0\" x2=\"36\" y2=\"0\" />\n",
       "  <line x1=\"11\" y1=\"1\" x2=\"36\" y2=\"1\" />\n",
       "  <line x1=\"12\" y1=\"2\" x2=\"37\" y2=\"2\" />\n",
       "  <line x1=\"12\" y1=\"2\" x2=\"38\" y2=\"2\" />\n",
       "  <line x1=\"13\" y1=\"3\" x2=\"38\" y2=\"3\" />\n",
       "  <line x1=\"14\" y1=\"4\" x2=\"39\" y2=\"4\" />\n",
       "  <line x1=\"14\" y1=\"4\" x2=\"40\" y2=\"4\" />\n",
       "  <line x1=\"15\" y1=\"5\" x2=\"41\" y2=\"5\" />\n",
       "  <line x1=\"16\" y1=\"6\" x2=\"41\" y2=\"6\" />\n",
       "  <line x1=\"17\" y1=\"7\" x2=\"42\" y2=\"7\" />\n",
       "  <line x1=\"17\" y1=\"7\" x2=\"43\" y2=\"7\" />\n",
       "  <line x1=\"18\" y1=\"8\" x2=\"43\" y2=\"8\" />\n",
       "  <line x1=\"19\" y1=\"9\" x2=\"44\" y2=\"9\" />\n",
       "  <line x1=\"19\" y1=\"9\" x2=\"45\" y2=\"9\" />\n",
       "  <line x1=\"20\" y1=\"10\" x2=\"45\" y2=\"10\" />\n",
       "  <line x1=\"21\" y1=\"11\" x2=\"46\" y2=\"11\" />\n",
       "  <line x1=\"21\" y1=\"11\" x2=\"47\" y2=\"11\" />\n",
       "  <line x1=\"22\" y1=\"12\" x2=\"48\" y2=\"12\" />\n",
       "  <line x1=\"23\" y1=\"13\" x2=\"48\" y2=\"13\" />\n",
       "  <line x1=\"24\" y1=\"14\" x2=\"49\" y2=\"14\" />\n",
       "  <line x1=\"24\" y1=\"14\" x2=\"50\" y2=\"14\" />\n",
       "  <line x1=\"25\" y1=\"15\" x2=\"50\" y2=\"15\" />\n",
       "  <line x1=\"26\" y1=\"16\" x2=\"51\" y2=\"16\" />\n",
       "  <line x1=\"26\" y1=\"16\" x2=\"52\" y2=\"16\" />\n",
       "  <line x1=\"27\" y1=\"17\" x2=\"53\" y2=\"17\" />\n",
       "  <line x1=\"28\" y1=\"18\" x2=\"53\" y2=\"18\" />\n",
       "  <line x1=\"29\" y1=\"19\" x2=\"54\" y2=\"19\" />\n",
       "  <line x1=\"29\" y1=\"19\" x2=\"55\" y2=\"19\" />\n",
       "  <line x1=\"30\" y1=\"20\" x2=\"55\" y2=\"20\" />\n",
       "  <line x1=\"31\" y1=\"21\" x2=\"56\" y2=\"21\" />\n",
       "  <line x1=\"31\" y1=\"21\" x2=\"57\" y2=\"21\" />\n",
       "  <line x1=\"32\" y1=\"22\" x2=\"57\" y2=\"22\" />\n",
       "  <line x1=\"33\" y1=\"23\" x2=\"58\" y2=\"23\" />\n",
       "  <line x1=\"33\" y1=\"23\" x2=\"59\" y2=\"23\" />\n",
       "  <line x1=\"34\" y1=\"24\" x2=\"60\" y2=\"24\" />\n",
       "  <line x1=\"35\" y1=\"25\" x2=\"60\" y2=\"25\" />\n",
       "  <line x1=\"36\" y1=\"26\" x2=\"61\" y2=\"26\" />\n",
       "  <line x1=\"36\" y1=\"26\" x2=\"62\" y2=\"26\" />\n",
       "  <line x1=\"37\" y1=\"27\" x2=\"62\" y2=\"27\" />\n",
       "  <line x1=\"38\" y1=\"28\" x2=\"63\" y2=\"28\" />\n",
       "  <line x1=\"38\" y1=\"28\" x2=\"64\" y2=\"28\" />\n",
       "  <line x1=\"39\" y1=\"29\" x2=\"64\" y2=\"29\" />\n",
       "  <line x1=\"40\" y1=\"30\" x2=\"65\" y2=\"30\" />\n",
       "  <line x1=\"40\" y1=\"30\" x2=\"66\" y2=\"30\" />\n",
       "  <line x1=\"41\" y1=\"31\" x2=\"67\" y2=\"31\" />\n",
       "  <line x1=\"42\" y1=\"32\" x2=\"67\" y2=\"32\" />\n",
       "  <line x1=\"43\" y1=\"33\" x2=\"68\" y2=\"33\" />\n",
       "  <line x1=\"43\" y1=\"33\" x2=\"69\" y2=\"33\" />\n",
       "  <line x1=\"44\" y1=\"34\" x2=\"69\" y2=\"34\" />\n",
       "  <line x1=\"45\" y1=\"35\" x2=\"70\" y2=\"35\" />\n",
       "  <line x1=\"45\" y1=\"35\" x2=\"71\" y2=\"35\" />\n",
       "  <line x1=\"46\" y1=\"36\" x2=\"72\" y2=\"36\" />\n",
       "  <line x1=\"47\" y1=\"37\" x2=\"72\" y2=\"37\" />\n",
       "  <line x1=\"48\" y1=\"38\" x2=\"73\" y2=\"38\" />\n",
       "  <line x1=\"48\" y1=\"38\" x2=\"74\" y2=\"38\" />\n",
       "  <line x1=\"49\" y1=\"39\" x2=\"74\" y2=\"39\" />\n",
       "  <line x1=\"50\" y1=\"40\" x2=\"75\" y2=\"40\" />\n",
       "  <line x1=\"50\" y1=\"40\" x2=\"76\" y2=\"40\" />\n",
       "  <line x1=\"51\" y1=\"41\" x2=\"76\" y2=\"41\" />\n",
       "  <line x1=\"52\" y1=\"42\" x2=\"77\" y2=\"42\" />\n",
       "  <line x1=\"52\" y1=\"42\" x2=\"78\" y2=\"42\" />\n",
       "  <line x1=\"53\" y1=\"43\" x2=\"79\" y2=\"43\" />\n",
       "  <line x1=\"54\" y1=\"44\" x2=\"79\" y2=\"44\" />\n",
       "  <line x1=\"55\" y1=\"45\" x2=\"80\" y2=\"45\" />\n",
       "  <line x1=\"55\" y1=\"45\" x2=\"81\" y2=\"45\" />\n",
       "  <line x1=\"56\" y1=\"46\" x2=\"81\" y2=\"46\" />\n",
       "  <line x1=\"57\" y1=\"47\" x2=\"82\" y2=\"47\" />\n",
       "  <line x1=\"57\" y1=\"47\" x2=\"83\" y2=\"47\" />\n",
       "  <line x1=\"58\" y1=\"48\" x2=\"84\" y2=\"48\" />\n",
       "  <line x1=\"59\" y1=\"49\" x2=\"84\" y2=\"49\" />\n",
       "  <line x1=\"60\" y1=\"50\" x2=\"85\" y2=\"50\" />\n",
       "  <line x1=\"60\" y1=\"50\" x2=\"86\" y2=\"50\" />\n",
       "  <line x1=\"61\" y1=\"51\" x2=\"86\" y2=\"51\" />\n",
       "  <line x1=\"62\" y1=\"52\" x2=\"87\" y2=\"52\" />\n",
       "  <line x1=\"62\" y1=\"52\" x2=\"88\" y2=\"52\" />\n",
       "  <line x1=\"63\" y1=\"53\" x2=\"88\" y2=\"53\" />\n",
       "  <line x1=\"64\" y1=\"54\" x2=\"89\" y2=\"54\" />\n",
       "  <line x1=\"64\" y1=\"54\" x2=\"90\" y2=\"54\" />\n",
       "  <line x1=\"65\" y1=\"55\" x2=\"91\" y2=\"55\" />\n",
       "  <line x1=\"66\" y1=\"56\" x2=\"91\" y2=\"56\" />\n",
       "  <line x1=\"67\" y1=\"57\" x2=\"92\" y2=\"57\" />\n",
       "  <line x1=\"67\" y1=\"57\" x2=\"93\" y2=\"57\" />\n",
       "  <line x1=\"68\" y1=\"58\" x2=\"93\" y2=\"58\" />\n",
       "  <line x1=\"69\" y1=\"59\" x2=\"94\" y2=\"59\" />\n",
       "  <line x1=\"69\" y1=\"59\" x2=\"95\" y2=\"59\" />\n",
       "  <line x1=\"70\" y1=\"60\" x2=\"95\" y2=\"60\" />\n",
       "  <line x1=\"71\" y1=\"61\" x2=\"96\" y2=\"61\" />\n",
       "  <line x1=\"71\" y1=\"61\" x2=\"97\" y2=\"61\" />\n",
       "  <line x1=\"72\" y1=\"62\" x2=\"98\" y2=\"62\" />\n",
       "  <line x1=\"73\" y1=\"63\" x2=\"98\" y2=\"63\" />\n",
       "  <line x1=\"74\" y1=\"64\" x2=\"99\" y2=\"64\" />\n",
       "  <line x1=\"74\" y1=\"64\" x2=\"100\" y2=\"64\" />\n",
       "  <line x1=\"75\" y1=\"65\" x2=\"100\" y2=\"65\" />\n",
       "  <line x1=\"76\" y1=\"66\" x2=\"101\" y2=\"66\" />\n",
       "  <line x1=\"76\" y1=\"66\" x2=\"102\" y2=\"66\" />\n",
       "  <line x1=\"77\" y1=\"67\" x2=\"103\" y2=\"67\" />\n",
       "  <line x1=\"78\" y1=\"68\" x2=\"103\" y2=\"68\" />\n",
       "  <line x1=\"79\" y1=\"69\" x2=\"104\" y2=\"69\" />\n",
       "  <line x1=\"79\" y1=\"69\" x2=\"105\" y2=\"69\" />\n",
       "  <line x1=\"80\" y1=\"70\" x2=\"105\" y2=\"70\" />\n",
       "  <line x1=\"80\" y1=\"70\" x2=\"106\" y2=\"70\" style=\"stroke-width:2\" />\n",
       "\n",
       "  <!-- Vertical lines -->\n",
       "  <line x1=\"10\" y1=\"0\" x2=\"80\" y2=\"70\" style=\"stroke-width:2\" />\n",
       "  <line x1=\"35\" y1=\"0\" x2=\"106\" y2=\"70\" style=\"stroke-width:2\" />\n",
       "\n",
       "  <!-- Colored Rectangle -->\n",
       "  <polygon points=\"10.000000,0.000000 35.412617,0.000000 106.000852,70.588235 80.588235,70.588235\" style=\"fill:#ECB172A0;stroke-width:0\"/>\n",
       "\n",
       "  <!-- Horizontal lines -->\n",
       "  <line x1=\"80\" y1=\"70\" x2=\"106\" y2=\"70\" style=\"stroke-width:2\" />\n",
       "  <line x1=\"80\" y1=\"78\" x2=\"106\" y2=\"78\" />\n",
       "  <line x1=\"80\" y1=\"87\" x2=\"106\" y2=\"87\" />\n",
       "  <line x1=\"80\" y1=\"95\" x2=\"106\" y2=\"95\" />\n",
       "  <line x1=\"80\" y1=\"96\" x2=\"106\" y2=\"96\" style=\"stroke-width:2\" />\n",
       "\n",
       "  <!-- Vertical lines -->\n",
       "  <line x1=\"80\" y1=\"70\" x2=\"80\" y2=\"96\" style=\"stroke-width:2\" />\n",
       "  <line x1=\"106\" y1=\"70\" x2=\"106\" y2=\"96\" style=\"stroke-width:2\" />\n",
       "\n",
       "  <!-- Colored Rectangle -->\n",
       "  <polygon points=\"80.588235,70.588235 106.000852,70.588235 106.000852,96.000852 80.588235,96.000852\" style=\"fill:#ECB172A0;stroke-width:0\"/>\n",
       "\n",
       "  <!-- Text -->\n",
       "  <text x=\"93.294544\" y=\"116.000852\" font-size=\"1.0rem\" font-weight=\"100\" text-anchor=\"middle\" >2</text>\n",
       "  <text x=\"126.000852\" y=\"83.294544\" font-size=\"1.0rem\" font-weight=\"100\" text-anchor=\"middle\" transform=\"rotate(-90,126.000852,83.294544)\">303</text>\n",
       "  <text x=\"35.294118\" y=\"80.706734\" font-size=\"1.0rem\" font-weight=\"100\" text-anchor=\"middle\" transform=\"rotate(45,35.294118,80.706734)\">60132453</text>\n",
       "</svg>\n",
       "</td>\n",
       "</tr>\n",
       "</table>"
      ],
      "text/plain": [
       "dask.array<array, shape=(60132453, 303, 2), dtype=int8, chunksize=(600000, 100, 2), chunktype=numpy.ndarray>"
      ]
     },
     "execution_count": 25,
     "metadata": {},
     "output_type": "execute_result"
    }
   ],
   "source": [
    "d = da.from_array(a)\n",
    "d"
   ]
  },
  {
   "cell_type": "code",
   "execution_count": 26,
   "metadata": {},
   "outputs": [
    {
     "data": {
      "text/plain": [
       "-755139871"
      ]
     },
     "execution_count": 26,
     "metadata": {},
     "output_type": "execute_result"
    }
   ],
   "source": [
    "d.sum().compute()"
   ]
  },
  {
   "cell_type": "code",
   "execution_count": 27,
   "metadata": {},
   "outputs": [
    {
     "data": {
      "text/html": [
       "<div class=\"allel allel-DisplayAs2D\"><span>&lt;GenotypeDaskArray shape=(60132453, 303, 2) dtype=int8&gt;</span><table><thead><tr><th></th><th style=\"text-align: center\">0</th><th style=\"text-align: center\">1</th><th style=\"text-align: center\">2</th><th style=\"text-align: center\">3</th><th style=\"text-align: center\">4</th><th style=\"text-align: center\">...</th><th style=\"text-align: center\">298</th><th style=\"text-align: center\">299</th><th style=\"text-align: center\">300</th><th style=\"text-align: center\">301</th><th style=\"text-align: center\">302</th></tr></thead><tbody><tr><th style=\"text-align: center; background-color: white; border-right: 1px solid black; \">0</th><td style=\"text-align: center\">0/0</td><td style=\"text-align: center\">0/0</td><td style=\"text-align: center\">0/0</td><td style=\"text-align: center\">0/0</td><td style=\"text-align: center\">0/0</td><td style=\"text-align: center\">...</td><td style=\"text-align: center\">./.</td><td style=\"text-align: center\">0/0</td><td style=\"text-align: center\">0/0</td><td style=\"text-align: center\">0/0</td><td style=\"text-align: center\">0/0</td></tr><tr><th style=\"text-align: center; background-color: white; border-right: 1px solid black; \">1</th><td style=\"text-align: center\">0/0</td><td style=\"text-align: center\">0/0</td><td style=\"text-align: center\">0/0</td><td style=\"text-align: center\">0/0</td><td style=\"text-align: center\">0/0</td><td style=\"text-align: center\">...</td><td style=\"text-align: center\">./.</td><td style=\"text-align: center\">0/0</td><td style=\"text-align: center\">0/0</td><td style=\"text-align: center\">0/0</td><td style=\"text-align: center\">0/0</td></tr><tr><th style=\"text-align: center; background-color: white; border-right: 1px solid black; \">2</th><td style=\"text-align: center\">0/0</td><td style=\"text-align: center\">0/0</td><td style=\"text-align: center\">0/0</td><td style=\"text-align: center\">0/0</td><td style=\"text-align: center\">0/0</td><td style=\"text-align: center\">...</td><td style=\"text-align: center\">./.</td><td style=\"text-align: center\">0/0</td><td style=\"text-align: center\">0/0</td><td style=\"text-align: center\">0/0</td><td style=\"text-align: center\">0/0</td></tr><tr><th style=\"text-align: center; background-color: white; border-right: 1px solid black; \">...</th><td style=\"text-align: center\" colspan=\"12\">...</td></tr><tr><th style=\"text-align: center; background-color: white; border-right: 1px solid black; \">60132450</th><td style=\"text-align: center\">./.</td><td style=\"text-align: center\">./.</td><td style=\"text-align: center\">./.</td><td style=\"text-align: center\">./.</td><td style=\"text-align: center\">./.</td><td style=\"text-align: center\">...</td><td style=\"text-align: center\">./.</td><td style=\"text-align: center\">./.</td><td style=\"text-align: center\">./.</td><td style=\"text-align: center\">./.</td><td style=\"text-align: center\">./.</td></tr><tr><th style=\"text-align: center; background-color: white; border-right: 1px solid black; \">60132451</th><td style=\"text-align: center\">./.</td><td style=\"text-align: center\">./.</td><td style=\"text-align: center\">./.</td><td style=\"text-align: center\">./.</td><td style=\"text-align: center\">./.</td><td style=\"text-align: center\">...</td><td style=\"text-align: center\">./.</td><td style=\"text-align: center\">./.</td><td style=\"text-align: center\">./.</td><td style=\"text-align: center\">./.</td><td style=\"text-align: center\">./.</td></tr><tr><th style=\"text-align: center; background-color: white; border-right: 1px solid black; \">60132452</th><td style=\"text-align: center\">./.</td><td style=\"text-align: center\">./.</td><td style=\"text-align: center\">./.</td><td style=\"text-align: center\">./.</td><td style=\"text-align: center\">./.</td><td style=\"text-align: center\">...</td><td style=\"text-align: center\">./.</td><td style=\"text-align: center\">./.</td><td style=\"text-align: center\">./.</td><td style=\"text-align: center\">./.</td><td style=\"text-align: center\">./.</td></tr></tbody></table></div>"
      ],
      "text/plain": [
       "<GenotypeDaskArray shape=(60132453, 303, 2) dtype=int8>"
      ]
     },
     "execution_count": 27,
     "metadata": {},
     "output_type": "execute_result"
    }
   ],
   "source": [
    "gt = allel.GenotypeDaskArray(a)\n",
    "gt"
   ]
  },
  {
   "cell_type": "code",
   "execution_count": 28,
   "metadata": {},
   "outputs": [
    {
     "data": {
      "text/html": [
       "<div class=\"allel allel-DisplayAs2D\"><span>&lt;AlleleCountsArray shape=(60132453, 4) dtype=int32&gt;</span><table><thead><tr><th></th><th style=\"text-align: center\">0</th><th style=\"text-align: center\">1</th><th style=\"text-align: center\">2</th><th style=\"text-align: center\">3</th></tr></thead><tbody><tr><th style=\"text-align: center; background-color: white; border-right: 1px solid black; \">0</th><td style=\"text-align: center\">590</td><td style=\"text-align: center\">  0</td><td style=\"text-align: center\">  0</td><td style=\"text-align: center\">  0</td></tr><tr><th style=\"text-align: center; background-color: white; border-right: 1px solid black; \">1</th><td style=\"text-align: center\">598</td><td style=\"text-align: center\">  0</td><td style=\"text-align: center\">  0</td><td style=\"text-align: center\">  0</td></tr><tr><th style=\"text-align: center; background-color: white; border-right: 1px solid black; \">2</th><td style=\"text-align: center\">595</td><td style=\"text-align: center\">  2</td><td style=\"text-align: center\">  1</td><td style=\"text-align: center\">  0</td></tr><tr><th style=\"text-align: center; background-color: white; border-right: 1px solid black; \">...</th><td style=\"text-align: center\" colspan=\"5\">...</td></tr><tr><th style=\"text-align: center; background-color: white; border-right: 1px solid black; \">60132450</th><td style=\"text-align: center\">0</td><td style=\"text-align: center\">0</td><td style=\"text-align: center\">0</td><td style=\"text-align: center\">0</td></tr><tr><th style=\"text-align: center; background-color: white; border-right: 1px solid black; \">60132451</th><td style=\"text-align: center\">0</td><td style=\"text-align: center\">0</td><td style=\"text-align: center\">0</td><td style=\"text-align: center\">0</td></tr><tr><th style=\"text-align: center; background-color: white; border-right: 1px solid black; \">60132452</th><td style=\"text-align: center\">0</td><td style=\"text-align: center\">0</td><td style=\"text-align: center\">0</td><td style=\"text-align: center\">0</td></tr></tbody></table></div>"
      ],
      "text/plain": [
       "<AlleleCountsArray shape=(60132453, 4) dtype=int32>\n",
       "590   0   0   0\n",
       "598   0   0   0\n",
       "595   2   1   0\n",
       "...\n",
       "0 0 0 0\n",
       "0 0 0 0\n",
       "0 0 0 0"
      ]
     },
     "execution_count": 28,
     "metadata": {},
     "output_type": "execute_result"
    }
   ],
   "source": [
    "ac = gt.count_alleles(max_allele=3).compute()\n",
    "ac"
   ]
  },
  {
   "cell_type": "code",
   "execution_count": 29,
   "metadata": {},
   "outputs": [
    {
     "data": {
      "text/plain": [
       "18536100"
      ]
     },
     "execution_count": 29,
     "metadata": {},
     "output_type": "execute_result"
    }
   ],
   "source": [
    "ac.is_segregating().sum()"
   ]
  },
  {
   "cell_type": "code",
   "execution_count": 30,
   "metadata": {},
   "outputs": [
    {
     "data": {
      "text/html": [
       "<table>\n",
       "<tr>\n",
       "<td>\n",
       "<table>\n",
       "  <thead>\n",
       "    <tr><td> </td><th> Array </th><th> Chunk </th></tr>\n",
       "  </thead>\n",
       "  <tbody>\n",
       "    <tr><th> Bytes </th><td> 36.44 GB </td> <td> 120.00 MB </td></tr>\n",
       "    <tr><th> Shape </th><td> (60132453, 303) </td> <td> (600000, 100) </td></tr>\n",
       "    <tr><th> Count </th><td> 405 Tasks </td><td> 404 Chunks </td></tr>\n",
       "    <tr><th> Type </th><td> int16 </td><td> numpy.ndarray </td></tr>\n",
       "  </tbody>\n",
       "</table>\n",
       "</td>\n",
       "<td>\n",
       "<svg width=\"75\" height=\"170\" style=\"stroke:rgb(0,0,0);stroke-width:1\" >\n",
       "\n",
       "  <!-- Horizontal lines -->\n",
       "  <line x1=\"0\" y1=\"0\" x2=\"25\" y2=\"0\" style=\"stroke-width:2\" />\n",
       "  <line x1=\"0\" y1=\"1\" x2=\"25\" y2=\"1\" />\n",
       "  <line x1=\"0\" y1=\"2\" x2=\"25\" y2=\"2\" />\n",
       "  <line x1=\"0\" y1=\"3\" x2=\"25\" y2=\"3\" />\n",
       "  <line x1=\"0\" y1=\"4\" x2=\"25\" y2=\"4\" />\n",
       "  <line x1=\"0\" y1=\"5\" x2=\"25\" y2=\"5\" />\n",
       "  <line x1=\"0\" y1=\"7\" x2=\"25\" y2=\"7\" />\n",
       "  <line x1=\"0\" y1=\"8\" x2=\"25\" y2=\"8\" />\n",
       "  <line x1=\"0\" y1=\"9\" x2=\"25\" y2=\"9\" />\n",
       "  <line x1=\"0\" y1=\"10\" x2=\"25\" y2=\"10\" />\n",
       "  <line x1=\"0\" y1=\"11\" x2=\"25\" y2=\"11\" />\n",
       "  <line x1=\"0\" y1=\"13\" x2=\"25\" y2=\"13\" />\n",
       "  <line x1=\"0\" y1=\"14\" x2=\"25\" y2=\"14\" />\n",
       "  <line x1=\"0\" y1=\"15\" x2=\"25\" y2=\"15\" />\n",
       "  <line x1=\"0\" y1=\"16\" x2=\"25\" y2=\"16\" />\n",
       "  <line x1=\"0\" y1=\"17\" x2=\"25\" y2=\"17\" />\n",
       "  <line x1=\"0\" y1=\"19\" x2=\"25\" y2=\"19\" />\n",
       "  <line x1=\"0\" y1=\"20\" x2=\"25\" y2=\"20\" />\n",
       "  <line x1=\"0\" y1=\"21\" x2=\"25\" y2=\"21\" />\n",
       "  <line x1=\"0\" y1=\"22\" x2=\"25\" y2=\"22\" />\n",
       "  <line x1=\"0\" y1=\"23\" x2=\"25\" y2=\"23\" />\n",
       "  <line x1=\"0\" y1=\"25\" x2=\"25\" y2=\"25\" />\n",
       "  <line x1=\"0\" y1=\"26\" x2=\"25\" y2=\"26\" />\n",
       "  <line x1=\"0\" y1=\"27\" x2=\"25\" y2=\"27\" />\n",
       "  <line x1=\"0\" y1=\"28\" x2=\"25\" y2=\"28\" />\n",
       "  <line x1=\"0\" y1=\"29\" x2=\"25\" y2=\"29\" />\n",
       "  <line x1=\"0\" y1=\"31\" x2=\"25\" y2=\"31\" />\n",
       "  <line x1=\"0\" y1=\"32\" x2=\"25\" y2=\"32\" />\n",
       "  <line x1=\"0\" y1=\"33\" x2=\"25\" y2=\"33\" />\n",
       "  <line x1=\"0\" y1=\"34\" x2=\"25\" y2=\"34\" />\n",
       "  <line x1=\"0\" y1=\"35\" x2=\"25\" y2=\"35\" />\n",
       "  <line x1=\"0\" y1=\"37\" x2=\"25\" y2=\"37\" />\n",
       "  <line x1=\"0\" y1=\"38\" x2=\"25\" y2=\"38\" />\n",
       "  <line x1=\"0\" y1=\"39\" x2=\"25\" y2=\"39\" />\n",
       "  <line x1=\"0\" y1=\"40\" x2=\"25\" y2=\"40\" />\n",
       "  <line x1=\"0\" y1=\"41\" x2=\"25\" y2=\"41\" />\n",
       "  <line x1=\"0\" y1=\"43\" x2=\"25\" y2=\"43\" />\n",
       "  <line x1=\"0\" y1=\"44\" x2=\"25\" y2=\"44\" />\n",
       "  <line x1=\"0\" y1=\"45\" x2=\"25\" y2=\"45\" />\n",
       "  <line x1=\"0\" y1=\"46\" x2=\"25\" y2=\"46\" />\n",
       "  <line x1=\"0\" y1=\"47\" x2=\"25\" y2=\"47\" />\n",
       "  <line x1=\"0\" y1=\"49\" x2=\"25\" y2=\"49\" />\n",
       "  <line x1=\"0\" y1=\"50\" x2=\"25\" y2=\"50\" />\n",
       "  <line x1=\"0\" y1=\"51\" x2=\"25\" y2=\"51\" />\n",
       "  <line x1=\"0\" y1=\"52\" x2=\"25\" y2=\"52\" />\n",
       "  <line x1=\"0\" y1=\"53\" x2=\"25\" y2=\"53\" />\n",
       "  <line x1=\"0\" y1=\"55\" x2=\"25\" y2=\"55\" />\n",
       "  <line x1=\"0\" y1=\"56\" x2=\"25\" y2=\"56\" />\n",
       "  <line x1=\"0\" y1=\"57\" x2=\"25\" y2=\"57\" />\n",
       "  <line x1=\"0\" y1=\"58\" x2=\"25\" y2=\"58\" />\n",
       "  <line x1=\"0\" y1=\"59\" x2=\"25\" y2=\"59\" />\n",
       "  <line x1=\"0\" y1=\"61\" x2=\"25\" y2=\"61\" />\n",
       "  <line x1=\"0\" y1=\"62\" x2=\"25\" y2=\"62\" />\n",
       "  <line x1=\"0\" y1=\"63\" x2=\"25\" y2=\"63\" />\n",
       "  <line x1=\"0\" y1=\"64\" x2=\"25\" y2=\"64\" />\n",
       "  <line x1=\"0\" y1=\"65\" x2=\"25\" y2=\"65\" />\n",
       "  <line x1=\"0\" y1=\"67\" x2=\"25\" y2=\"67\" />\n",
       "  <line x1=\"0\" y1=\"68\" x2=\"25\" y2=\"68\" />\n",
       "  <line x1=\"0\" y1=\"69\" x2=\"25\" y2=\"69\" />\n",
       "  <line x1=\"0\" y1=\"70\" x2=\"25\" y2=\"70\" />\n",
       "  <line x1=\"0\" y1=\"71\" x2=\"25\" y2=\"71\" />\n",
       "  <line x1=\"0\" y1=\"73\" x2=\"25\" y2=\"73\" />\n",
       "  <line x1=\"0\" y1=\"74\" x2=\"25\" y2=\"74\" />\n",
       "  <line x1=\"0\" y1=\"75\" x2=\"25\" y2=\"75\" />\n",
       "  <line x1=\"0\" y1=\"76\" x2=\"25\" y2=\"76\" />\n",
       "  <line x1=\"0\" y1=\"77\" x2=\"25\" y2=\"77\" />\n",
       "  <line x1=\"0\" y1=\"79\" x2=\"25\" y2=\"79\" />\n",
       "  <line x1=\"0\" y1=\"80\" x2=\"25\" y2=\"80\" />\n",
       "  <line x1=\"0\" y1=\"81\" x2=\"25\" y2=\"81\" />\n",
       "  <line x1=\"0\" y1=\"82\" x2=\"25\" y2=\"82\" />\n",
       "  <line x1=\"0\" y1=\"83\" x2=\"25\" y2=\"83\" />\n",
       "  <line x1=\"0\" y1=\"85\" x2=\"25\" y2=\"85\" />\n",
       "  <line x1=\"0\" y1=\"86\" x2=\"25\" y2=\"86\" />\n",
       "  <line x1=\"0\" y1=\"87\" x2=\"25\" y2=\"87\" />\n",
       "  <line x1=\"0\" y1=\"88\" x2=\"25\" y2=\"88\" />\n",
       "  <line x1=\"0\" y1=\"89\" x2=\"25\" y2=\"89\" />\n",
       "  <line x1=\"0\" y1=\"90\" x2=\"25\" y2=\"90\" />\n",
       "  <line x1=\"0\" y1=\"92\" x2=\"25\" y2=\"92\" />\n",
       "  <line x1=\"0\" y1=\"93\" x2=\"25\" y2=\"93\" />\n",
       "  <line x1=\"0\" y1=\"94\" x2=\"25\" y2=\"94\" />\n",
       "  <line x1=\"0\" y1=\"95\" x2=\"25\" y2=\"95\" />\n",
       "  <line x1=\"0\" y1=\"96\" x2=\"25\" y2=\"96\" />\n",
       "  <line x1=\"0\" y1=\"98\" x2=\"25\" y2=\"98\" />\n",
       "  <line x1=\"0\" y1=\"99\" x2=\"25\" y2=\"99\" />\n",
       "  <line x1=\"0\" y1=\"100\" x2=\"25\" y2=\"100\" />\n",
       "  <line x1=\"0\" y1=\"101\" x2=\"25\" y2=\"101\" />\n",
       "  <line x1=\"0\" y1=\"102\" x2=\"25\" y2=\"102\" />\n",
       "  <line x1=\"0\" y1=\"104\" x2=\"25\" y2=\"104\" />\n",
       "  <line x1=\"0\" y1=\"105\" x2=\"25\" y2=\"105\" />\n",
       "  <line x1=\"0\" y1=\"106\" x2=\"25\" y2=\"106\" />\n",
       "  <line x1=\"0\" y1=\"107\" x2=\"25\" y2=\"107\" />\n",
       "  <line x1=\"0\" y1=\"108\" x2=\"25\" y2=\"108\" />\n",
       "  <line x1=\"0\" y1=\"110\" x2=\"25\" y2=\"110\" />\n",
       "  <line x1=\"0\" y1=\"111\" x2=\"25\" y2=\"111\" />\n",
       "  <line x1=\"0\" y1=\"112\" x2=\"25\" y2=\"112\" />\n",
       "  <line x1=\"0\" y1=\"113\" x2=\"25\" y2=\"113\" />\n",
       "  <line x1=\"0\" y1=\"114\" x2=\"25\" y2=\"114\" />\n",
       "  <line x1=\"0\" y1=\"116\" x2=\"25\" y2=\"116\" />\n",
       "  <line x1=\"0\" y1=\"117\" x2=\"25\" y2=\"117\" />\n",
       "  <line x1=\"0\" y1=\"118\" x2=\"25\" y2=\"118\" />\n",
       "  <line x1=\"0\" y1=\"119\" x2=\"25\" y2=\"119\" />\n",
       "  <line x1=\"0\" y1=\"120\" x2=\"25\" y2=\"120\" style=\"stroke-width:2\" />\n",
       "\n",
       "  <!-- Vertical lines -->\n",
       "  <line x1=\"0\" y1=\"0\" x2=\"0\" y2=\"120\" style=\"stroke-width:2\" />\n",
       "  <line x1=\"8\" y1=\"0\" x2=\"8\" y2=\"120\" />\n",
       "  <line x1=\"16\" y1=\"0\" x2=\"16\" y2=\"120\" />\n",
       "  <line x1=\"25\" y1=\"0\" x2=\"25\" y2=\"120\" />\n",
       "  <line x1=\"25\" y1=\"0\" x2=\"25\" y2=\"120\" style=\"stroke-width:2\" />\n",
       "\n",
       "  <!-- Colored Rectangle -->\n",
       "  <polygon points=\"0.000000,0.000000 25.412617,0.000000 25.412617,120.000000 0.000000,120.000000\" style=\"fill:#ECB172A0;stroke-width:0\"/>\n",
       "\n",
       "  <!-- Text -->\n",
       "  <text x=\"12.706308\" y=\"140.000000\" font-size=\"1.0rem\" font-weight=\"100\" text-anchor=\"middle\" >303</text>\n",
       "  <text x=\"45.412617\" y=\"60.000000\" font-size=\"1.0rem\" font-weight=\"100\" text-anchor=\"middle\" transform=\"rotate(-90,45.412617,60.000000)\">60132453</text>\n",
       "</svg>\n",
       "</td>\n",
       "</tr>\n",
       "</table>"
      ],
      "text/plain": [
       "dask.array<array, shape=(60132453, 303), dtype=int16, chunksize=(600000, 100), chunktype=numpy.ndarray>"
      ]
     },
     "execution_count": 30,
     "metadata": {},
     "output_type": "execute_result"
    }
   ],
   "source": [
    "gq = da.from_array(genotypes['2R/calldata/GQ'])\n",
    "gq"
   ]
  },
  {
   "cell_type": "code",
   "execution_count": 31,
   "metadata": {},
   "outputs": [],
   "source": [
    "import numpy as np"
   ]
  },
  {
   "cell_type": "code",
   "execution_count": 32,
   "metadata": {},
   "outputs": [],
   "source": [
    "bins = np.arange(-1, 100, 1)"
   ]
  },
  {
   "cell_type": "code",
   "execution_count": 33,
   "metadata": {},
   "outputs": [],
   "source": [
    "h, bins = da.histogram(gq.ravel(), bins=bins)\n",
    "h = h.compute()"
   ]
  },
  {
   "cell_type": "code",
   "execution_count": 47,
   "metadata": {},
   "outputs": [],
   "source": [
    "import matplotlib.pyplot as plt\n",
    "%matplotlib inline\n",
    "import seaborn as sns"
   ]
  },
  {
   "cell_type": "code",
   "execution_count": 35,
   "metadata": {},
   "outputs": [
    {
     "data": {
      "text/plain": [
       "<BarContainer object of 100 artists>"
      ]
     },
     "execution_count": 35,
     "metadata": {},
     "output_type": "execute_result"
    },
    {
     "data": {
      "image/png": "[encoded data removed]",
      "text/plain": [
       "<Figure size 432x288 with 1 Axes>"
      ]
     },
     "metadata": {
      "needs_background": "light"
     },
     "output_type": "display_data"
    }
   ],
   "source": [
    "plt.bar(bins[:-1], h, width=1)"
   ]
  },
  {
   "cell_type": "code",
   "execution_count": 40,
   "metadata": {},
   "outputs": [
    {
     "data": {
      "text/plain": [
       "array([       1,        2,        3, ..., 61545103, 61545104, 61545105],\n",
       "      dtype=int32)"
      ]
     },
     "execution_count": 40,
     "metadata": {},
     "output_type": "execute_result"
    }
   ],
   "source": [
    "pos = sites['2R/variants/POS'][:]\n",
    "pos"
   ]
  },
  {
   "cell_type": "code",
   "execution_count": 41,
   "metadata": {},
   "outputs": [
    {
     "data": {
      "text/plain": [
       "array([False, False,  True, ..., False, False, False])"
      ]
     },
     "execution_count": 41,
     "metadata": {},
     "output_type": "execute_result"
    }
   ],
   "source": [
    "is_seg = ac.is_segregating()\n",
    "is_seg"
   ]
  },
  {
   "cell_type": "code",
   "execution_count": 42,
   "metadata": {},
   "outputs": [
    {
     "data": {
      "text/plain": [
       "((60132453,), (60132453,))"
      ]
     },
     "execution_count": 42,
     "metadata": {},
     "output_type": "execute_result"
    }
   ],
   "source": [
    "pos.shape, is_seg.shape"
   ]
  },
  {
   "cell_type": "code",
   "execution_count": 43,
   "metadata": {},
   "outputs": [
    {
     "data": {
      "text/plain": [
       "array([       3,        6,        8, ..., 61545043, 61545049, 61545052],\n",
       "      dtype=int32)"
      ]
     },
     "execution_count": 43,
     "metadata": {},
     "output_type": "execute_result"
    }
   ],
   "source": [
    "pos_seg = pos[is_seg]\n",
    "pos_seg"
   ]
  },
  {
   "cell_type": "code",
   "execution_count": 49,
   "metadata": {},
   "outputs": [
    {
     "data": {
      "image/png": "[encoded data removed]",
      "text/plain": [
       "<Figure size 648x144 with 1 Axes>"
      ]
     },
     "metadata": {
      "needs_background": "light"
     },
     "output_type": "display_data"
    }
   ],
   "source": [
    "bin_width = 100_000\n",
    "bins = np.arange(0, pos_seg.max(), bin_width)\n",
    "x = (bins[1:] + bins[:-1])/2\n",
    "# compute variant density\n",
    "h, _ = np.histogram(pos_seg, bins=bins)\n",
    "y = h / bin_width\n",
    "fig, ax = plt.subplots(figsize=(9, 2))\n",
    "sns.despine(ax=ax, offset=5)\n",
    "ax.plot(x, y)\n",
    "ax.set_xlabel('Position (bp)')\n",
    "ax.set_ylabel('Density (bp$^{-1}$)')\n",
    "ax.set_title('Segregating SNP density (unfiltered)');"
   ]
  },
  {
   "cell_type": "markdown",
   "metadata": {},
   "source": [
    "## Site filters"
   ]
  },
  {
   "cell_type": "code",
   "execution_count": 79,
   "metadata": {},
   "outputs": [],
   "source": [
    "def load_site_filters(species):\n",
    "    store = gcs.get_mapper(release_path + f'/site_filters/dt_20200416/{species}')\n",
    "    site_filters = zarr.open_consolidated(store=store)\n",
    "    return site_filters\n",
    "    "
   ]
  },
  {
   "cell_type": "code",
   "execution_count": 82,
   "metadata": {},
   "outputs": [
    {
     "name": "stdout",
     "output_type": "stream",
     "text": [
      "/\n",
      " ├── 2L\n",
      " │   └── variants\n",
      " │       ├── GQ10 (48525747,) int64\n",
      " │       ├── GQ30 (48525747,) int64\n",
      " │       ├── GQ_mean (48525747,) float64\n",
      " │       ├── GQ_std (48525747,) float64\n",
      " │       ├── MQ10 (48525747,) int64\n",
      " │       ├── MQ30 (48525747,) int64\n",
      " │       ├── MQ_mean (48525747,) float64\n",
      " │       ├── MQ_std (48525747,) float64\n",
      " │       ├── allele_consistency (48525747,) int64\n",
      " │       ├── filter_pass (48525747,) bool\n",
      " │       ├── heterozygosity (48525747,) int64\n",
      " │       ├── hi_cov (48525747,) int64\n",
      " │       ├── hi_gc_normed_cov (48525747,) int64\n",
      " │       ├── lo_cov (48525747,) int64\n",
      " │       ├── lo_gc_normed_cov (48525747,) int64\n",
      " │       ├── no_cov (48525747,) int64\n",
      " │       ├── training_negative (48525747,) bool\n",
      " │       └── training_positive (48525747,) bool\n",
      " ├── 2R\n",
      " │   └── variants\n",
      " │       ├── GQ10 (60132453,) int64\n",
      " │       ├── GQ30 (60132453,) int64\n",
      " │       ├── GQ_mean (60132453,) float64\n",
      " │       ├── GQ_std (60132453,) float64\n",
      " │       ├── MQ10 (60132453,) int64\n",
      " │       ├── MQ30 (60132453,) int64\n",
      " │       ├── MQ_mean (60132453,) float64\n",
      " │       ├── MQ_std (60132453,) float64\n",
      " │       ├── allele_consistency (60132453,) int64\n",
      " │       ├── filter_pass (60132453,) bool\n",
      " │       ├── heterozygosity (60132453,) int64\n",
      " │       ├── hi_cov (60132453,) int64\n",
      " │       ├── hi_gc_normed_cov (60132453,) int64\n",
      " │       ├── lo_cov (60132453,) int64\n",
      " │       ├── lo_gc_normed_cov (60132453,) int64\n",
      " │       ├── no_cov (60132453,) int64\n",
      " │       ├── training_negative (60132453,) bool\n",
      " │       └── training_positive (60132453,) bool\n",
      " ├── 3L\n",
      " │   └── variants\n",
      " │       ├── GQ10 (40758473,) int64\n",
      " │       ├── GQ30 (40758473,) int64\n",
      " │       ├── GQ_mean (40758473,) float64\n",
      " │       ├── GQ_std (40758473,) float64\n",
      " │       ├── MQ10 (40758473,) int64\n",
      " │       ├── MQ30 (40758473,) int64\n",
      " │       ├── MQ_mean (40758473,) float64\n",
      " │       ├── MQ_std (40758473,) float64\n",
      " │       ├── allele_consistency (40758473,) int64\n",
      " │       ├── filter_pass (40758473,) bool\n",
      " │       ├── heterozygosity (40758473,) int64\n",
      " │       ├── hi_cov (40758473,) int64\n",
      " │       ├── hi_gc_normed_cov (40758473,) int64\n",
      " │       ├── lo_cov (40758473,) int64\n",
      " │       ├── lo_gc_normed_cov (40758473,) int64\n",
      " │       ├── no_cov (40758473,) int64\n",
      " │       ├── training_negative (40758473,) bool\n",
      " │       └── training_positive (40758473,) bool\n",
      " ├── 3R\n",
      " │   └── variants\n",
      " │       ├── GQ10 (52226568,) int64\n",
      " │       ├── GQ30 (52226568,) int64\n",
      " │       ├── GQ_mean (52226568,) float64\n",
      " │       ├── GQ_std (52226568,) float64\n",
      " │       ├── MQ10 (52226568,) int64\n",
      " │       ├── MQ30 (52226568,) int64\n",
      " │       ├── MQ_mean (52226568,) float64\n",
      " │       ├── MQ_std (52226568,) float64\n",
      " │       ├── allele_consistency (52226568,) int64\n",
      " │       ├── filter_pass (52226568,) bool\n",
      " │       ├── heterozygosity (52226568,) int64\n",
      " │       ├── hi_cov (52226568,) int64\n",
      " │       ├── hi_gc_normed_cov (52226568,) int64\n",
      " │       ├── lo_cov (52226568,) int64\n",
      " │       ├── lo_gc_normed_cov (52226568,) int64\n",
      " │       ├── no_cov (52226568,) int64\n",
      " │       ├── training_negative (52226568,) bool\n",
      " │       └── training_positive (52226568,) bool\n",
      " └── X\n",
      "     └── variants\n",
      "         ├── GQ10 (23385349,) int64\n",
      "         ├── GQ30 (23385349,) int64\n",
      "         ├── GQ_mean (23385349,) float64\n",
      "         ├── GQ_std (23385349,) float64\n",
      "         ├── MQ10 (23385349,) int64\n",
      "         ├── MQ30 (23385349,) int64\n",
      "         ├── MQ_mean (23385349,) float64\n",
      "         ├── MQ_std (23385349,) float64\n",
      "         ├── allele_consistency (23385349,) int64\n",
      "         ├── filter_pass (23385349,) bool\n",
      "         ├── heterozygosity (23385349,) int64\n",
      "         ├── hi_cov (23385349,) int64\n",
      "         ├── hi_gc_normed_cov (23385349,) int64\n",
      "         ├── lo_cov (23385349,) int64\n",
      "         ├── lo_gc_normed_cov (23385349,) int64\n",
      "         └── no_cov (23385349,) int64\n"
     ]
    }
   ],
   "source": [
    "site_filters = load_site_filters('gamb_colu')\n",
    "print(site_filters.tree())"
   ]
  },
  {
   "cell_type": "code",
   "execution_count": 80,
   "metadata": {},
   "outputs": [],
   "source": [
    "site_filters = load_site_filters('gamb_colu_arab')"
   ]
  },
  {
   "cell_type": "code",
   "execution_count": 81,
   "metadata": {},
   "outputs": [
    {
     "name": "stdout",
     "output_type": "stream",
     "text": [
      "/\n",
      " ├── 2L\n",
      " │   └── variants\n",
      " │       └── filter_pass (48525747,) bool\n",
      " ├── 2R\n",
      " │   └── variants\n",
      " │       └── filter_pass (60132453,) bool\n",
      " ├── 3L\n",
      " │   └── variants\n",
      " │       └── filter_pass (40758473,) bool\n",
      " ├── 3R\n",
      " │   └── variants\n",
      " │       └── filter_pass (52226568,) bool\n",
      " └── X\n",
      "     └── variants\n",
      "         └── filter_pass (23385349,) bool\n"
     ]
    }
   ],
   "source": [
    "print(site_filters.tree())"
   ]
  },
  {
   "cell_type": "code",
   "execution_count": 54,
   "metadata": {},
   "outputs": [
    {
     "data": {
      "text/plain": [
       "array([False, False, False, ..., False, False, False])"
      ]
     },
     "execution_count": 54,
     "metadata": {},
     "output_type": "execute_result"
    }
   ],
   "source": [
    "filter_pass = site_filters['2R/variants/filter_pass'][:]\n",
    "filter_pass"
   ]
  },
  {
   "cell_type": "code",
   "execution_count": 56,
   "metadata": {},
   "outputs": [
    {
     "data": {
      "text/plain": [
       "(60132453,)"
      ]
     },
     "execution_count": 56,
     "metadata": {},
     "output_type": "execute_result"
    }
   ],
   "source": [
    "filter_pass.shape"
   ]
  },
  {
   "cell_type": "code",
   "execution_count": 57,
   "metadata": {},
   "outputs": [
    {
     "data": {
      "text/plain": [
       "(60132453,)"
      ]
     },
     "execution_count": 57,
     "metadata": {},
     "output_type": "execute_result"
    }
   ],
   "source": [
    "pos.shape"
   ]
  },
  {
   "cell_type": "code",
   "execution_count": 58,
   "metadata": {},
   "outputs": [
    {
     "data": {
      "text/plain": [
       "(60132453, 4)"
      ]
     },
     "execution_count": 58,
     "metadata": {},
     "output_type": "execute_result"
    }
   ],
   "source": [
    "ac.shape"
   ]
  },
  {
   "cell_type": "code",
   "execution_count": 59,
   "metadata": {},
   "outputs": [
    {
     "data": {
      "text/plain": [
       "array([     320,      394,      408, ..., 61545086, 61545089, 61545091],\n",
       "      dtype=int32)"
      ]
     },
     "execution_count": 59,
     "metadata": {},
     "output_type": "execute_result"
    }
   ],
   "source": [
    "pos_pass = pos[filter_pass]\n",
    "pos_pass"
   ]
  },
  {
   "cell_type": "code",
   "execution_count": 60,
   "metadata": {},
   "outputs": [
    {
     "data": {
      "text/html": [
       "<div class=\"allel allel-DisplayAs2D\"><span>&lt;AlleleCountsArray shape=(37639393, 4) dtype=int32&gt;</span><table><thead><tr><th></th><th style=\"text-align: center\">0</th><th style=\"text-align: center\">1</th><th style=\"text-align: center\">2</th><th style=\"text-align: center\">3</th></tr></thead><tbody><tr><th style=\"text-align: center; background-color: white; border-right: 1px solid black; \">0</th><td style=\"text-align: center\">606</td><td style=\"text-align: center\">  0</td><td style=\"text-align: center\">  0</td><td style=\"text-align: center\">  0</td></tr><tr><th style=\"text-align: center; background-color: white; border-right: 1px solid black; \">1</th><td style=\"text-align: center\">606</td><td style=\"text-align: center\">  0</td><td style=\"text-align: center\">  0</td><td style=\"text-align: center\">  0</td></tr><tr><th style=\"text-align: center; background-color: white; border-right: 1px solid black; \">2</th><td style=\"text-align: center\"> 64</td><td style=\"text-align: center\">  0</td><td style=\"text-align: center\">  0</td><td style=\"text-align: center\">  0</td></tr><tr><th style=\"text-align: center; background-color: white; border-right: 1px solid black; \">...</th><td style=\"text-align: center\" colspan=\"5\">...</td></tr><tr><th style=\"text-align: center; background-color: white; border-right: 1px solid black; \">37639390</th><td style=\"text-align: center\">8</td><td style=\"text-align: center\">0</td><td style=\"text-align: center\">0</td><td style=\"text-align: center\">0</td></tr><tr><th style=\"text-align: center; background-color: white; border-right: 1px solid black; \">37639391</th><td style=\"text-align: center\">4</td><td style=\"text-align: center\">0</td><td style=\"text-align: center\">0</td><td style=\"text-align: center\">0</td></tr><tr><th style=\"text-align: center; background-color: white; border-right: 1px solid black; \">37639392</th><td style=\"text-align: center\">4</td><td style=\"text-align: center\">0</td><td style=\"text-align: center\">0</td><td style=\"text-align: center\">0</td></tr></tbody></table></div>"
      ],
      "text/plain": [
       "<AlleleCountsArray shape=(37639393, 4) dtype=int32>\n",
       "606   0   0   0\n",
       "606   0   0   0\n",
       " 64   0   0   0\n",
       "...\n",
       "8 0 0 0\n",
       "4 0 0 0\n",
       "4 0 0 0"
      ]
     },
     "execution_count": 60,
     "metadata": {},
     "output_type": "execute_result"
    }
   ],
   "source": [
    "ac_pass = ac[filter_pass]\n",
    "ac_pass"
   ]
  },
  {
   "cell_type": "code",
   "execution_count": 61,
   "metadata": {},
   "outputs": [],
   "source": [
    "is_seg_pass = ac_pass.is_segregating()"
   ]
  },
  {
   "cell_type": "code",
   "execution_count": 66,
   "metadata": {},
   "outputs": [],
   "source": [
    "pos_seg_pass = pos_pass[is_seg_pass]"
   ]
  },
  {
   "cell_type": "code",
   "execution_count": 67,
   "metadata": {},
   "outputs": [
    {
     "data": {
      "text/plain": [
       "(37639393,)"
      ]
     },
     "execution_count": 67,
     "metadata": {},
     "output_type": "execute_result"
    }
   ],
   "source": [
    "is_seg_pass.shape"
   ]
  },
  {
   "cell_type": "code",
   "execution_count": 68,
   "metadata": {},
   "outputs": [
    {
     "data": {
      "text/plain": [
       "(37639393,)"
      ]
     },
     "execution_count": 68,
     "metadata": {},
     "output_type": "execute_result"
    }
   ],
   "source": [
    "pos_pass.shape"
   ]
  },
  {
   "cell_type": "code",
   "execution_count": 69,
   "metadata": {},
   "outputs": [
    {
     "data": {
      "text/plain": [
       "(9477011,)"
      ]
     },
     "execution_count": 69,
     "metadata": {},
     "output_type": "execute_result"
    }
   ],
   "source": [
    "pos_seg_pass.shape"
   ]
  },
  {
   "cell_type": "code",
   "execution_count": 62,
   "metadata": {},
   "outputs": [
    {
     "data": {
      "text/plain": [
       "array([590, 598, 598, ...,   0,   0,   0])"
      ]
     },
     "execution_count": 62,
     "metadata": {},
     "output_type": "execute_result"
    }
   ],
   "source": [
    "an = ac.sum(axis=1)\n",
    "an"
   ]
  },
  {
   "cell_type": "code",
   "execution_count": 64,
   "metadata": {},
   "outputs": [
    {
     "data": {
      "image/png": "[encoded data removed]",
      "text/plain": [
       "<Figure size 432x288 with 1 Axes>"
      ]
     },
     "metadata": {
      "needs_background": "light"
     },
     "output_type": "display_data"
    }
   ],
   "source": [
    "fig, ax = plt.subplots()\n",
    "ax.hist(an, bins=30)\n",
    "ax.set_xlabel('No. alleles called')\n",
    "ax.set_ylabel('Frequency');"
   ]
  },
  {
   "cell_type": "code",
   "execution_count": 65,
   "metadata": {},
   "outputs": [
    {
     "data": {
      "image/png": "[encoded data removed]",
      "text/plain": [
       "<Figure size 432x288 with 1 Axes>"
      ]
     },
     "metadata": {
      "needs_background": "light"
     },
     "output_type": "display_data"
    }
   ],
   "source": [
    "an_pass = ac_pass.sum(axis=1)\n",
    "fig, ax = plt.subplots()\n",
    "ax.hist(an_pass, bins=30)\n",
    "ax.set_xlabel('No. alleles called')\n",
    "ax.set_ylabel('Frequency');"
   ]
  },
  {
   "cell_type": "code",
   "execution_count": 70,
   "metadata": {},
   "outputs": [
    {
     "data": {
      "image/png": "[encoded data removed]",
      "text/plain": [
       "<Figure size 648x144 with 1 Axes>"
      ]
     },
     "metadata": {
      "needs_background": "light"
     },
     "output_type": "display_data"
    }
   ],
   "source": [
    "bin_width = 100_000\n",
    "bins = np.arange(0, pos_seg.max(), bin_width)\n",
    "x = (bins[1:] + bins[:-1])/2\n",
    "# compute variant density\n",
    "h1, _ = np.histogram(pos_seg_pass, bins=bins)\n",
    "h2, _ = np.histogram(pos_pass, bins=bins)\n",
    "y = h1 / h2\n",
    "fig, ax = plt.subplots(figsize=(9, 2))\n",
    "sns.despine(ax=ax, offset=5)\n",
    "ax.plot(x, y)\n",
    "ax.set_xlabel('Position (bp)')\n",
    "ax.set_ylabel('Density (bp$^{-1}$)')\n",
    "ax.set_title('Segregating SNP density (gamb_colu_arab pass)');"
   ]
  },
  {
   "cell_type": "code",
   "execution_count": 71,
   "metadata": {},
   "outputs": [
    {
     "data": {
      "text/plain": [
       "0.2517843738872197"
      ]
     },
     "execution_count": 71,
     "metadata": {},
     "output_type": "execute_result"
    }
   ],
   "source": [
    "len(pos_seg_pass) / len(pos_pass)"
   ]
  },
  {
   "cell_type": "code",
   "execution_count": 72,
   "metadata": {},
   "outputs": [
    {
     "data": {
      "text/plain": [
       "(60132453, 303, 2)"
      ]
     },
     "execution_count": 72,
     "metadata": {},
     "output_type": "execute_result"
    }
   ],
   "source": [
    "gt.shape"
   ]
  },
  {
   "cell_type": "code",
   "execution_count": 73,
   "metadata": {},
   "outputs": [
    {
     "data": {
      "text/plain": [
       "(60132453,)"
      ]
     },
     "execution_count": 73,
     "metadata": {},
     "output_type": "execute_result"
    }
   ],
   "source": [
    "filter_pass.shape"
   ]
  },
  {
   "cell_type": "code",
   "execution_count": 74,
   "metadata": {},
   "outputs": [
    {
     "data": {
      "text/html": [
       "<div class=\"allel allel-DisplayAs2D\"><span>&lt;GenotypeDaskArray shape=(60132453, 303, 2) dtype=int8&gt;</span><table><thead><tr><th></th><th style=\"text-align: center\">0</th><th style=\"text-align: center\">1</th><th style=\"text-align: center\">2</th><th style=\"text-align: center\">3</th><th style=\"text-align: center\">4</th><th style=\"text-align: center\">...</th><th style=\"text-align: center\">298</th><th style=\"text-align: center\">299</th><th style=\"text-align: center\">300</th><th style=\"text-align: center\">301</th><th style=\"text-align: center\">302</th></tr></thead><tbody><tr><th style=\"text-align: center; background-color: white; border-right: 1px solid black; \">0</th><td style=\"text-align: center\">0/0</td><td style=\"text-align: center\">0/0</td><td style=\"text-align: center\">0/0</td><td style=\"text-align: center\">0/0</td><td style=\"text-align: center\">0/0</td><td style=\"text-align: center\">...</td><td style=\"text-align: center\">./.</td><td style=\"text-align: center\">0/0</td><td style=\"text-align: center\">0/0</td><td style=\"text-align: center\">0/0</td><td style=\"text-align: center\">0/0</td></tr><tr><th style=\"text-align: center; background-color: white; border-right: 1px solid black; \">1</th><td style=\"text-align: center\">0/0</td><td style=\"text-align: center\">0/0</td><td style=\"text-align: center\">0/0</td><td style=\"text-align: center\">0/0</td><td style=\"text-align: center\">0/0</td><td style=\"text-align: center\">...</td><td style=\"text-align: center\">./.</td><td style=\"text-align: center\">0/0</td><td style=\"text-align: center\">0/0</td><td style=\"text-align: center\">0/0</td><td style=\"text-align: center\">0/0</td></tr><tr><th style=\"text-align: center; background-color: white; border-right: 1px solid black; \">2</th><td style=\"text-align: center\">0/0</td><td style=\"text-align: center\">0/0</td><td style=\"text-align: center\">0/0</td><td style=\"text-align: center\">0/0</td><td style=\"text-align: center\">0/0</td><td style=\"text-align: center\">...</td><td style=\"text-align: center\">./.</td><td style=\"text-align: center\">0/0</td><td style=\"text-align: center\">0/0</td><td style=\"text-align: center\">0/0</td><td style=\"text-align: center\">0/0</td></tr><tr><th style=\"text-align: center; background-color: white; border-right: 1px solid black; \">...</th><td style=\"text-align: center\" colspan=\"12\">...</td></tr><tr><th style=\"text-align: center; background-color: white; border-right: 1px solid black; \">60132450</th><td style=\"text-align: center\">./.</td><td style=\"text-align: center\">./.</td><td style=\"text-align: center\">./.</td><td style=\"text-align: center\">./.</td><td style=\"text-align: center\">./.</td><td style=\"text-align: center\">...</td><td style=\"text-align: center\">./.</td><td style=\"text-align: center\">./.</td><td style=\"text-align: center\">./.</td><td style=\"text-align: center\">./.</td><td style=\"text-align: center\">./.</td></tr><tr><th style=\"text-align: center; background-color: white; border-right: 1px solid black; \">60132451</th><td style=\"text-align: center\">./.</td><td style=\"text-align: center\">./.</td><td style=\"text-align: center\">./.</td><td style=\"text-align: center\">./.</td><td style=\"text-align: center\">./.</td><td style=\"text-align: center\">...</td><td style=\"text-align: center\">./.</td><td style=\"text-align: center\">./.</td><td style=\"text-align: center\">./.</td><td style=\"text-align: center\">./.</td><td style=\"text-align: center\">./.</td></tr><tr><th style=\"text-align: center; background-color: white; border-right: 1px solid black; \">60132452</th><td style=\"text-align: center\">./.</td><td style=\"text-align: center\">./.</td><td style=\"text-align: center\">./.</td><td style=\"text-align: center\">./.</td><td style=\"text-align: center\">./.</td><td style=\"text-align: center\">...</td><td style=\"text-align: center\">./.</td><td style=\"text-align: center\">./.</td><td style=\"text-align: center\">./.</td><td style=\"text-align: center\">./.</td><td style=\"text-align: center\">./.</td></tr></tbody></table></div>"
      ],
      "text/plain": [
       "<GenotypeDaskArray shape=(60132453, 303, 2) dtype=int8>"
      ]
     },
     "execution_count": 74,
     "metadata": {},
     "output_type": "execute_result"
    }
   ],
   "source": [
    "gt"
   ]
  },
  {
   "cell_type": "code",
   "execution_count": 75,
   "metadata": {},
   "outputs": [
    {
     "name": "stderr",
     "output_type": "stream",
     "text": [
      "distributed.core - INFO - Event loop was unresponsive in Scheduler for 7.02s.  This is often caused by long-running GIL-holding functions or moving large chunks of data. This can cause timeouts and instability.\n"
     ]
    },
    {
     "data": {
      "text/html": [
       "<div class=\"allel allel-DisplayAs2D\"><span>&lt;AlleleCountsArray shape=(37639393, 4) dtype=int32&gt;</span><table><thead><tr><th></th><th style=\"text-align: center\">0</th><th style=\"text-align: center\">1</th><th style=\"text-align: center\">2</th><th style=\"text-align: center\">3</th></tr></thead><tbody><tr><th style=\"text-align: center; background-color: white; border-right: 1px solid black; \">0</th><td style=\"text-align: center\">606</td><td style=\"text-align: center\">  0</td><td style=\"text-align: center\">  0</td><td style=\"text-align: center\">  0</td></tr><tr><th style=\"text-align: center; background-color: white; border-right: 1px solid black; \">1</th><td style=\"text-align: center\">606</td><td style=\"text-align: center\">  0</td><td style=\"text-align: center\">  0</td><td style=\"text-align: center\">  0</td></tr><tr><th style=\"text-align: center; background-color: white; border-right: 1px solid black; \">2</th><td style=\"text-align: center\"> 64</td><td style=\"text-align: center\">  0</td><td style=\"text-align: center\">  0</td><td style=\"text-align: center\">  0</td></tr><tr><th style=\"text-align: center; background-color: white; border-right: 1px solid black; \">...</th><td style=\"text-align: center\" colspan=\"5\">...</td></tr><tr><th style=\"text-align: center; background-color: white; border-right: 1px solid black; \">37639390</th><td style=\"text-align: center\">8</td><td style=\"text-align: center\">0</td><td style=\"text-align: center\">0</td><td style=\"text-align: center\">0</td></tr><tr><th style=\"text-align: center; background-color: white; border-right: 1px solid black; \">37639391</th><td style=\"text-align: center\">4</td><td style=\"text-align: center\">0</td><td style=\"text-align: center\">0</td><td style=\"text-align: center\">0</td></tr><tr><th style=\"text-align: center; background-color: white; border-right: 1px solid black; \">37639392</th><td style=\"text-align: center\">4</td><td style=\"text-align: center\">0</td><td style=\"text-align: center\">0</td><td style=\"text-align: center\">0</td></tr></tbody></table></div>"
      ],
      "text/plain": [
       "<AlleleCountsArray shape=(37639393, 4) dtype=int32>\n",
       "606   0   0   0\n",
       "606   0   0   0\n",
       " 64   0   0   0\n",
       "...\n",
       "8 0 0 0\n",
       "4 0 0 0\n",
       "4 0 0 0"
      ]
     },
     "execution_count": 75,
     "metadata": {},
     "output_type": "execute_result"
    }
   ],
   "source": [
    "ac_pass_2 = gt[filter_pass].count_alleles(max_allele=3).compute()\n",
    "ac_pass_2"
   ]
  },
  {
   "cell_type": "code",
   "execution_count": 76,
   "metadata": {},
   "outputs": [
    {
     "data": {
      "text/html": [
       "<div class=\"allel allel-DisplayAs2D\"><span>&lt;AlleleCountsArray shape=(37639393, 4) dtype=int32&gt;</span><table><thead><tr><th></th><th style=\"text-align: center\">0</th><th style=\"text-align: center\">1</th><th style=\"text-align: center\">2</th><th style=\"text-align: center\">3</th></tr></thead><tbody><tr><th style=\"text-align: center; background-color: white; border-right: 1px solid black; \">0</th><td style=\"text-align: center\">606</td><td style=\"text-align: center\">  0</td><td style=\"text-align: center\">  0</td><td style=\"text-align: center\">  0</td></tr><tr><th style=\"text-align: center; background-color: white; border-right: 1px solid black; \">1</th><td style=\"text-align: center\">606</td><td style=\"text-align: center\">  0</td><td style=\"text-align: center\">  0</td><td style=\"text-align: center\">  0</td></tr><tr><th style=\"text-align: center; background-color: white; border-right: 1px solid black; \">2</th><td style=\"text-align: center\"> 64</td><td style=\"text-align: center\">  0</td><td style=\"text-align: center\">  0</td><td style=\"text-align: center\">  0</td></tr><tr><th style=\"text-align: center; background-color: white; border-right: 1px solid black; \">...</th><td style=\"text-align: center\" colspan=\"5\">...</td></tr><tr><th style=\"text-align: center; background-color: white; border-right: 1px solid black; \">37639390</th><td style=\"text-align: center\">8</td><td style=\"text-align: center\">0</td><td style=\"text-align: center\">0</td><td style=\"text-align: center\">0</td></tr><tr><th style=\"text-align: center; background-color: white; border-right: 1px solid black; \">37639391</th><td style=\"text-align: center\">4</td><td style=\"text-align: center\">0</td><td style=\"text-align: center\">0</td><td style=\"text-align: center\">0</td></tr><tr><th style=\"text-align: center; background-color: white; border-right: 1px solid black; \">37639392</th><td style=\"text-align: center\">4</td><td style=\"text-align: center\">0</td><td style=\"text-align: center\">0</td><td style=\"text-align: center\">0</td></tr></tbody></table></div>"
      ],
      "text/plain": [
       "<AlleleCountsArray shape=(37639393, 4) dtype=int32>\n",
       "606   0   0   0\n",
       "606   0   0   0\n",
       " 64   0   0   0\n",
       "...\n",
       "8 0 0 0\n",
       "4 0 0 0\n",
       "4 0 0 0"
      ]
     },
     "execution_count": 76,
     "metadata": {},
     "output_type": "execute_result"
    }
   ],
   "source": [
    "ac_pass"
   ]
  },
  {
   "cell_type": "code",
   "execution_count": 77,
   "metadata": {},
   "outputs": [
    {
     "data": {
      "text/plain": [
       "True"
      ]
     },
     "execution_count": 77,
     "metadata": {},
     "output_type": "execute_result"
    }
   ],
   "source": [
    "np.all(ac_pass == ac_pass_2)"
   ]
  },
  {
   "cell_type": "code",
   "execution_count": null,
   "metadata": {},
   "outputs": [],
   "source": []
  }
 ],
 "metadata": {
  "kernelspec": {
   "display_name": "Python 3",
   "language": "python",
   "name": "python3"
  },
  "language_info": {
   "codemirror_mode": {
    "name": "ipython",
    "version": 3
   },
   "file_extension": ".py",
   "mimetype": "text/x-python",
   "name": "python",
   "nbconvert_exporter": "python",
   "pygments_lexer": "ipython3",
   "version": "3.7.6"
  }
 },
 "nbformat": 4,
 "nbformat_minor": 4
}
